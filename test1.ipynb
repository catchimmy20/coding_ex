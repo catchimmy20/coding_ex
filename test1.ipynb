{
 "cells": [
  {
   "cell_type": "code",
   "execution_count": null,
   "metadata": {},
   "outputs": [],
   "source": [
    "slots = [[9,9,8],\n",
    "         [9,8,9],\n",
    "         [8,9,9]]\n",
    "\n",
    "n = len(slots[0])\n",
    "n"
   ]
  },
  {
   "cell_type": "code",
   "execution_count": null,
   "metadata": {},
   "outputs": [],
   "source": [
    "# 겹치는 것이 두개일 경우\n",
    "results = []\n",
    "\n",
    "for j in range(n):\n",
    "    tmp = ''\n",
    "    for i in range(3):\n",
    "        tmp += str(slots[i][j])\n",
    "    results.append(int(tmp))\n",
    "print(max(results))"
   ]
  },
  {
   "cell_type": "code",
   "execution_count": null,
   "metadata": {},
   "outputs": [],
   "source": [
    "slots = [[9,9,9,7],\n",
    "         [9,8,9,7],\n",
    "         [8,9,9,7]]\n",
    "\n",
    "n = len(slots[0])\n",
    "\n",
    "\n",
    "results = []\n",
    "\n",
    "for j in range(n):\n",
    "    tmp = ''\n",
    "    for i in range(3):\n",
    "        tmp += str(slots[i][j])\n",
    "    \n",
    "    tmp = int(tmp)\n",
    "    if tmp % 111 == 0 and tmp//111 != 7: # 슬롯에 나타난 숫자가 같지만 not 7\n",
    "        results.append(1000*(tmp//111))\n",
    "    elif tmp//111 == 7: # 777\n",
    "        results.append(10000)\n",
    "    else:\n",
    "        results.append(tmp)\n",
    "print(max(results))"
   ]
  },
  {
   "cell_type": "code",
   "execution_count": 25,
   "metadata": {},
   "outputs": [
    {
     "name": "stdout",
     "output_type": "stream",
     "text": [
      "998\n",
      "3000\n",
      "10000\n"
     ]
    }
   ],
   "source": [
    "def solution(slots):\n",
    "    n = len(slots[0])\n",
    "    results = []\n",
    "    \n",
    "    for j in range(n):\n",
    "        tmp = ''\n",
    "        for i in range(3):\n",
    "            tmp += str(slots[i][j])\n",
    "        \n",
    "        tmp = int(tmp)\n",
    "        if tmp % 111 == 0 and tmp//111 != 7: # 슬롯에 나타난 숫자가 같지만 not 7\n",
    "            results.append(1000*(tmp//111))\n",
    "        elif tmp//111 == 7: # 777\n",
    "            results.append(10000)\n",
    "        else:\n",
    "            results.append(tmp)\n",
    "    return max(results)\n",
    "\n",
    "testcase = [\n",
    "    [[9,9,8],\n",
    "     [9,8,9],\n",
    "     [8,9,9]],\n",
    "    \n",
    "    [[1,2,3,4,5],\n",
    "     [5,4,3,2,1],\n",
    "     [3,3,3,3,3]],\n",
    "    [[1,2,3,4,5,6,7,8,9],[1,2,3,4,5,6,7,8,9],[1,2,3,4,5,6,7,8,9]]\n",
    "]\n",
    "for case in testcase:\n",
    "    print(solution(case))"
   ]
  },
  {
   "cell_type": "code",
   "execution_count": null,
   "metadata": {},
   "outputs": [],
   "source": []
  },
  {
   "cell_type": "code",
   "execution_count": null,
   "metadata": {},
   "outputs": [],
   "source": []
  }
 ],
 "metadata": {
  "kernelspec": {
   "display_name": "Python 3",
   "language": "python",
   "name": "python3"
  },
  "language_info": {
   "codemirror_mode": {
    "name": "ipython",
    "version": 3
   },
   "file_extension": ".py",
   "mimetype": "text/x-python",
   "name": "python",
   "nbconvert_exporter": "python",
   "pygments_lexer": "ipython3",
   "version": "3.11.3"
  }
 },
 "nbformat": 4,
 "nbformat_minor": 2
}
