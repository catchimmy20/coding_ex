{
 "cells": [
  {
   "cell_type": "code",
   "execution_count": 8,
   "metadata": {},
   "outputs": [
    {
     "name": "stdout",
     "output_type": "stream",
     "text": [
      "아메리카노 : 2000원\n",
      "카페라떼 : 3000원\n",
      "아메리카노와 카페라떼의 총 가격 : 5000원\n",
      "아메리카노와 카페라떼의 가격 차이 : 1000원\n"
     ]
    }
   ],
   "source": [
    "class Coffee:\n",
    "    def __init__(self, name, price):\n",
    "        self.name = name\n",
    "        self.price = price\n",
    "        \n",
    "    def __str__(self):\n",
    "        return f'{self.name} : {self.price}원'\n",
    "    \n",
    "    def __add__(self, other):\n",
    "        total_price = self.price + other.price\n",
    "        return f'{self.name}와 {other.name}의 총 가격 : {total_price}원'\n",
    "    \n",
    "    def __sub__(self, other):\n",
    "        price_diff = self.price - other.price\n",
    "        return f'{self.name}와 {other.name}의 가격 차이 : {abs(price_diff)}원'\n",
    "        \n",
    "    \n",
    "\n",
    "# 인스턴스 생성\n",
    "americano = Coffee('아메리카노', 2000)\n",
    "latte = Coffee('카페라떼', 3000)\n",
    "\n",
    "print(americano)\n",
    "print(latte)    \n",
    "print(americano + latte)\n",
    "print(americano - latte)"
   ]
  },
  {
   "cell_type": "code",
   "execution_count": 13,
   "metadata": {},
   "outputs": [
    {
     "name": "stdout",
     "output_type": "stream",
     "text": [
      "360\n"
     ]
    }
   ],
   "source": [
    "li = [1,2,3,4,5]\n",
    "# print(len(li))\n",
    "# help(list)\n",
    "\n",
    "class Book:\n",
    "    def __init__(self, title, pages):\n",
    "        self.title = title\n",
    "        self.pages = pages\n",
    "    \n",
    "    def __len__(self):\n",
    "        return self.pages\n",
    "    \n",
    "book = Book('Python기초', 360)\n",
    "print(len(book))"
   ]
  },
  {
   "cell_type": "markdown",
   "metadata": {},
   "source": [
    "### 클래스와 메서드 예제\n",
    "- 클래스 정의\n",
    "\n",
    "1. 학생정보 저장하고 관리하는 프로그램 (타 학교에서도 사용)\n",
    "2. 학생정보 : 학교명, 학교주소, 학생 이름, 수학, 영어, 국어 점수\n",
    "3. 필요 기능 : 소속학교 설정, 학생 정보 설정, 총점 구하기, 학생 정보 출력 <br>\n",
    "학교 정보 출력, 전화번호를 알려주면 문자보내는 기능"
   ]
  },
  {
   "cell_type": "code",
   "execution_count": 12,
   "metadata": {},
   "outputs": [
    {
     "name": "stdout",
     "output_type": "stream",
     "text": [
      "이름 : 김철수\n",
      "수학 점수 : 90\n",
      "영어 점수 : 87\n",
      "국어 점수 : 67\n",
      "\n",
      "미정\n",
      "미정\n",
      "\n",
      "python 고등학교\n",
      "노원구\n",
      "문자 전송 >> 010-1111-2222 : 내일 준비물 챙겨오세요!\n"
     ]
    }
   ],
   "source": [
    "class Student: \n",
    "    # 클래스 변수(모든 인스턴스가 공유)\n",
    "    school_name = '미정'\n",
    "    school_address = \"미정\"\n",
    "    \n",
    "    # 학생별 이름, 점수는 모두 다르므로 인스턴스 변수로 선언\n",
    "    def __init__(self, name, math, eng, kor ):\n",
    "        self.name = name\n",
    "        self.math = math\n",
    "        self.eng = eng\n",
    "        self.kor = kor\n",
    "    \n",
    "    # 학생 총점을 반환하는 메서드\n",
    "    # 각 점수는 인스턴스 변수로 저장하기에\n",
    "    # self로 접근해야함\n",
    "    def get_total_score(self):\n",
    "        return self.math + self.eng + self.kor\n",
    "    \n",
    "    # 매직메서드 : 학생정보출력\n",
    "    def __str__(self):\n",
    "        return f'''이름 : {self.name}\\n수학 점수 : {self.math}\\n영어 점수 : {self.eng}\\n국어 점수 : {self.kor}'''\n",
    "    \n",
    "    # 학교정보출력\n",
    "    @classmethod\n",
    "    def print_school_info(cls):\n",
    "        print(cls.school_name)\n",
    "        print(cls.school_address)\n",
    "    \n",
    "    # 학교정보 설정\n",
    "    @classmethod\n",
    "    def set_school_info(cls, school_name, school_address):\n",
    "        cls.school_name = school_name\n",
    "        cls.school_address = school_address\n",
    "    \n",
    "    # 문자를 보내는 기능은 클래스가 가진 인스턴스 변수나 클래스 변수를 \n",
    "    # 전혀 사용하지 않으므로 정적 메서드를 선택할 수 있음\n",
    "    @staticmethod\n",
    "    def send_message(phone_number, message):\n",
    "        print(f'문자 전송 >> {phone_number} : {message}')\n",
    "    \n",
    "std1 = Student('김철수', 90, 87, 67)\n",
    "print(std1)\n",
    "print()\n",
    "Student.print_school_info()\n",
    "print()\n",
    "Student.set_school_info('python 고등학교', '노원구')\n",
    "Student.print_school_info()\n",
    "Student.send_message('010-1111-2222', \"내일 준비물 챙겨오세요!\")"
   ]
  },
  {
   "cell_type": "markdown",
   "metadata": {},
   "source": [
    "### 상속(Inheritance)\n",
    "- 특정 클래스의 데이터 속성과 메서드를 다른 클래스에게 물려주는 것\n",
    "\n",
    "### 클래스의 관계\n",
    "- A클래스가 B클래스에게 상속을 한다면 A와 B는 서로 부모/자식 관계가 생김\n",
    "- A클래스: 부모 클래스, 슈퍼 클래스, 기반 클래스\n",
    "- B클래스: 자식 클래스, 서브 클래스, 파생 클래스\n",
    "\n",
    "### 상속 문법\n",
    "```python\n",
    "class Parent:\n",
    "    속성\n",
    "\n",
    "class Child(Parent):\n",
    "    부모의 속성을 물려 받음\n",
    "    나만의 속성을 추가 가능\n",
    "```"
   ]
  },
  {
   "cell_type": "code",
   "execution_count": 13,
   "metadata": {},
   "outputs": [
    {
     "name": "stdout",
     "output_type": "stream",
     "text": [
      "부모 클래스에 대한 메서드\n"
     ]
    }
   ],
   "source": [
    "# 일반적인 클래스\n",
    "class Parent:\n",
    "    def print_where(self):\n",
    "        print(\"부모 클래스에 대한 메서드\")\n",
    "    \n",
    "# 상속을 받는 클래스\n",
    "# 상속을 받는 순간 부모/자식 관계가 생기며, 자식은 부모의 속성을 물려받음\n",
    "class Child(Parent):\n",
    "    pass\n",
    "\n",
    "ch = Child()\n",
    "ch.print_where()"
   ]
  },
  {
   "cell_type": "code",
   "execution_count": 15,
   "metadata": {},
   "outputs": [
    {
     "name": "stdout",
     "output_type": "stream",
     "text": [
      "10\n",
      "클래스 메서드 실행!!\n",
      "class_var = 10\n",
      "정적 메서드 실행!\n"
     ]
    }
   ],
   "source": [
    "# 인스턴스 메서드가 아니여도 상속이 됨\n",
    "class Parent:\n",
    "    class_var = 10\n",
    "    \n",
    "    @classmethod\n",
    "    def class_method(cls):\n",
    "        print(\"클래스 메서드 실행!!\")\n",
    "        print(f'class_var = {cls.class_var}')\n",
    "    \n",
    "    @staticmethod\n",
    "    def static_method():\n",
    "        print(\"정적 메서드 실행!\")\n",
    "        \n",
    "\n",
    "class Child(Parent):\n",
    "    pass\n",
    "\n",
    "print(Child.class_var)\n",
    "Child.class_method()\n",
    "Child.static_method()"
   ]
  },
  {
   "cell_type": "code",
   "execution_count": null,
   "metadata": {},
   "outputs": [],
   "source": [
    "class Parent:\n",
    "    class_var = 10\n",
    "    \n",
    "    @classmethod\n",
    "    def class_method(cls):\n",
    "        print(\"클래스 메서드 실행!!\")\n",
    "        print(f'class_var = {cls.class_var}')\n",
    "    \n",
    "    @staticmethod\n",
    "    def static_method():\n",
    "        print(\"정적 메서드 실행!\")\n",
    "        \n",
    "\n",
    "class Child(Parent):\n",
    "    # 자식 클래스는 부모에게 물려받는 것 말고도 \n",
    "    # 새로운 기능이나 변수를 추가할 수 있음\n",
    "    @classmethod\n",
    "    def child_class_method(cls):\n",
    "        print(\"자식에서 추가한 기능1\")\n"
   ]
  },
  {
   "cell_type": "code",
   "execution_count": null,
   "metadata": {},
   "outputs": [
    {
     "name": "stdout",
     "output_type": "stream",
     "text": [
      "name : 홍길동, age : 22\n",
      "name : 김철수, age : 11\n"
     ]
    }
   ],
   "source": [
    "class Person:\n",
    "    def __init__(self, name, age):\n",
    "        self.name = name\n",
    "        self.age = age\n",
    "    \n",
    "    def print_info(self):\n",
    "        print(f'name : {self.name}, age : {self.age}')\n",
    "        \n",
    "class Child(Person):\n",
    "    pass\n",
    "\n",
    "p1 = Person('홍길동', 22)\n",
    "p1.print_info()\n",
    "\n",
    "# child는 생성자를 만들지 않았으나, 값을 넘기지 않으면\n",
    "# name과 age에 인자를 넘기라는 오류가 발생함\n",
    "ch1 = Child('김철수', 11)\n",
    "ch1.print_info()\n",
    "\n",
    "# 자식 클래스에서 생성자를 만들지 않아도, 부모에 있는 생성자를 사용하여\n",
    "# 부모와 동일한 인스턴스 변수를 생성/초기화 함\n",
    "# 지금은 부모의 생성자를 자식에서 사용한다고 생각하면 됨\n"
   ]
  },
  {
   "cell_type": "code",
   "execution_count": null,
   "metadata": {},
   "outputs": [],
   "source": [
    "# 자동차 클래스\n",
    "# 데이터 속성: brand, color, price\n",
    "# 메서드 속성: 전체정보 출력, 시동 켜기, 터보\n",
    "\n",
    "# 슈퍼카 클래스\n",
    "# 데이터 속성 : brand, color, price\n",
    "# 메서드 속성: 전체정보 출력, 시동 켜기, 터보\n",
    "\n",
    "class Car:\n",
    "    def __init__(self, brand, color, price):\n",
    "        self.brand = brand\n",
    "        self.color = color\n",
    "        self.price = price\n",
    "    \n",
    "    def print_info(self):\n",
    "        print(f'brand : {self.brand}, color : {self.color}, price : {self.price}')\n",
    "        \n",
    "    def engine_start(self):\n",
    "        print(\"시동을 켰다\")\n",
    "    \n",
    "class SuperCar(Car):\n",
    "    def turbo(self):\n",
    "        print(\"터보를 켠다\")"
   ]
  },
  {
   "cell_type": "code",
   "execution_count": 3,
   "metadata": {},
   "outputs": [
    {
     "name": "stdout",
     "output_type": "stream",
     "text": [
      "name : 왜가리, age : 22\n",
      "공부한다\n",
      "name : 갈가리, age : 26\n",
      "일한다\n"
     ]
    }
   ],
   "source": [
    "# 학생\n",
    "# 속성 : 이름, 나이\n",
    "# 기능 : 전체 정보 출력, 공부하기\n",
    "\n",
    "# 직원\n",
    "# 속성 : 이름, 나이\n",
    "# 기능 : 전체 정보 출력, 일하기\n",
    "\n",
    "# 두 클래스는 겹치는 속성과 기능이 존재\n",
    "# 이 경우 사람 클래스를 만들고 겹치는 속성들을 정의한 후\n",
    "# 학생과 직원에게 상속을 할 수 있음\n",
    "\n",
    "class Person:\n",
    "    def __init__(self, name, age):\n",
    "        self.name = name\n",
    "        self.age = age\n",
    "    \n",
    "    def print_info(self):\n",
    "        print(f'name : {self.name}, age : {self.age}')\n",
    "        \n",
    "class Student(Person):\n",
    "    def study(self):\n",
    "        print(\"공부한다\")\n",
    "\n",
    "class Employee(Person):\n",
    "    def work(self):\n",
    "        print(\"일한다\")\n",
    "        \n",
    "std = Student(\"왜가리\", 22)\n",
    "std.print_info()\n",
    "std.study()\n",
    "\n",
    "emp = Employee(\"갈가리\", 26)\n",
    "emp.print_info()\n",
    "emp.work()"
   ]
  },
  {
   "cell_type": "code",
   "execution_count": null,
   "metadata": {},
   "outputs": [],
   "source": []
  }
 ],
 "metadata": {
  "kernelspec": {
   "display_name": "Python 3",
   "language": "python",
   "name": "python3"
  },
  "language_info": {
   "codemirror_mode": {
    "name": "ipython",
    "version": 3
   },
   "file_extension": ".py",
   "mimetype": "text/x-python",
   "name": "python",
   "nbconvert_exporter": "python",
   "pygments_lexer": "ipython3",
   "version": "3.12.1"
  }
 },
 "nbformat": 4,
 "nbformat_minor": 2
}
