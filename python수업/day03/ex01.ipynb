{
 "cells": [
  {
   "cell_type": "code",
   "execution_count": 1,
   "metadata": {},
   "outputs": [
    {
     "name": "stdout",
     "output_type": "stream",
     "text": [
      "[6, 10, 11, 13, 17]\n"
     ]
    }
   ],
   "source": [
    "# 랜덤 숫자 5개를 가진 리스트를 정렬하여 반환하는 함수를 만들기\n",
    "# 랜덤 숫자는 1~20까지의 범위를 가지며, 중복되어서는 안됨\n",
    "import random as rd\n",
    "\n",
    "\n",
    "def make_rand_num():\n",
    "    num_set = set()\n",
    "\n",
    "    while True:\n",
    "        rand_num = rd.randint(1, 20)\n",
    "        num_set.add(rand_num)\n",
    "\n",
    "        if len(num_set) == 5:\n",
    "            break\n",
    "\n",
    "    num_list = list(num_set)\n",
    "    num_list.sort()\n",
    "\n",
    "    return num_list\n",
    "\n",
    "\n",
    "print(make_rand_num())"
   ]
  },
  {
   "cell_type": "markdown",
   "metadata": {},
   "source": [
    "### print문 밀림 현상<br>\n",
    "=>  sys.stdout.flush() 출력버퍼 플러시 사용\n",
    "- ipynb에서 print문 밀림 현상은 입력과 출력의 비동기적 처리 때문 <br>\n",
    "- 입력을 받는 input() 함수가 호출되면 그 셀에 대한 출력이 완료되지 않은 상태에서 사용자 입력을 기다리기 때문에, <br>\n",
    "이전 출력이 화면에 보이지 않고 후속 출력이 나오는 경우가 발생할 수 있음<br>"
   ]
  },
  {
   "cell_type": "code",
   "execution_count": 9,
   "metadata": {},
   "outputs": [
    {
     "name": "stdout",
     "output_type": "stream",
     "text": [
      "['?', '?', '?', '?', '?']\n",
      "틀렸습니다...\n",
      "['?', '?', '?', '?', '?']\n",
      "틀렸습니다...\n",
      "['?', '?', '?', '?', '?']\n",
      "맞췄습니다!!\n",
      "[7, '?', '?', '?', '?']\n",
      "맞췄습니다!!\n",
      "[7, '?', 11, '?', '?']\n",
      "틀렸습니다...\n",
      "[7, '?', 11, '?', '?']\n",
      "맞췄습니다!!\n",
      "[7, '?', 11, 22, '?']\n",
      "맞췄습니다!!\n",
      "[7, '?', 11, 22, 40]\n",
      "맞췄습니다!!\n",
      "총 8번 시도했습니다.\n"
     ]
    }
   ],
   "source": [
    "import sys\n",
    "# 사용자가 맞춰야 할 숫자를 가진 리스트\n",
    "num_list = [7, 9, 11, 22, 40]\n",
    "\n",
    "# 사용자에게 보여줄 리스트\n",
    "display_list = [\"?\", \"?\", \"?\", \"?\", \"?\"]\n",
    "\n",
    "# 사용자가 정답을 몇번 맞췄는지 기억하는 변수\n",
    "flag = 0\n",
    "\n",
    "# 사용자가 몇번 시도했는지 기억하는 변수\n",
    "count = 0\n",
    "\n",
    "while flag < 5:\n",
    "    print(display_list)\n",
    "\n",
    "    # print문 밀림 방지\n",
    "    sys.stdout.flush()  # 출력 버퍼를 플러시\n",
    "    input_num = int(input(\"1~20까지의 정수 입력 >>\"))\n",
    "    count += 1\n",
    "\n",
    "    if input_num in num_list:\n",
    "        print(\"맞췄습니다!!\")\n",
    "        flag += 1\n",
    "        # index(값) 메서드는 특정 값의 인덱스 번호를 반환\n",
    "        idx = num_list.index(input_num)\n",
    "        display_list[idx] = input_num\n",
    "    else:\n",
    "        print(\"틀렸습니다...\")\n",
    "\n",
    "print(f\"총 {count}번 시도했습니다.\")"
   ]
  },
  {
   "cell_type": "markdown",
   "metadata": {},
   "source": [
    "### 외부 모듈 사용하기\n",
    "- 파이썬 자체적 제공 모듈이 아닌 다른 개발자들이 만들어 놓은 모듈\n",
    "- python package index 사이트에 다른 개발자들이 모듈을 업로드\n",
    "- 해당 사이트에 있는 모듈은 pip라는 패키지 관리도구로 다운받을 수 있음\n",
    "\n",
    "### 패키지 관리 도구\n",
    "- 모듈: 연관된 함수, 클래스, 변수를 .py파일에 모아둔 코드 뭉치\n",
    "- 패키지: 연관된 모듈을 모아 하나의 폴더 단위로 묶어둔 것\n",
    "- 외부 모듈: 외부 모듈은 보통 패키지 안위로 배포 및 사용\n",
    "- 패키지 관리 도구: 패키리를 우리가 쉽게 다운받고 설치하고 관리해주는 도구가 패키지 관련도구인 \n",
    "\n",
    "### 패키지 관리 두구 \n",
    "1. 패키지 설치: 업그레이드: install package_name\n",
    "2. 패키지 업그레이드: pip install --upgrade package_name\n",
    "3. 설취"
   ]
  },
  {
   "cell_type": "code",
   "execution_count": null,
   "metadata": {},
   "outputs": [],
   "source": [
    "import matplotlib as plt\n",
    "li1 = ['a', 'b', 'c', 'd', 'e']\n",
    "li2 = [1, 4, 2, ,5, 5 ]\n",
    "       \n",
    "plt.(li1, li2)"
   ]
  },
  {
   "cell_type": "markdown",
   "metadata": {},
   "source": [
    "### venv\n",
    "- 파이썬에서 가상환경을 생성하고 우리 전에서 다ㅎ지\n",
    "- 모듈"
   ]
  },
  {
   "cell_type": "code",
   "execution_count": 1,
   "metadata": {},
   "outputs": [
    {
     "name": "stdout",
     "output_type": "stream",
     "text": [
      "안녕하세ㅇㅏ\n"
     ]
    }
   ],
   "source": [
    "# 파라미터 타입의 힌트는 자료형을 사용함\n",
    "# 반환값 힘트는 -> 자료형을 사용함\n",
    "def add_number(a:int, b:int):\n",
    "    return a + b\n",
    "\n",
    "result = add_number(\"안녕\", \"하세ㅇㅏ\")\n",
    "print(result)\n",
    "\n",
    "# -> None은 반환이 없음을 나타내며 생략해도됨\n",
    "def print_result(a:int, b:int) -> None:\n",
    "    print(a+b)\n",
    "    "
   ]
  },
  {
   "cell_type": "code",
   "execution_count": 3,
   "metadata": {},
   "outputs": [
    {
     "name": "stdout",
     "output_type": "stream",
     "text": [
      "(1, 2, 3, 4, 5)\n",
      "[1, 2, 3, 4, 5]\n"
     ]
    }
   ],
   "source": [
    "# 가변 파라미터 활용하기\n",
    "# list[int]: 반환타입이 list이며 list의 요소는 int값임 \n",
    "def make_list(*num) -> list[int]:\n",
    "    print(num)\n",
    "    return list(num)\n",
    "result = make_list(1,2,3,4,5)\n",
    "print(result)"
   ]
  },
  {
   "cell_type": "code",
   "execution_count": 6,
   "metadata": {},
   "outputs": [
    {
     "name": "stdout",
     "output_type": "stream",
     "text": [
      "{'a': 1, 'b': 3, 'c': 6}\n"
     ]
    }
   ],
   "source": [
    "# 키워드 가변 파라미터 활용\n",
    "# 키워드 가변 파라미터는 값을 넘겨주면 내부에서 딕셔너리로 변환하여 사용\n",
    "def test(**kargs:dict[str:int]):\n",
    "    '''키 : str, 값 : int'''\n",
    "    print(kargs)\n",
    "\n",
    "test(a=1, b=3, c=6)\n",
    "test"
   ]
  },
  {
   "cell_type": "code",
   "execution_count": 12,
   "metadata": {},
   "outputs": [
    {
     "name": "stdout",
     "output_type": "stream",
     "text": [
      "1 2 3 4\n",
      "1 2 3 4\n",
      "200\n"
     ]
    }
   ],
   "source": [
    "# 위치 전용 파라미터 (/로 표현함)\n",
    "# / 이전의 파라미터는 반드시 파라미터의 순서를 기반으로 넘겨야 함\n",
    "\n",
    "\n",
    "def func(a, b, /, c, d):\n",
    "    print(a, b, c, d)\n",
    "\n",
    "\n",
    "func(1, 2, 3, 4)\n",
    "func(1, 2, c=3, d=4)\n",
    "# func(a=1, b=2, c=3, d=4)\n",
    "\n",
    "\n",
    "# 타입 힌트와 같이 사용\n",
    "# a, b는 무조건 위치기반으로 넘겨야 함\n",
    "def calc(a: int, b: int, /, oper: str):\n",
    "    if oper == \"+\":\n",
    "        return a + b\n",
    "    elif oper == \"-\":\n",
    "        return a - b\n",
    "    elif oper == \"*\":\n",
    "        return a * b\n",
    "\n",
    "num = calc(10, 20, '*')\n",
    "print(num)"
   ]
  },
  {
   "cell_type": "code",
   "execution_count": 16,
   "metadata": {},
   "outputs": [
    {
     "name": "stdout",
     "output_type": "stream",
     "text": [
      "1 2 3 4\n"
     ]
    }
   ],
   "source": [
    "# 키워드 전용 파라미터 (*로 표현함)\n",
    "# * 이후의 파라미터는 반드시 파라미터 이름과 함께 설정함\n",
    "def func(a, b, *, c, d):\n",
    "    print(a, b, c, d)\n",
    "\n",
    "func(1, 2, c=3, d=4)\n",
    "# TypeError: func() takes 2 positional arguments but 4 were given\n",
    "# func(1, 2, 3, 4)\n",
    "\n",
    "# 타입 힌트와 같이 사용\n",
    "# 디폴트값 oper = \"+\"로 지정\n",
    "def calc2(a:int, b:int, *, oper:str=\"+\"):\n",
    "    if oper == \"+\":\n",
    "        return a + b\n",
    "    elif oper == \"-\":\n",
    "        return a - b\n",
    "    elif oper == \"*\":\n",
    "        return a * b\n",
    "\n",
    "calc2(10, 20)\n",
    "\n",
    "li = [1,2,3,4,5]"
   ]
  },
  {
   "cell_type": "markdown",
   "metadata": {},
   "source": [
    "### 예외 처리\n",
    "- 프로그램 실행 중에 발생할 수 있는 예외 상황을 처리하는 방법\n",
    "- 예외 상황 : 코드가 잘못되어 오류가 발생한 상황, 오류가 발생하면 강제종료되는 치명적인 상황 발생\n",
    "- 예외 처리를 통해 오류가 발생되더라도 프로그램이 비정상적으로 종료되지 않고, <br>적절히 처리하여 안정적으로 실행될 수 있도록 함"
   ]
  },
  {
   "cell_type": "code",
   "execution_count": null,
   "metadata": {},
   "outputs": [],
   "source": [
    "print(\"시작\")\n",
    "# ZeroDivisionError: division by zero\n",
    "# 파이썬은 어떤 숫자든 0으로 나누면 에러 발생\n",
    "# 다른언어에서는 inf반환하기도 함\n",
    "print(10/0)\n",
    "print(\"끝\")"
   ]
  },
  {
   "cell_type": "code",
   "execution_count": null,
   "metadata": {},
   "outputs": [],
   "source": [
    "print(\"start\")\n",
    "\n",
    "class MyClass:\n",
    "    pass\n",
    "# AttributeError: 인스턴스에 존재하지 않는 메서드\n",
    "my_class = MyClass()\n",
    "my_class.add()\n",
    "\n",
    "print(\"end\")"
   ]
  },
  {
   "cell_type": "code",
   "execution_count": null,
   "metadata": {},
   "outputs": [],
   "source": [
    "import random as rd\n",
    "\n",
    "# 특정 메서드를 실행할 때 잘못된 타입의 인수를 넘기면 TypeError가 발생\n",
    "# rd.randint('a', 'b')\n",
    "\n",
    "print(int('1'))\n",
    "\n",
    "# 타입은 맞으나 값이 잘못된 경우 valueError가 발생\n",
    "print(int('가'))"
   ]
  },
  {
   "cell_type": "markdown",
   "metadata": {},
   "source": [
    "### 예외처리 문법\n",
    "- try ~ except\n",
    "- try ~ except ~ else\n",
    "- try ~ except ~ else ~ finally\n",
    "\n",
    "### 영역별 설명\n",
    "- try : 예외가 발생할 것 같은 코드를 작성하는 영역\n",
    "- except : 특정 예외가 예상된다면 해당 예외를 처리하는 코드를 작성하는 영역\n",
    "- else : 예외가 발생되지 않았을 때 실행할 코드를 작성하는 영역\n",
    "- finally : 예외 발생 여부와 상관없이 무조건 실행할 코드를 작성하는 영역\n"
   ]
  },
  {
   "cell_type": "code",
   "execution_count": null,
   "metadata": {},
   "outputs": [],
   "source": []
  }
 ],
 "metadata": {
  "kernelspec": {
   "display_name": "Python 3",
   "language": "python",
   "name": "python3"
  },
  "language_info": {
   "codemirror_mode": {
    "name": "ipython",
    "version": 3
   },
   "file_extension": ".py",
   "mimetype": "text/x-python",
   "name": "python",
   "nbconvert_exporter": "python",
   "pygments_lexer": "ipython3",
   "version": "3.12.1"
  }
 },
 "nbformat": 4,
 "nbformat_minor": 2
}
