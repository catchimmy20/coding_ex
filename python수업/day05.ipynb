{
 "cells": [
  {
   "cell_type": "markdown",
   "metadata": {},
   "source": [
    "### 함수 객체\n",
    "- 파이썬에서 함수는 일급 객체로 취급함 <br>\n",
    "(함수를 다른 객체와 동일하게 다룰 수 있다는 의미)\n",
    "- 객체는 주소값을 활용하여 다룸 (값으로 취급함)\n",
    "- 값은 변수에 저장하거나, 출력이 가능함\n",
    "- 즉, 함수를 객체처럼 변수에 저장, 매개변수에 전달, 함수의 반환 등으로 사용할 수 있음"
   ]
  },
  {
   "cell_type": "code",
   "execution_count": 4,
   "metadata": {},
   "outputs": [
    {
     "name": "stdout",
     "output_type": "stream",
     "text": [
      "[1, 2, 3, 4]\n",
      "[3, 45, 67, 77, 19]\n",
      "[1, 2, 3, 4, 5]\n"
     ]
    }
   ],
   "source": [
    "# 일반적인 객체\n",
    "# 리스트 객체는 변수에 주소값을 저장해두고 사용하게 됨\n",
    "li = [1, 2, 3, 4]\n",
    "\n",
    "# 값은 출력이 가능함\n",
    "print(li)\n",
    "\n",
    "\n",
    "# 값은 파라미터에 전달이 가능함\n",
    "def display_list(li):\n",
    "    print(li)\n",
    "\n",
    "\n",
    "display_list([3, 45, 67, 77, 19])\n",
    "\n",
    "\n",
    "# 값은 리턴도 가능함\n",
    "def test():\n",
    "    return [1, 2, 3, 4, 5]\n",
    "\n",
    "\n",
    "print(test())"
   ]
  },
  {
   "cell_type": "code",
   "execution_count": 8,
   "metadata": {},
   "outputs": [
    {
     "name": "stdout",
     "output_type": "stream",
     "text": [
      "hello bro~\n",
      "hello bro~\n",
      "<function say_hello at 0x762293518a40>\n",
      "<__main__.A object at 0x76229348b710>\n"
     ]
    }
   ],
   "source": [
    "# 일반적인 함수\n",
    "def say_hello():\n",
    "    print(\"hello bro~\")\n",
    "\n",
    "\n",
    "# 함수를 호출할 때는 반드시 ()를 붙임\n",
    "say_hello()\n",
    "# 파이썬의 함수는 객체임 -> 값으로 다룰 수 있음\n",
    "# 값은 저장이 가능\n",
    "# 함수를 호출하는 것이 아니라 저장하는 것이므로 ()를 붙이지 않음\n",
    "greet = say_hello\n",
    "# 변수에 저장한 함수는 변수 이름을 호출할 수 있음\n",
    "greet()\n",
    "\n",
    "# 값은 출력이 가능함\n",
    "print(say_hello)\n",
    "\n",
    "\n",
    "class A:\n",
    "    pass\n",
    "\n",
    "\n",
    "print(A())"
   ]
  },
  {
   "cell_type": "code",
   "execution_count": 10,
   "metadata": {},
   "outputs": [
    {
     "name": "stdout",
     "output_type": "stream",
     "text": [
      "hello bro ╰(*°▽°*)╯\n",
      "hello bro ╰(*°▽°*)╯\n"
     ]
    }
   ],
   "source": [
    "def say_hello():\n",
    "    print(\"hello bro ╰(*°▽°*)╯\")\n",
    "\n",
    "\n",
    "#  함수는 값이기 때문에 리턴이 가능함\n",
    "def return_func():\n",
    "    return say_hello\n",
    "\n",
    "\n",
    "# 리턴된 함수를 변수에 저장하여 사용\n",
    "result = return_func()\n",
    "result()\n",
    "\n",
    "# 리턴된 함수를 바로 사용\n",
    "# 받은 즉시 사용\n",
    "(return_func())()"
   ]
  },
  {
   "cell_type": "markdown",
   "metadata": {},
   "source": [
    "### 콜백 함수\n",
    "- 콜백 함수는 다른 함수의 인수로 전달되어 호출되는 함수"
   ]
  },
  {
   "cell_type": "code",
   "execution_count": 12,
   "metadata": {},
   "outputs": [
    {
     "name": "stdout",
     "output_type": "stream",
     "text": [
      "hello 🎀\n"
     ]
    }
   ],
   "source": [
    "# 콜백 함수\n",
    "def say_hello():\n",
    "    print(\"hello 🎀\")\n",
    "\n",
    "\n",
    "def call_func(a):\n",
    "    # 매개변수 a를 함수처럼 호출처리\n",
    "    a()\n",
    "\n",
    "\n",
    "# 함수는 값처럼 매개변수로 전달 가능\n",
    "call_func(say_hello)\n",
    "# say_hello 함수를 call_func(a)의 파라미터에 전달하고 내부에서 호출\n",
    "# 이렇게 다른 함수의 매개변수로 전달되어 호출당하는 함수를 콜백함수라 함 (JavaScript에서 굉장히 중요!!)"
   ]
  },
  {
   "cell_type": "code",
   "execution_count": 24,
   "metadata": {},
   "outputs": [
    {
     "name": "stdout",
     "output_type": "stream",
     "text": [
      "hello, 잡초!\n",
      "hello, 장지렁이!\n"
     ]
    }
   ],
   "source": [
    "# 콜백함수 활용\n",
    "def greet(name):\n",
    "    return f\"hello, {name}!\"\n",
    "\n",
    "\n",
    "print(greet(\"잡초\"))\n",
    "\n",
    "\n",
    "def print_str(text, callback):\n",
    "    result = callback(text)\n",
    "    print(result)\n",
    "\n",
    "\n",
    "print_str(\"장지렁이\", greet)"
   ]
  },
  {
   "cell_type": "code",
   "execution_count": 18,
   "metadata": {},
   "outputs": [
    {
     "name": "stdout",
     "output_type": "stream",
     "text": [
      "<map object at 0x762292a74a90>\n",
      "[11, 12, 13, 14, 15]\n"
     ]
    }
   ],
   "source": [
    "# map 함수\n",
    "# map(callback, Iterable 객체)\n",
    "# 반복가능한 객체의 모든 요소를 callback 함수에 전달 후 결과를 반환\n",
    "\n",
    "\n",
    "def add_ten(num):\n",
    "    return num + 10\n",
    "\n",
    "\n",
    "li = [1, 2, 3, 4, 5]\n",
    "\n",
    "result = map(add_ten, li)\n",
    "print(result)\n",
    "\n",
    "# 형변환하여 사용\n",
    "result2 = list(result)\n",
    "print(result2)"
   ]
  },
  {
   "cell_type": "code",
   "execution_count": 21,
   "metadata": {},
   "outputs": [
    {
     "name": "stdout",
     "output_type": "stream",
     "text": [
      "[2, 4, 6, 8, 10]\n"
     ]
    }
   ],
   "source": [
    "# filter\n",
    "# filter(callback, Iterable 객체)\n",
    "# 반복 가능한 객체의 모든 요소를 callback 함수에 전달한 후,\n",
    "# 조건을 만족하는 요소만 반환\n",
    "\n",
    "\n",
    "def is_even(num):\n",
    "    # True or False 반환\n",
    "    return num % 2 == 0\n",
    "\n",
    "\n",
    "# 리스트 컴프리헨션으로 1~10까지의 리스트 생성\n",
    "li = [i for i in range(1, 11)]\n",
    "\n",
    "# li가 가진 모든 요소들을 순차적으로 is_even에 전달\n",
    "# 결과가 True인 요소만 걸러서 반복간으한 객체를 반환\n",
    "result = filter(is_even, li)\n",
    "print(list(result))"
   ]
  },
  {
   "cell_type": "code",
   "execution_count": 23,
   "metadata": {},
   "outputs": [
    {
     "name": "stdout",
     "output_type": "stream",
     "text": [
      "15\n",
      "120\n"
     ]
    }
   ],
   "source": [
    "from functools import reduce\n",
    "\n",
    "# reduce(callback, 반복 가능한 객체) => 누적처리\n",
    "# 반복 가능한 객체의 모든 요소를 callback 함수에 누적 적용하여\n",
    "# 단일 결과를 반환\n",
    "\n",
    "\n",
    "def add(x, y):\n",
    "    return x + y\n",
    "\n",
    "\n",
    "result = reduce(add, [1, 2, 3, 4, 5])\n",
    "print(result)\n",
    "\n",
    "\n",
    "def mul(x, y):\n",
    "    return x * y\n",
    "\n",
    "\n",
    "res = reduce(mul, [1, 2, 3, 4, 5])\n",
    "print(res)"
   ]
  },
  {
   "cell_type": "markdown",
   "metadata": {},
   "source": [
    "### 람다식\n",
    "- 익명함수를 생성하는 방법\n",
    "- def 키워드 대신 lambda 키워드 사용\n",
    "- 간단한 연산을 담당하는 일회성 함수가 필요할 때 사용\n",
    "- 람다식은 반드시 한줄로 표현이 가능해야 함\n"
   ]
  },
  {
   "cell_type": "code",
   "execution_count": 26,
   "metadata": {},
   "outputs": [
    {
     "name": "stdout",
     "output_type": "stream",
     "text": [
      "30\n",
      "30\n"
     ]
    }
   ],
   "source": [
    "# 일반 함수\n",
    "def add_num(x, y):\n",
    "    return x + y\n",
    "\n",
    "\n",
    "res = add_num(10, 20)\n",
    "print(res)  # 30\n",
    "\n",
    "add_num2 = lambda x, y: x + y\n",
    "res2 = add_num2(10, 20)\n",
    "print(res2)  # 30"
   ]
  },
  {
   "cell_type": "code",
   "execution_count": 29,
   "metadata": {},
   "outputs": [
    {
     "name": "stdout",
     "output_type": "stream",
     "text": [
      "함수의 결과 : 30\n",
      "함수의 결과 : 200\n"
     ]
    }
   ],
   "source": [
    "def my_func(callback):\n",
    "    res = callback(10, 20)\n",
    "    print(f\"함수의 결과 : {res}\")\n",
    "\n",
    "# a=10, b=20\n",
    "# my_func의 재사용성이 올라감\n",
    "my_func(lambda a, b: a + b)\n",
    "my_func(lambda a, b: a * b)"
   ]
  },
  {
   "cell_type": "code",
   "execution_count": 35,
   "metadata": {},
   "outputs": [
    {
     "name": "stdout",
     "output_type": "stream",
     "text": [
      "[11, 12, 13, 14, 15]\n",
      "[1, 4, 9, 16, 25]\n"
     ]
    }
   ],
   "source": [
    "num = [1, 2, 3, 4, 5]\n",
    "res = list(map(lambda x: x + 10, num))\n",
    "print(res) # [11, 12, 13, 14, 15]\n",
    "res2 = list(map(lambda x: x**2, num))\n",
    "print(res2) # [1, 4, 9, 16, 25]"
   ]
  },
  {
   "cell_type": "markdown",
   "metadata": {},
   "source": [
    "### 파일 입출력\n",
    "- 파일 입출력은 파일을 읽어오거나, 파일에 대한 내용을 작성하는 것을 의미\n",
    "    - 입력(input): 기존의 파일 내용을 읽어오는 처리 (read)\n",
    "    - 출력(output): 파일을 생성하거나, 내용을 작성하는 처리 (write)\n",
    "\n",
    "### 파일 객체\n",
    "- 파이썬에서 외부 파일을 다루기 위해 사용하는 객체\n",
    "- 파일을 읽고, 쓰기위해서는 먼저 파일을 열어야 하며 open() 함수를 사용\n",
    "- 파일을 다 사용한 후 반드시 close()로 닫아줘야 이후에 문제가 발생하지 않음"
   ]
  },
  {
   "cell_type": "code",
   "execution_count": 37,
   "metadata": {},
   "outputs": [],
   "source": [
    "# open(\"파일의 경로와 이름\", \"파일 열기 모드\")\n",
    "# 파일 경로: 파일의 위치를 의미\n",
    "# 파일 경로에서 .은 현재 경로\n",
    "# ..은 상위 경로를 의미로와 이름\", \"파일 열기 모드\")\n",
    "# 파일 경로: 파일의 위치를 의미\n",
    "# 파일 경로에서 .은 현재 경로\n",
    "# ..은 상위 경로를 의미\n",
    "# /은 해당 폴더 안에 있음을 의미\n",
    "\n",
    "# 파일 열기 모드\n",
    "# r: read (읽기)\n",
    "# w: write (쓰기), 파일이 없으면 만들어줌 / 기존 데이터를 덮어씀\n",
    "# a: append (추가), 파일이 없으면 만들어줌 / 기존 데이터에 추가해줌\n",
    "\n",
    "# 빈 문서 test.txt 생성\n",
    "f = open('./test.txt', 'w')\n",
    "\n",
    "# 파일을 다 사용했으면 반드시 닫기\n",
    "f.close()"
   ]
  },
  {
   "cell_type": "code",
   "execution_count": 38,
   "metadata": {},
   "outputs": [],
   "source": [
    "# 파일을 쓰기 모드로 열기\n",
    "f = open('./test.txt', 'w', encoding='utf-8')\n",
    "\n",
    "# write()로 특정 데이터를 작성\n",
    "f.write(\"2024년 크리스마스를 5일 앞둔 시점...\")\n",
    "# 작성한 데이터를 전송함 (실제 파일에 작성됨)\n",
    "f.flush()\n",
    "# close()는 flush()를 자동으로 실행하므로 flush() 생략 가능\n",
    "f.close()"
   ]
  },
  {
   "cell_type": "code",
   "execution_count": 40,
   "metadata": {},
   "outputs": [],
   "source": [
    "f = open('./for.txt', 'w', encoding='utf-8')\n",
    "\n",
    "for i in range(1, 11):\n",
    "    f.write(f'{i}번째 줄\\n')\n",
    "f.close()"
   ]
  },
  {
   "cell_type": "code",
   "execution_count": 41,
   "metadata": {},
   "outputs": [],
   "source": [
    "f = open('./for.txt', 'a', encoding='utf-8')\n",
    "\n",
    "f.write(\"추가하는 내용임~\\n\")\n",
    "f.close()"
   ]
  },
  {
   "cell_type": "code",
   "execution_count": 2,
   "metadata": {},
   "outputs": [
    {
     "name": "stdout",
     "output_type": "stream",
     "text": [
      "<_io.TextIOWrapper name='./for.txt' mode='r' encoding='utf-8'>\n",
      "1번째 줄\n",
      "\n",
      "2번째 줄\n",
      "\n",
      "3번째 줄\n",
      "\n",
      "4번째 줄\n",
      "\n",
      "5번째 줄\n",
      "\n",
      "6번째 줄\n",
      "\n",
      "7번째 줄\n",
      "\n",
      "8번째 줄\n",
      "\n",
      "9번째 줄\n",
      "\n",
      "10번째 줄\n",
      "\n",
      "추가하는 내용임~\n",
      "\n"
     ]
    }
   ],
   "source": [
    "# newline 설정 시 \\n 무시\n",
    "# 파일 읽기\n",
    "f = open(\"./for.txt\", \"r\", encoding=\"utf-8\", newline=\"\")\n",
    "print(f)\n",
    "line = f.readline()\n",
    "while line:\n",
    "    print(line)\n",
    "    line = f.readline()\n",
    "f.close()"
   ]
  },
  {
   "cell_type": "code",
   "execution_count": 1,
   "metadata": {},
   "outputs": [],
   "source": [
    "# 파일 입출력 후 close()를 해야하나 깜빡 잊는 경우가 많음\n",
    "# close()를 자동으로 해주는 문법이 만들어짐\n",
    "\n",
    "# with 문\n",
    "# with ~ as 를 사용하면 해당 영역에서만 별칭으로 파일을 다루고\n",
    "# 해당 영역이 끝나면 자동으로 close() 해줌\n",
    "\n",
    "# with.txt 파일 작성\n",
    "with open(\"./with.txt\", \"w\", encoding=\"utf-8\") as f:\n",
    "    for i in range(1, 11):\n",
    "        f.write(f\"{i}번째 줄\\n\")"
   ]
  },
  {
   "cell_type": "code",
   "execution_count": 3,
   "metadata": {},
   "outputs": [
    {
     "name": "stdout",
     "output_type": "stream",
     "text": [
      "1번째 줄\n",
      "2번째 줄\n",
      "3번째 줄\n",
      "4번째 줄\n",
      "5번째 줄\n",
      "6번째 줄\n",
      "7번째 줄\n",
      "8번째 줄\n",
      "9번째 줄\n",
      "10번째 줄\n"
     ]
    }
   ],
   "source": [
    "# with.txt 파일 읽기\n",
    "with open('./with.txt', 'r', encoding=\"utf-8\") as f:\n",
    "    for line in f:\n",
    "        print(line, end='')"
   ]
  },
  {
   "cell_type": "markdown",
   "metadata": {},
   "source": [
    "### 문자열 처리 메서드\n",
    "- strip() : 문자열의 양쪽 끝에 있는 공백이나, 특정 문자 제거\n",
    "- split() : 문자열의 특정 구분자를 기준으로 나누어 리스트를 반환"
   ]
  },
  {
   "cell_type": "code",
   "execution_count": 3,
   "metadata": {},
   "outputs": [
    {
     "name": "stdout",
     "output_type": "stream",
     "text": [
      "원본 :     hello, world    \n",
      "결과 : hello, world\n",
      "hello, world\n"
     ]
    }
   ],
   "source": [
    "text = '    hello, world    '\n",
    "print(f'원본 : {text}')\n",
    "\n",
    "result = text.strip()\n",
    "print(f'결과 : {result}')\n",
    "\n",
    "text2 = '###hello, world#####'\n",
    "result2 = text2.strip(\"#\")\n",
    "print(result2)"
   ]
  },
  {
   "cell_type": "code",
   "execution_count": 6,
   "metadata": {},
   "outputs": [
    {
     "name": "stdout",
     "output_type": "stream",
     "text": [
      "파이썬은 처음 학습하기 좋은 언어, 그러나 초보한테는 다 어려움.\n",
      "['파이썬은', '처음', '학습하기', '좋은', '언어,', '그러나', '초보한테는', '다', '어려움.']\n",
      "['파이썬은 처음 학습하기 좋은 언어', ' 그러나 초보한테는 다 어려움.']\n"
     ]
    }
   ],
   "source": [
    "text = \"파이썬은 처음 학습하기 좋은 언어, 그러나 초보한테는 다 어려움.\"\n",
    "print(text)\n",
    "\n",
    "li = text.split()\n",
    "print(li)\n",
    "\n",
    "li2 = text.split(',')\n",
    "print(li2)"
   ]
  },
  {
   "cell_type": "code",
   "execution_count": 22,
   "metadata": {},
   "outputs": [],
   "source": [
    "students = [\"장지렁이, 86\", \"갈가리, 75\", \"백지니, 98\"]\n",
    "\n",
    "with open(\"./students.txt\", \"w\", encoding=\"utf-8\") as f:\n",
    "    for s in students:\n",
    "        f.write(s + \"\\n\")"
   ]
  },
  {
   "cell_type": "code",
   "execution_count": 12,
   "metadata": {},
   "outputs": [
    {
     "name": "stdout",
     "output_type": "stream",
     "text": [
      "['기가지니', '100']\n",
      "기가지니 100\n",
      "기가지니\n",
      "100\n"
     ]
    }
   ],
   "source": [
    "# split() 활용 예시\n",
    "info = \"기가지니, 100\"\n",
    "li_info = info.split(', ')\n",
    "print(li_info) # ['기가지니', '100']\n",
    "print(li_info[0], li_info[1]) # 기가지니 100\n",
    "\n",
    "name, score = li_info\n",
    "print(name) # 기가지니\n",
    "print(score) # 100"
   ]
  },
  {
   "cell_type": "code",
   "execution_count": 23,
   "metadata": {},
   "outputs": [
    {
     "name": "stdout",
     "output_type": "stream",
     "text": [
      "이름: 장지렁이  점수: 86\n",
      "이름: 갈가리  점수: 75\n",
      "이름: 백지니  점수: 98\n",
      "['장지렁이, 86\\n', '백지니, 98\\n']\n"
     ]
    }
   ],
   "source": [
    "with open(\"./students.txt\", \"r\", encoding=\"utf-8\", newline='') as f:\n",
    "    high_score = []\n",
    "    \n",
    "    for line in f:\n",
    "        name, score = line.strip().split(', ')\n",
    "        print(\"이름:\", name, \" 점수:\",score)\n",
    "        \n",
    "        if int(score) >= 80:\n",
    "            high_score.append(line)\n",
    "            \n",
    "    print(high_score)\n",
    "    \n",
    "with open(\"./high_score.txt\", \"w\", encoding=\"utf-8\", newline='') as f:\n",
    "    for s in high_score:\n",
    "        f.write(s)"
   ]
  },
  {
   "cell_type": "markdown",
   "metadata": {},
   "source": []
  },
  {
   "cell_type": "markdown",
   "metadata": {},
   "source": []
  }
 ],
 "metadata": {
  "kernelspec": {
   "display_name": "Python 3",
   "language": "python",
   "name": "python3"
  },
  "language_info": {
   "codemirror_mode": {
    "name": "ipython",
    "version": 3
   },
   "file_extension": ".py",
   "mimetype": "text/x-python",
   "name": "python",
   "nbconvert_exporter": "python",
   "pygments_lexer": "ipython3",
   "version": "3.12.1"
  }
 },
 "nbformat": 4,
 "nbformat_minor": 2
}
