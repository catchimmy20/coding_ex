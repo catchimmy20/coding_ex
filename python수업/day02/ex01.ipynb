{
 "cells": [
  {
   "cell_type": "code",
   "execution_count": null,
   "metadata": {},
   "outputs": [],
   "source": [
    "class Person:\n",
    "    def __init__(self, name, age):\n",
    "        self.name = name\n",
    "        self.age = age\n",
    "\n",
    "    def print_info(self):\n",
    "        print(f\"name : {self.name}, age : {self.age}\")\n",
    "\n",
    "\n",
    "class Student(Person):\n",
    "    def study(self):\n",
    "        print(\"공부한다.\")\n",
    "\n",
    "\n",
    "class Employee(Person):\n",
    "    def work(self):\n",
    "        print(\"일한다.\")\n",
    "\n",
    "\n",
    "std = Student(\"김철수\", 22)\n",
    "std.print_info()\n",
    "std.study()\n",
    "\n",
    "emp = Employee(\"이유리\", 32)\n",
    "emp.print_info()\n",
    "emp.work()"
   ]
  },
  {
   "cell_type": "code",
   "execution_count": null,
   "metadata": {},
   "outputs": [],
   "source": [
    "# Employee 클래스는 생성자를 직접 만들지 않았음\n",
    "# 그러면 자동으로 생성자를 만들어줌\n",
    "# 생성자 내부에 부모의 생성자를 호출하는 코드가 만들어짐\n",
    "# Person의 생성자는 매개변수 name과 age가 있기에 반드시 값을 전달해야 함\n",
    "# 그러므로 자식 클래스의 생성자도 name과 age를 전달받아 부모에게 넘겨주는 처리가 필요함\n",
    "\n",
    "class Person:\n",
    "    def __init__(self, name, age):\n",
    "        self.name = name\n",
    "        self.age = age\n",
    "        \n",
    "class Employee(Person):\n",
    "    def __init__(self, name, age):\n",
    "        super().__init__(name, age)\n",
    "\n",
    "emp = Employee(\"김철수\", 22)\n"
   ]
  },
  {
   "cell_type": "code",
   "execution_count": 1,
   "metadata": {},
   "outputs": [
    {
     "name": "stdout",
     "output_type": "stream",
     "text": [
      "갈가리\n",
      "25\n",
      "1\n"
     ]
    }
   ],
   "source": [
    "# 자식 클래스에서 인스턴스 변수를 추가하고 싶으면?\n",
    "# \n",
    "class Person:\n",
    "    def __init__(self, name, age):\n",
    "        self.name = name\n",
    "        self.age = age\n",
    "        \n",
    "class Employee(Person):\n",
    "    def __init__(self, name, age, career):\n",
    "        # name가 age는 부모 생성자를 통해 인스턴스 변수를 생성\n",
    "        super().__init__(name, age)\n",
    "        # career는 부모에서 처리불가, 자식 생성자에서 직접 만듦\n",
    "        self.career = career\n",
    "\n",
    "emp = Employee(\"갈가리\", 25, 1)\n",
    "\n",
    "print(emp.name)\n",
    "print(emp.age)\n",
    "print(emp.career)"
   ]
  },
  {
   "cell_type": "markdown",
   "metadata": {},
   "source": [
    "### 오버라이딩(Overriding) : 재정의\n",
    "- 부모가 가진 메서드를 자식에서 새롭게 정의하는 것을 의미\n",
    "- 부모가 물려준 메서드와 동일한 메서드를 자식 클래스에서 정의하면 됨\n",
    "- 메서드 이름과 매개변수가 동일해야함"
   ]
  },
  {
   "cell_type": "code",
   "execution_count": 3,
   "metadata": {},
   "outputs": [
    {
     "name": "stdout",
     "output_type": "stream",
     "text": [
      "Child : \"hi!!\"\n"
     ]
    }
   ],
   "source": [
    "class Parent:\n",
    "    def print_hi(self):\n",
    "        print(\"Parent : \\\"hi!\\\"\")\n",
    "        \n",
    "class Child(Parent):\n",
    "    # 만약 부모가 물려준 메서드가 마음에 들지 않는다면\n",
    "    # 자식이 해당 메서드를 재정의하여 사용(물려받은 메서드와 동일한 이름, 매개변수여야 함)\n",
    "    def print_hi(self):\n",
    "        print(\"Child : \\\"hi!!\\\"\")\n",
    "\n",
    "ch = Child()\n",
    "ch.print_hi()"
   ]
  },
  {
   "cell_type": "code",
   "execution_count": 14,
   "metadata": {},
   "outputs": [
    {
     "name": "stdout",
     "output_type": "stream",
     "text": [
      "강아지 레이는 1살!\n",
      "레이가 웁니다!\n",
      "월월!\n",
      "레이가 산책을 갑니다!\n",
      "************\n",
      "고양이 설이는 3살!\n",
      "설이가 웁니다!\n",
      "야옹~\n",
      "설이가 그루밍을 합니다!\n"
     ]
    }
   ],
   "source": [
    "# 고양이 클래스\n",
    "# 데이터 속성: 이름, 나이\n",
    "# 메서드 : 울기, 낮잠자기\n",
    "\n",
    "# 강아지 클래스\n",
    "# 속성: 이름, 나이\n",
    "# 메서드: 울기, 산책가기\n",
    "\n",
    "# 두 클래스의 공통된 속성은 별도의 부모 클래스를 만들어 상속\n",
    "# 속성: 이름, 나이\n",
    "# 메서드: 울기\n",
    "\n",
    "class Pet:\n",
    "    def __init__(self, name, age):\n",
    "        self.name = name\n",
    "        self.age = age\n",
    "\n",
    "    def crying(self):\n",
    "        print(f'{self.name}가 웁니다!')\n",
    "\n",
    "class Dog(Pet):\n",
    "    def __str__(self):\n",
    "        return f'강아지 {self.name}는 {self.age}살!'\n",
    "    \n",
    "    # 자식 클래스만의 기능 추가\n",
    "    def walk(self):\n",
    "        print(f'{self.name}가 산책을 갑니다!')\n",
    "    \n",
    "    def crying(self):\n",
    "        # 부모 메서드 super().crying()\n",
    "        super().crying()\n",
    "        print(\"월월!\")\n",
    "    \n",
    "class Cat(Pet):\n",
    "    def __str__(self):\n",
    "        return f'고양이 {self.name}는 {self.age}살!'\n",
    "    \n",
    "    def groom(self):\n",
    "        print(f'{self.name}가 그루밍을 합니다!')\n",
    "        \n",
    "    def crying(self):\n",
    "        super().crying()\n",
    "        print(\"야옹~\")\n",
    "        \n",
    "dog = Dog(\"레이\", 1)\n",
    "# print(dog.name)\n",
    "# print(dog.age)\n",
    "print(dog)\n",
    "dog.crying()\n",
    "dog.walk()\n",
    "print(\"************\")\n",
    "cat = Cat(\"설이\", 3)\n",
    "print(cat)\n",
    "cat.crying()\n",
    "cat.groom()"
   ]
  },
  {
   "cell_type": "code",
   "execution_count": null,
   "metadata": {},
   "outputs": [],
   "source": [
    "# 실습\n",
    "# 다음 클래스 정의서를 보고 필요한 클래스를 구현하세요\n",
    "\n",
    "# 회사 직원을 관리하는 프로그램을 만들어야 한다.\n",
    "# 필요한 정보를 저장하기 위해서 다음과 같은 클래스를 구현한다.\n",
    "# 1. 개발자 클래스 (Developer)\n",
    "# 속성 : 이름(name), 경력(career), 사용하는 프로그래밍 언어(programming_language)\n",
    "# 기능 : \n",
    "# - 출근하기(go_to_work) - OOO이 출근을 합니다.\n",
    "# - 점심먹기(eating_lunch) - OOO이 밥을 먹습니다. \\n유튜브도 같이 봅니다.\n",
    "# - 개발하기(develop) - OOO이 OOO언어로 개발을 합니다.\n",
    "# \n",
    "\n",
    "# 2. 영업사원(Salesman)\n",
    "# 속성 : 이름(name), 경력(career), 담당 지역(location)\n",
    "# 기능 : \n",
    "# - 출근하기(go_to_work) - OOO이 출근을 합니다.\n",
    "# - 점심먹기(eating_lunch) - OOO이 밥을 먹습니다. \\n밥먹으면서 통화를 합니다.\n",
    "# - 판매하기(sales) - OOO이 OOO지역에서 고객에게 판매를 합니다.\n",
    "\n",
    "# 위의 클래스들의 공통되는 속성과 기능은 사원(Employee) 클래스로 구현한 후\n",
    "# 상속을 이용하여 처리한다.\n",
    "\n",
    "# Employee\n",
    "# 속성: 이름, 경력\n",
    "# 메서드: 출근, 점심"
   ]
  },
  {
   "cell_type": "code",
   "execution_count": 36,
   "metadata": {},
   "outputs": [
    {
     "name": "stdout",
     "output_type": "stream",
     "text": [
      "======직원 정보======\n",
      "이름 : 한유현\n",
      "경력 : 4년\n",
      "부서 : 개발 (Java, Python)\n",
      "====================\n",
      "한유현이 출근을 합니다!\n",
      "한유현이 점심으로 닭가슴살 샐러드을(를) 먹습니다.\n",
      "유튜브도 같이 봅니다.\n",
      "한유현이 Java, Python 언어로 개발을 합니다.\n",
      "**********************************\n",
      "======직원 정보======\n",
      "이름 : 한유진\n",
      "경력 : 6년\n",
      "부서 : 영업 (서울,경기)\n",
      "====================\n",
      "한유진이 출근을 합니다!\n",
      "한유진이 점심으로 제육볶음을(를) 먹습니다.\n",
      "밥먹으면서 통화를 합니다.\n",
      "한유진이 서울,경기 지역에서 고객에게 판매를 합니다.\n"
     ]
    }
   ],
   "source": [
    "class Employee():\n",
    "    def __init__(self, name, career):\n",
    "        self.name = name\n",
    "        self.career = career\n",
    "        \n",
    "    def print_info(self):\n",
    "        print(\"======직원 정보======\")\n",
    "        print(\"이름 :\", self.name)\n",
    "        print(f'경력 : {self.career}년')\n",
    "        \n",
    "    def go_to_work(self):\n",
    "        print(f'{self.name}이 출근을 합니다!')\n",
    "    \n",
    "    def eating_lunch(self, menu):\n",
    "        print(f'{self.name}이 점심으로 {menu}을(를) 먹습니다.')\n",
    "\n",
    "class Developer(Employee):\n",
    "    def __init__(self, name, career, language):\n",
    "        super().__init__(name, career)\n",
    "        self.language = language\n",
    "        \n",
    "    def print_info(self):\n",
    "        super().print_info()\n",
    "        print(f'부서 : 개발 ({self.language})')\n",
    "        print(\"====================\")\n",
    "\n",
    "    def eating_lunch(self, menu):\n",
    "        super().eating_lunch(menu)\n",
    "        print(\"유튜브도 같이 봅니다.\")\n",
    "    \n",
    "    def develop(self):\n",
    "        print(f'{self.name}이 {self.language} 언어로 개발을 합니다.')\n",
    "\n",
    "class Salesman(Employee):\n",
    "    def __init__(self, name, career, location):\n",
    "        super().__init__(name, career)\n",
    "        self.location = location\n",
    "        \n",
    "    def print_info(self):\n",
    "        super().print_info()\n",
    "        print(f'부서 : 영업 ({self.location})')\n",
    "        print(\"====================\")\n",
    "        \n",
    "    def eating_lunch(self, menu):\n",
    "        super().eating_lunch(menu)\n",
    "        print(\"밥먹으면서 통화를 합니다.\")\n",
    "        \n",
    "    def sales(self):\n",
    "        print(f'{self.name}이 {self.location} 지역에서 고객에게 판매를 합니다.')\n",
    "\n",
    "emp1 = Developer(\"한유현\", 4, \"Java, Python\")\n",
    "emp1.print_info()\n",
    "emp1.go_to_work()\n",
    "emp1.eating_lunch(\"닭가슴살 샐러드\")\n",
    "emp1.develop()\n",
    "print(\"**********************************\")\n",
    "emp2 = Salesman(\"한유진\", 6, \"서울,경기\")\n",
    "emp2.print_info()\n",
    "emp2.go_to_work()\n",
    "emp2.eating_lunch(\"제육볶음\")\n",
    "emp2.sales()"
   ]
  },
  {
   "cell_type": "markdown",
   "metadata": {},
   "source": [
    "### Jupyter Notebook 파일\n",
    "- .ipynb 확장자\n",
    "- 코드를 셀 단위로 실행시켜서 바로 결과를 확인할 수 있음\n",
    "- 파이썬 기초 학습, 데이터 분석에서 많이 사용\n",
    "### 파이썬 파일\n",
    "- 파이썬 코드 작성할 수 있는 기본적 파일\n",
    "- .py확장자\n",
    "- 셀 개념x, 하나의 파일에 작성한 후 전체 실행\n",
    "- 여러 프로그램을 만드는 개발 용도\n",
    "### 모듈\n",
    "- 관련된 함수, 클래스, 변수 등을 .py 파일로 만들어두고 필요할 때 불러다 사용\n",
    "- 모듈을 활용하면 다른 개발자가 만들어둔 여러 기능을 편하게 불러와 사용할 수 있음\n",
    "\n",
    "### 모듈 사용하기\n",
    "- 모듈을 불러올 때는 import(가져오기)라는 키워드를 사용\n",
    "- import 모듈명: 모듈에 있는 모든 것을 다 사용하겠다는 의미\n",
    "- import 모듈명 as 별칭: 모듈에 별칭을 부여하여 사용\n",
    "- from 모듈명 import 특정요소: 모듈에 있는 특정요소만 가져와 사용하겠다는 의미\n"
   ]
  },
  {
   "cell_type": "code",
   "execution_count": 38,
   "metadata": {},
   "outputs": [
    {
     "name": "stdout",
     "output_type": "stream",
     "text": [
      "변수\n",
      "py파일에 만들어둔 함수\n"
     ]
    }
   ],
   "source": [
    "import my_module\n",
    "\n",
    "print(my_module.var)\n",
    "my_module.my_func()\n",
    "mc = my_module.MyClass()"
   ]
  },
  {
   "cell_type": "code",
   "execution_count": 39,
   "metadata": {},
   "outputs": [
    {
     "name": "stdout",
     "output_type": "stream",
     "text": [
      "py파일에 만들어둔 함수\n",
      "변수\n"
     ]
    }
   ],
   "source": [
    "import my_module as mm\n",
    "\n",
    "mm.my_func()\n",
    "print(mm.var)"
   ]
  },
  {
   "cell_type": "code",
   "execution_count": 40,
   "metadata": {},
   "outputs": [
    {
     "name": "stdout",
     "output_type": "stream",
     "text": [
      "변수\n",
      "py파일에 만들어둔 함수\n"
     ]
    }
   ],
   "source": [
    "from my_module import var, my_func\n",
    "\n",
    "# 특정 요소만 가져온 경우 모듈명을 생략하고 사용할 수 있음\n",
    "print(var)\n",
    "my_func()"
   ]
  },
  {
   "cell_type": "markdown",
   "metadata": {},
   "source": [
    "### Random 모듈\n",
    "- randint\n",
    "- randrange\n",
    "- choice(seq)\n",
    "- sample"
   ]
  },
  {
   "cell_type": "code",
   "execution_count": 56,
   "metadata": {},
   "outputs": [
    {
     "name": "stdout",
     "output_type": "stream",
     "text": [
      "[1, 4, 5, 5, 10, 10, 5, 5, 1, 3]\n",
      "1\n",
      "9\n",
      "5\n",
      "------------\n",
      "e\n",
      "세\n"
     ]
    }
   ],
   "source": [
    "# Random 모듈\n",
    "# 랜덤과 관련된 여러 기능을 모아둔 모듈\n",
    "import random as rd\n",
    "# randint(a, b): a, b 둘다 포함\n",
    "# rd.randint(1, 10)\n",
    "lst = []\n",
    "for i in range(10):\n",
    "    num = rd.randint(1, 10)\n",
    "    lst.append(num)\n",
    "print(lst)\n",
    "# randrange(start, stop, step)\n",
    "# randrange(a, b): a, b-1까지 \n",
    "# 기본 0부터\n",
    "print(rd.randrange(5))\n",
    "print(rd.randrange(1, 11))\n",
    "print(rd.randrange(5, 10, 2)) # 5, 7, 9\n",
    "print(\"------------\")\n",
    "# choice(seq)\n",
    "# 매개변수로 시퀀스 자료형을 전달\n",
    "# 시퀀스 자료형에 저장된 값들 중 하나를 랜덤으로 반환\n",
    "lst = ['a', 'b', 'c', 'd', 'e']\n",
    "alpha = rd.choice(lst)\n",
    "print(alpha)\n",
    "print(rd.choice(\"안녕하세요!\"))"
   ]
  },
  {
   "cell_type": "code",
   "execution_count": 57,
   "metadata": {},
   "outputs": [
    {
     "name": "stdout",
     "output_type": "stream",
     "text": [
      "['겨울', '여름']\n"
     ]
    }
   ],
   "source": [
    "# sample\n",
    "li = rd.sample([\"봄\",\"여름\", \"가을\", \"겨울\"], 2)\n",
    "print(li)"
   ]
  },
  {
   "cell_type": "code",
   "execution_count": 59,
   "metadata": {},
   "outputs": [
    {
     "data": {
      "text/plain": [
       "['__and__',\n",
       " '__class__',\n",
       " '__class_getitem__',\n",
       " '__contains__',\n",
       " '__delattr__',\n",
       " '__dir__',\n",
       " '__doc__',\n",
       " '__eq__',\n",
       " '__format__',\n",
       " '__ge__',\n",
       " '__getattribute__',\n",
       " '__getstate__',\n",
       " '__gt__',\n",
       " '__hash__',\n",
       " '__iand__',\n",
       " '__init__',\n",
       " '__init_subclass__',\n",
       " '__ior__',\n",
       " '__isub__',\n",
       " '__iter__',\n",
       " '__ixor__',\n",
       " '__le__',\n",
       " '__len__',\n",
       " '__lt__',\n",
       " '__ne__',\n",
       " '__new__',\n",
       " '__or__',\n",
       " '__rand__',\n",
       " '__reduce__',\n",
       " '__reduce_ex__',\n",
       " '__repr__',\n",
       " '__ror__',\n",
       " '__rsub__',\n",
       " '__rxor__',\n",
       " '__setattr__',\n",
       " '__sizeof__',\n",
       " '__str__',\n",
       " '__sub__',\n",
       " '__subclasshook__',\n",
       " '__xor__',\n",
       " 'add',\n",
       " 'clear',\n",
       " 'copy',\n",
       " 'difference',\n",
       " 'difference_update',\n",
       " 'discard',\n",
       " 'intersection',\n",
       " 'intersection_update',\n",
       " 'isdisjoint',\n",
       " 'issubset',\n",
       " 'issuperset',\n",
       " 'pop',\n",
       " 'remove',\n",
       " 'symmetric_difference',\n",
       " 'symmetric_difference_update',\n",
       " 'union',\n",
       " 'update']"
      ]
     },
     "execution_count": 59,
     "metadata": {},
     "output_type": "execute_result"
    }
   ],
   "source": [
    "dir(set())"
   ]
  },
  {
   "cell_type": "code",
   "execution_count": 66,
   "metadata": {},
   "outputs": [
    {
     "name": "stdout",
     "output_type": "stream",
     "text": [
      "{40, 21, 22, 25, 29, 30}\n",
      "[21, 22, 25, 29, 30, 40]\n"
     ]
    }
   ],
   "source": [
    "# 로또번호 생성기\n",
    "# 1~45까지의 숫자 중 랜덤 숫자 6개 만드록 정렬하여 출력\n",
    "import random as rd\n",
    "num_set = set()\n",
    "while len(num_set) < 6:\n",
    "    num_set.add(rd.randint(1, 45))\n",
    "print(num_set)\n",
    "lotto = list(num_set)\n",
    "lotto.sort()\n",
    "# print(sorted(lotto))\n",
    "print(lotto)"
   ]
  },
  {
   "cell_type": "code",
   "execution_count": null,
   "metadata": {},
   "outputs": [],
   "source": []
  }
 ],
 "metadata": {
  "kernelspec": {
   "display_name": "Python 3",
   "language": "python",
   "name": "python3"
  },
  "language_info": {
   "codemirror_mode": {
    "name": "ipython",
    "version": 3
   },
   "file_extension": ".py",
   "mimetype": "text/x-python",
   "name": "python",
   "nbconvert_exporter": "python",
   "pygments_lexer": "ipython3",
   "version": "3.12.1"
  }
 },
 "nbformat": 4,
 "nbformat_minor": 2
}
