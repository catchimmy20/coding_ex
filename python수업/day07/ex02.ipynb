{
 "cells": [
  {
   "cell_type": "markdown",
   "metadata": {},
   "source": [
    "### Pandas\n",
    "- 데이터 분석을 위한 Python 라이브러리\n",
    "- 엑셀 같은 표 형태의 자료구조를 제공함\n",
    "- 대용량 데이터 처리에 특화됨\n",
    "\n",
    "### Series \n",
    "- 1차원 배열구조\n",
    "- 인덱스-값 쌍으로 구성된 배열\n",
    "- NumPy 배열의 확장된 형태"
   ]
  },
  {
   "cell_type": "code",
   "execution_count": null,
   "metadata": {},
   "outputs": [],
   "source": [
    "%pip install pandas"
   ]
  },
  {
   "cell_type": "code",
   "execution_count": 12,
   "metadata": {},
   "outputs": [
    {
     "name": "stdout",
     "output_type": "stream",
     "text": [
      "0    10\n",
      "1    20\n",
      "2    30\n",
      "3    40\n",
      "4    50\n",
      "dtype: int64\n",
      "0    a\n",
      "1    b\n",
      "2    c\n",
      "3    d\n",
      "4    e\n",
      "dtype: object\n",
      "d\n",
      "0    a\n",
      "1    b\n",
      "2    c\n",
      "dtype: object\n",
      "---------------\n"
     ]
    },
    {
     "data": {
      "text/plain": [
       "apple     10\n",
       "banana    20\n",
       "orange    30\n",
       "dtype: int64"
      ]
     },
     "execution_count": 12,
     "metadata": {},
     "output_type": "execute_result"
    }
   ],
   "source": [
    "import pandas as pd\n",
    "# 시리즈 생성\n",
    "li = ['a', 'b', 'c', 'd', 'e']\n",
    "pd.Series(li)\n",
    "\n",
    "# 튜플\n",
    "tu = 10, 20, 30, 40, 50\n",
    "print(pd.Series(tu))\n",
    "\n",
    "s = pd.Series(li)\n",
    "print(s)\n",
    "print(s[3])\n",
    "# 슬라이싱에서 마지막 인덱스를 포함하지 않는 것은 동일하다\n",
    "print(s[:3])\n",
    "\n",
    "print(\"---------------\")\n",
    "\n",
    "# 인덱스 설정(라벨 인덱스 설정)\n",
    "# 기본적으로 리스트나 배열은 인덱스가 0부터 1씩 증가하면서 자동 생성됨\n",
    "# 시리즈는 별도의 인덱스를 개발자가 직접 지정할 수 있고 '라벨' 이라 부름\n",
    "fruits = pd.Series([10, 20, 30], index=['apple', 'banana', 'orange'])\n",
    "fruits['apple'] # 라벨인덱싱\n",
    "# 파이썬 슬라이싱 : end-index 미포함\n",
    "# 시리즈의 인덱스를 활용한 슬라이싱 : end-index 미포함\n",
    "# 시리즈의 라벨을 활용한 슬라이싱 : end-index 포함!!\n",
    "fruits['apple':'orange']"
   ]
  },
  {
   "cell_type": "markdown",
   "metadata": {},
   "source": []
  }
 ],
 "metadata": {
  "kernelspec": {
   "display_name": "Python 3",
   "language": "python",
   "name": "python3"
  },
  "language_info": {
   "codemirror_mode": {
    "name": "ipython",
    "version": 3
   },
   "file_extension": ".py",
   "mimetype": "text/x-python",
   "name": "python",
   "nbconvert_exporter": "python",
   "pygments_lexer": "ipython3",
   "version": "3.12.1"
  }
 },
 "nbformat": 4,
 "nbformat_minor": 2
}
