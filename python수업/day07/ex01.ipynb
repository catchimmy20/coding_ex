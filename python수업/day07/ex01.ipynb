{
 "cells": [
  {
   "cell_type": "code",
   "execution_count": 6,
   "metadata": {},
   "outputs": [
    {
     "data": {
      "text/plain": [
       "np.float64(3.1622776601683795)"
      ]
     },
     "execution_count": 6,
     "metadata": {},
     "output_type": "execute_result"
    }
   ],
   "source": [
    "# day06 - ex02.ipynb에 이어서\n",
    "import numpy as np\n",
    "# 3. 기능\n",
    "li1 = [1,2,3,4]\n",
    "# 리스트의 기능은 데이터를 추가/수정/삭제하는 기본적인 기능이 주가 됨\n",
    "li1.append(10)\n",
    "# 내장 함수를 이용하여 통계를 구할 수 있으나 기능이 부족함\n",
    "sum(li1)\n",
    "\n",
    "arr1 = np.array(li1)\n",
    "# 넘파이의 배열은 여러 수학적 기능을 제공\n",
    "arr1.max()\n",
    "arr1.min()\n",
    "arr1.sum()\n",
    "arr1.mean() # 평균\n",
    "arr1.std() # 표준편차"
   ]
  },
  {
   "cell_type": "code",
   "execution_count": 13,
   "metadata": {},
   "outputs": [
    {
     "name": "stdout",
     "output_type": "stream",
     "text": [
      "[ 2  4  6  8 10]\n",
      "2\n",
      "[4 6]\n"
     ]
    },
    {
     "data": {
      "text/plain": [
       "array([False, False,  True,  True,  True])"
      ]
     },
     "execution_count": 13,
     "metadata": {},
     "output_type": "execute_result"
    }
   ],
   "source": [
    "# 배열의 인덱싱과 슬라이싱\n",
    "li = [x * 2 for x in range(1, 6)]\n",
    "li\n",
    "\n",
    "arr1 = np.array(li)\n",
    "print(arr1)\n",
    "\n",
    "# 기본인덱싱\n",
    "print(arr1[0])\n",
    "\n",
    "# 기본 슬라이싱\n",
    "print(arr1[1:3])\n",
    "\n",
    "# 인덱스 리스트 사용(fancy 인덱싱)\n",
    "# 0, 2, 3번째 요소를 가져옴\n",
    "arr1[[0, 2, 3]]\n",
    "\n",
    "# 불리언 인덱싱(마스킹)\n",
    "mask = [True, False, True, False, False]\n",
    "print(arr1[mask])\n",
    "# 활용\n",
    "arr1 > 5"
   ]
  },
  {
   "cell_type": "markdown",
   "metadata": {},
   "source": [
    "### 스칼라(Scalar)\n",
    "- 하나의 값으로 표현되는 데이터\n",
    "- numpy에서 스칼라는 0차원 배열로 표현함\n",
    "\n",
    "### 넘파이의 데이터 타입\n",
    "- 2^32, 2^64 범위의 숫자 표현할 수 있음\n",
    "- 디폴트는 64\n",
    "- 정수형 : int32, int64\n",
    "- 실수형 : float32, float64\n",
    "- 논리형 : bool"
   ]
  },
  {
   "cell_type": "code",
   "execution_count": 23,
   "metadata": {},
   "outputs": [
    {
     "name": "stdout",
     "output_type": "stream",
     "text": [
      "정수형 스칼라 : 5\n",
      "차원 : 0\n",
      "형태 : ()\n",
      "데이터 타입 : int64\n",
      "10\n"
     ]
    },
    {
     "data": {
      "text/plain": [
       "np.float64(2.3333333333333335)"
      ]
     },
     "execution_count": 23,
     "metadata": {},
     "output_type": "execute_result"
    }
   ],
   "source": [
    "import numpy as np\n",
    "\n",
    "# 스칼라 생성\n",
    "scalar_int = np.array(5)\n",
    "scalar_float = np.array(3.14)\n",
    "\n",
    "# 스칼라의 특성\n",
    "print(f\"정수형 스칼라 : {scalar_int}\")\n",
    "print(f\"차원 : {scalar_int.ndim}\")\n",
    "print(f\"형태 : {scalar_int.shape}\")\n",
    "print(f\"데이터 타입 : {scalar_int.dtype}\")\n",
    "\n",
    "# 스칼라는 일반적인 값처럼 사용하면 됨\n",
    "a = np.array(7)\n",
    "b = np.array(3)\n",
    "print(a + b)\n",
    "a - b\n",
    "a * b\n",
    "a / b"
   ]
  },
  {
   "cell_type": "code",
   "execution_count": 29,
   "metadata": {},
   "outputs": [
    {
     "name": "stdout",
     "output_type": "stream",
     "text": [
      "밑 : 2, 지수 : 3\n",
      "밑 ** 지수 : 8\n",
      "제곱근 : 4.0\n",
      "자연지수: 7.38905609893065\n",
      "이진로그 : 4.0\n",
      "자연로그 : 2.772588722239781\n"
     ]
    },
    {
     "data": {
      "text/plain": [
       "dtype('int64')"
      ]
     },
     "execution_count": 29,
     "metadata": {},
     "output_type": "execute_result"
    }
   ],
   "source": [
    "base = 2 \n",
    "exp = 3\n",
    "print(f'밑 : {base}, 지수 : {exp}')\n",
    "print(f'밑 ** 지수 : {base ** exp}')\n",
    "\n",
    "# 수학 함수와 스칼라\n",
    "x = np.array(16)\n",
    "print(f'제곱근 : {np.sqrt(x)}')\n",
    "print(f'자연지수: {np.exp(2)}')\n",
    "print(f'이진로그 : {np.log2(16)}')\n",
    "print(f'자연로그 : {np.log(16)}')\n",
    "\n",
    "# 타입변환\n",
    "float_scalar = np.array(5.7)\n",
    "float_scalar.dtype\n",
    "\n",
    "int_scalar = float_scalar.astype(int)\n",
    "int_scalar\n",
    "int_scalar.dtype"
   ]
  },
  {
   "cell_type": "markdown",
   "metadata": {},
   "source": [
    "### 벡터(Vector)\n",
    "- 크기와 방향을 가진 데이터\n",
    "- numpy에서는 1차원 배열로 표현\n",
    "- [1,2,3]\n",
    "\n",
    "### 특징\n",
    "- 차원 : 1차원\n",
    "- 형태 : (n, )\n",
    "- 길이(size) : 벡터의 요소 개수"
   ]
  },
  {
   "cell_type": "code",
   "execution_count": 33,
   "metadata": {},
   "outputs": [
    {
     "data": {
      "text/plain": [
       "np.float64(7.416198487095663)"
      ]
     },
     "execution_count": 33,
     "metadata": {},
     "output_type": "execute_result"
    }
   ],
   "source": [
    "import numpy\n",
    "# 벡터 생성\n",
    "v1 = np.array([1,2,3,4,5])\n",
    "\n",
    "# 특성 확인\n",
    "v1.ndim\n",
    "v1.shape\n",
    "v1.size\n",
    "\n",
    "# 벡터의 크기\n",
    "np.linalg.norm(v1)"
   ]
  },
  {
   "cell_type": "code",
   "execution_count": 42,
   "metadata": {},
   "outputs": [
    {
     "data": {
      "text/plain": [
       "np.int64(32)"
      ]
     },
     "execution_count": 42,
     "metadata": {},
     "output_type": "execute_result"
    }
   ],
   "source": [
    "v1 = np.array([1, 2, 3])\n",
    "v2 = np.array([4, 5, 6])\n",
    "\n",
    "# 수평 결합\n",
    "h_stack = np.hstack([v1, v2])\n",
    "h_stack\n",
    "\n",
    "# 수직 결합\n",
    "v_stack = np.vstack([v1, v2])\n",
    "v_stack\n",
    "\n",
    "# 벡터 분해\n",
    "v = np.array([i for i in range(1, 7)])\n",
    "split = np.split(v, 2)\n",
    "split\n",
    "\n",
    "# 내적\n",
    "a = np.array([1, 2, 3])\n",
    "b = np.array([4, 5, 6])\n",
    "a * b\n",
    "\n",
    "result = np.dot(a, b)\n",
    "result\n",
    "a @ b"
   ]
  },
  {
   "cell_type": "code",
   "execution_count": 67,
   "metadata": {},
   "outputs": [
    {
     "name": "stdout",
     "output_type": "stream",
     "text": [
      "원본 배열:  [ 0  1  2  3  4  5  6  7  8  9 10 11]\n",
      "[[ 0  1  2  3  4  5]\n",
      " [ 6  7  8  9 10 11]]\n",
      "[[ 0  1  2  3]\n",
      " [ 4  5  6  7]\n",
      " [ 8  9 10 11]]\n"
     ]
    },
    {
     "data": {
      "text/plain": [
       "array([[ 0,  1,  2],\n",
       "       [ 3,  4,  5],\n",
       "       [ 6,  7,  8],\n",
       "       [ 9, 10, 11]])"
      ]
     },
     "execution_count": 67,
     "metadata": {},
     "output_type": "execute_result"
    }
   ],
   "source": [
    "# 리스트는 언제든 데이터를 추가/삭제할 수 있음\n",
    "li = [1, 2, 3, 7]\n",
    "li.append(11)\n",
    "li\n",
    "li.pop(1)\n",
    "li\n",
    "\n",
    "# 리스트는 길이가 고정된 자료구조가 아니라 언제든 변경될 수 있는 자료구조(가변성)\n",
    "# 넘파이의 배열은 크기가 고정된 배열임\n",
    "# 즉 데이터 추가/삭제가 불가능(배열의 길이가 변경될 수 없음)\n",
    "\n",
    "arr = np.array([1,2,3])\n",
    "arr # arr은 영원히 3칸\n",
    "\n",
    "# append(원본 배열, 추가할 데이터): 원본 배열과 추가할 데이터로  새로운 배열을 만들어 변환\n",
    "arr2 = np.append(arr, [4,5,6])\n",
    "arr2\n",
    "\n",
    "# 데이터 수정\n",
    "# 인덱싱 활용\n",
    "arr = np.array([1,2,3])\n",
    "arr[0] = 10\n",
    "arr\n",
    "\n",
    "arr = np.array([i for i in range(1, 11)])\n",
    "# 범위를 단일 값으로 수정\n",
    "arr[1:4] = 21\n",
    "arr\n",
    "\n",
    "# 범위에 데이터를 각각 수정\n",
    "arr[1:3] = 11\n",
    "arr\n",
    "\n",
    "# 마스킹을 활용한 수정\n",
    "arr = np.arange(100) # 0~99\n",
    "arr\n",
    "\n",
    "# 마스킹 적용\n",
    "arr[arr > 50]\n",
    "\n",
    "# 짝수만 선택\n",
    "arr[arr % 2 == 0]\n",
    "# 모든 짝수를 -1로 수정\n",
    "arr[arr % 2 == 0] = -1\n",
    "arr\n",
    "# 변형\n",
    "arr = np.arange(12)\n",
    "print(\"원본 배열: \", arr)\n",
    "\n",
    "# 2 * 6 배열로 변환\n",
    "arr_2_6 = arr.reshape(2, 6)\n",
    "print(arr_2_6)\n",
    "\n",
    "arr_3_4 = arr.reshape(3,4)\n",
    "print(arr_3_4)\n",
    "\n",
    "# -1 사용한 자동 계산\n",
    "arr_auto = arr.reshape(-1, 3)\n",
    "arr_auto"
   ]
  },
  {
   "cell_type": "markdown",
   "metadata": {},
   "source": [
    "### 행렬(Matrix)\n",
    "- 2차원으로 배열된 숫자들의 집합\n",
    "- 행(row)과 열(column)으로 구성\n",
    "- 표 형태의 데이터 구조\n",
    "\n",
    "### 구성요소\n",
    "- 행 : 가로 방향의 원소들\n",
    "- 열 : 세로 방향의 원소들\n",
    "- 원소(element) : 행렬의 각 데이터 항목\n",
    "- 차원 : 2차원\n",
    "- 형태 : (행의 수, 열의 수)\n",
    "\n",
    "### 특수한 행렬\n",
    "- 정방행렬 : 행과 열의 수가 같은 행렬\n",
    "- 단위행렬 : 대각선이 1이고 나머지가 0인 정방행렬\n",
    "- 대각행렬 : 대각선 외의 원소가 모두 0인 행렬\n",
    "- 전치행렬 : 행과 열을 바꾼 행렬"
   ]
  },
  {
   "cell_type": "code",
   "execution_count": 73,
   "metadata": {},
   "outputs": [
    {
     "data": {
      "text/plain": [
       "array([[1, 4],\n",
       "       [2, 5],\n",
       "       [3, 6]])"
      ]
     },
     "execution_count": 73,
     "metadata": {},
     "output_type": "execute_result"
    }
   ],
   "source": [
    "# 행렬 생성\n",
    "matrix1 = np.array([[1,2,3], [4,5,6]])\n",
    "matrix1\n",
    "matrix1.shape\n",
    "matrix1.ndim\n",
    "\n",
    "# 특수 행렬 생성\n",
    "# 단위 행렬(대각선이 1인 정방행렬)\n",
    "np.eye(3)\n",
    "np.eye(5)\n",
    "\n",
    "# 전치 행렬(행과 열을 바꿈)\n",
    "matrix1\n",
    "trans = matrix1.T\n",
    "trans"
   ]
  },
  {
   "cell_type": "code",
   "execution_count": null,
   "metadata": {},
   "outputs": [
    {
     "ename": "TypeError",
     "evalue": "Field elements must be 2- or 3-tuples, got '3'",
     "output_type": "error",
     "traceback": [
      "\u001b[0;31m---------------------------------------------------------------------------\u001b[0m",
      "\u001b[0;31mTypeError\u001b[0m                                 Traceback (most recent call last)",
      "Cell \u001b[0;32mIn[76], line 2\u001b[0m\n\u001b[1;32m      1\u001b[0m \u001b[38;5;66;03m# 1. 행렬 연산\u001b[39;00m\n\u001b[0;32m----> 2\u001b[0m A \u001b[38;5;241m=\u001b[39m \u001b[43mnp\u001b[49m\u001b[38;5;241;43m.\u001b[39;49m\u001b[43marray\u001b[49m\u001b[43m(\u001b[49m\u001b[43m[\u001b[49m\u001b[38;5;241;43m1\u001b[39;49m\u001b[43m,\u001b[49m\u001b[38;5;241;43m2\u001b[39;49m\u001b[43m]\u001b[49m\u001b[43m,\u001b[49m\u001b[43m \u001b[49m\u001b[43m[\u001b[49m\u001b[38;5;241;43m3\u001b[39;49m\u001b[43m,\u001b[49m\u001b[38;5;241;43m4\u001b[39;49m\u001b[43m]\u001b[49m\u001b[43m)\u001b[49m\n\u001b[1;32m      3\u001b[0m B \u001b[38;5;241m=\u001b[39m np\u001b[38;5;241m.\u001b[39marray([\u001b[38;5;241m5\u001b[39m,\u001b[38;5;241m6\u001b[39m], [\u001b[38;5;241m7\u001b[39m,\u001b[38;5;241m8\u001b[39m])\n\u001b[1;32m      4\u001b[0m \u001b[38;5;28mprint\u001b[39m(A)\n",
      "\u001b[0;31mTypeError\u001b[0m: Field elements must be 2- or 3-tuples, got '3'"
     ]
    }
   ],
   "source": [
    "# 1. 행렬 연산\n",
    "A = np.array([1,2], [3,4])\n",
    "B = np.array([5,6], [7,8])\n",
    "print(A)\n",
    "print(B)\n",
    "\n",
    "# 스칼라 곱(모든 원소에 스칼라값을 곱합)\n",
    "A * 2\n",
    "\n",
    "# 행렬 곱 (행렬 곱셈 규칙에 따라 계산)\n",
    "A @ B"
   ]
  },
  {
   "cell_type": "code",
   "execution_count": 90,
   "metadata": {},
   "outputs": [
    {
     "name": "stdout",
     "output_type": "stream",
     "text": [
      "m1\n",
      " [[1 2 3]\n",
      " [4 5 6]\n",
      " [7 8 9]]\n",
      "2\n",
      "2\n",
      "[1 2 3]\n",
      "[2 5 8]\n",
      "[3 6 9]\n",
      "[[1 2]\n",
      " [4 5]]\n",
      "[[5 6]\n",
      " [8 9]]\n"
     ]
    },
    {
     "data": {
      "text/plain": [
       "array([6, 7, 8, 9])"
      ]
     },
     "execution_count": 90,
     "metadata": {},
     "output_type": "execute_result"
    }
   ],
   "source": [
    "# 매트릭스 인덱싱과 슬라이싱\n",
    "m1 = np.arange(1, 10).reshape(3,3)\n",
    "print(\"m1\\n\", m1)\n",
    "\n",
    "# 인덱싱\n",
    "# 1. [행][열]\n",
    "print(m1[0][1])\n",
    "# 2. [행, 열]\n",
    "print(m1[0, 1]) # 넘파이 배열에서 가능한 방법(리스트 불가능)\n",
    "\n",
    "# 하나의 행 가져오기\n",
    "print(m1[0]) # 행만 인덱싱\n",
    "\n",
    "# 하나의 열 가져오기\n",
    "print(m1[:, 1]) # 슬라이싱 활용\n",
    "print(m1[:,2])\n",
    "\n",
    "# 슬라이싱으로 범위 선택(붙어있는 범위)\n",
    "print(m1[0:2, 0:2])\n",
    "# [1~마지막 행, 1~마지막 열]\n",
    "print(m1[1:, 1:])\n",
    "\n",
    "# Fancy 인덱싱 (떨어져 있는 요소들 선택)\n",
    "# [행, 열]\n",
    "# [[0행, 2행], 모든 열]\n",
    "m1[[0,2] ]\n",
    "\n",
    "# [모든행, [0열, 2열]]\n",
    "m1[:, [0,2]]\n",
    "m1[[0,2], [1]]\n",
    "\n",
    "# 조건 기반 인덱싱(마스킹)\n",
    "m1[m1 > 5]\n"
   ]
  },
  {
   "cell_type": "code",
   "execution_count": 96,
   "metadata": {},
   "outputs": [
    {
     "data": {
      "text/plain": [
       "array([[10, 20,  3],\n",
       "       [40, 50, 60],\n",
       "       [ 7, 80,  9]])"
      ]
     },
     "execution_count": 96,
     "metadata": {},
     "output_type": "execute_result"
    }
   ],
   "source": [
    "# 매트릭스 데이터 추가/수정/삭제\n",
    "# 추가/삭제 불가능\n",
    "\n",
    "# 단일 요소 수정\n",
    "m1[0,0] = 10\n",
    "m1\n",
    "m1[1]\n",
    "\n",
    "# 행 전체 수정\n",
    "m1[1] = 100\n",
    "m1\n",
    "m1[1] = [40, 50, 60]\n",
    "m1\n",
    "\n",
    "# 열 수정\n",
    "# 모든 행 1열\n",
    "m1[:, 1]\n",
    "m1[:, 1] = [20, 50, 80]\n",
    "m1"
   ]
  },
  {
   "cell_type": "code",
   "execution_count": null,
   "metadata": {},
   "outputs": [],
   "source": []
  }
 ],
 "metadata": {
  "kernelspec": {
   "display_name": "Python 3",
   "language": "python",
   "name": "python3"
  },
  "language_info": {
   "codemirror_mode": {
    "name": "ipython",
    "version": 3
   },
   "file_extension": ".py",
   "mimetype": "text/x-python",
   "name": "python",
   "nbconvert_exporter": "python",
   "pygments_lexer": "ipython3",
   "version": "3.12.1"
  }
 },
 "nbformat": 4,
 "nbformat_minor": 2
}
