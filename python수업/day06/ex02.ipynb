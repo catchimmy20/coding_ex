{
 "cells": [
  {
   "cell_type": "markdown",
   "metadata": {},
   "source": [
    "## numpy(Numerical Python)\n",
    "- 수치 계산을 위한 파이썬 라이브러리\n",
    "- 데이터분석, 머신러닝에서 필수적으로 사용\n",
    "- 배열이라는 자료구조를 제공하고 배열 연산을 위한 다양한 기능 제공\n",
    "- 외부 라이브러리이기에 설치가 필요 -> pip install numpy\n",
    "\n",
    "### numpy의 배열\n",
    "1. ndarray(N-dimensional array)\n",
    "    - 리스트와 유사하지만 더 강력한 기능 제공\n",
    "    - 다차원 배열 객체"
   ]
  },
  {
   "cell_type": "code",
   "execution_count": 6,
   "metadata": {},
   "outputs": [
    {
     "name": "stdout",
     "output_type": "stream",
     "text": [
      "3\n",
      "[1, 2]\n",
      "2\n",
      "2\n",
      "3\n"
     ]
    }
   ],
   "source": [
    "# 일반 리스트(1차원 리스트)\n",
    "li = [1, 2, 3, 4, 5]\n",
    "\n",
    "# 2차원 리스트(리스트 안에 리스트가 있는 형태)\n",
    "li2 = [[1, 2], [3, 4], [5, 6]]\n",
    "print(len(li2))\n",
    "print(li2[0])\n",
    "print(len(li2[0]))\n",
    "print(li2[0][1])\n",
    "\n",
    "li3 = [[1, 2, 3], [4, 5, 6], [7, 8, 9]]\n",
    "print(li3[0][2])"
   ]
  },
  {
   "cell_type": "markdown",
   "metadata": {},
   "source": [
    "주피터 노트북에서 넘파이 깔기(깃허브 코드스페이스임)"
   ]
  },
  {
   "cell_type": "code",
   "execution_count": null,
   "metadata": {},
   "outputs": [],
   "source": [
    "%pip install numpy\n",
    "%pip install --upgrade pip"
   ]
  },
  {
   "cell_type": "code",
   "execution_count": 9,
   "metadata": {},
   "outputs": [
    {
     "data": {
      "text/plain": [
       "array([0.  , 0.25, 0.5 , 0.75, 1.  ])"
      ]
     },
     "execution_count": 9,
     "metadata": {},
     "output_type": "execute_result"
    }
   ],
   "source": [
    "import numpy as np\n",
    "\n",
    "# 넘파이 배열 생성하기\n",
    "# 1. array(): 리스트, 튜플 같은 객체를 이용한 배열 생성\n",
    "arr = np.array([1, 2, 3, 4, 5])\n",
    "arr\n",
    "type(arr)\n",
    "\n",
    "# 2. zeros(): 0으로 채워진 배열\n",
    "# 0. = 0.0\n",
    "np.zeros(5)  # 0이 5개 들어있는 배열 반환\n",
    "\n",
    "# 3. ones(): 1로 채워진 배열\n",
    "np.ones(10)\n",
    "\n",
    "# 4. arange(): 범위 지정 배열(range와 유사), 실수 간격 단위 사용가능\n",
    "np.arange(0, 10, 2)\n",
    "np.arange(1, 2, 0.1)\n",
    "\n",
    "# 5. linspace(): 균등 간격 배열\n",
    "# 0 ~ 1까지 5등분\n",
    "np.linspace(0, 1, 5)"
   ]
  },
  {
   "cell_type": "code",
   "execution_count": 12,
   "metadata": {},
   "outputs": [
    {
     "data": {
      "text/plain": [
       "array([[1., 1.],\n",
       "       [1., 1.],\n",
       "       [1., 1.]])"
      ]
     },
     "execution_count": 12,
     "metadata": {},
     "output_type": "execute_result"
    }
   ],
   "source": [
    "# 1. 2차원 리스트로 2차원 배열 생성\n",
    "li = [[1, 2], [3, 4], [5, 6]]\n",
    "np.array(li)\n",
    "\n",
    "# 2. 튜플로 (행, 열) 설정\n",
    "np.zeros((2, 3))\n",
    "np.ones((3, 2))"
   ]
  },
  {
   "cell_type": "code",
   "execution_count": 23,
   "metadata": {},
   "outputs": [
    {
     "name": "stdout",
     "output_type": "stream",
     "text": [
      "[[0 0 0]\n",
      " [0 0 0]\n",
      " [0 0 0]\n",
      " [0 0 0]\n",
      " [0 0 0]]\n"
     ]
    },
    {
     "data": {
      "text/plain": [
       "15"
      ]
     },
     "execution_count": 23,
     "metadata": {},
     "output_type": "execute_result"
    }
   ],
   "source": [
    "arr_zero = np.zeros(5)\n",
    "arr_zero.shape # 배열의 모양(길이): (5, ) <- 1차원이라 길이\n",
    "arr_zero.ndim # 차원 수 \n",
    "arr_zero.dtype # 저장한 요소의 타입\n",
    "arr_zero.size # 저장된 요소의 수\n",
    "\n",
    "# 2차원 배열\n",
    "arr_zero2 = np.zeros((5,3), dtype=int)\n",
    "print(arr_zero2)\n",
    "\n",
    "arr_zero2.shape\n",
    "arr_zero2.ndim\n",
    "arr_zero2.dtype\n",
    "arr_zero2.size\n"
   ]
  },
  {
   "cell_type": "code",
   "execution_count": 33,
   "metadata": {},
   "outputs": [
    {
     "data": {
      "text/plain": [
       "array([16, 25, 36])"
      ]
     },
     "execution_count": 33,
     "metadata": {},
     "output_type": "execute_result"
    }
   ],
   "source": [
    "# 리스트와 배열의 차이\n",
    "# 1. 데이터 타입\n",
    "li = [1, \"2\", 3, \"4\"]\n",
    "li  # 리스트는 다양한 타입의 값 저장 가능\n",
    "\n",
    "arr = np.array([1, \"2\", 3, \"4\"])\n",
    "arr  # 배열은 기본적으로 동일한 타입의 값들을 저장하는 것을 권장함\n",
    "# arr은 모두 같은 타입으로 변경돼 있음\n",
    "\n",
    "# 2. 연산\n",
    "li1 = [1, 2, 3]\n",
    "li2 = [4, 5, 6]\n",
    "li1 + li2  # [1, 2, 3, 4, 5, 6]\n",
    "li1 * 2  # [1, 2, 3, 1, 2, 3]\n",
    "\n",
    "arr1 = np.array([1, 2, 3])\n",
    "arr2 = np.array([4, 5, 6])\n",
    "arr1 + arr2 # array([5, 7, 9])\n",
    "arr1 * 3 # array([3, 6, 9])\n",
    "arr2 **2 # array([16, 25, 36])\n"
   ]
  },
  {
   "cell_type": "code",
   "execution_count": null,
   "metadata": {},
   "outputs": [],
   "source": []
  }
 ],
 "metadata": {
  "kernelspec": {
   "display_name": "Python 3",
   "language": "python",
   "name": "python3"
  },
  "language_info": {
   "codemirror_mode": {
    "name": "ipython",
    "version": 3
   },
   "file_extension": ".py",
   "mimetype": "text/x-python",
   "name": "python",
   "nbconvert_exporter": "python",
   "pygments_lexer": "ipython3",
   "version": "3.12.1"
  }
 },
 "nbformat": 4,
 "nbformat_minor": 2
}
