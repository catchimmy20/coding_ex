{
 "cells": [
  {
   "cell_type": "code",
   "execution_count": 4,
   "metadata": {},
   "outputs": [
    {
     "name": "stdout",
     "output_type": "stream",
     "text": [
      "진화론 해석, 홍길동, 2022\n",
      "데이터 과학, 김영희, 2021\n",
      "머신러닝 입문, 이철수, 2019\n",
      "\n",
      "읽어온 책 정보\n",
      "진화론 해석, 홍길동, 2022\n",
      "데이터 과학, 김영희, 2021\n",
      "머신러닝 입문, 이철수, 2019\n"
     ]
    }
   ],
   "source": [
    "# 책 정보를 파일에 저장하고 읽어오기\n",
    "class Book:\n",
    "    \"\"\"책 정보를 저장하기 위한 클래스\"\"\"\n",
    "\n",
    "    def __init__(self, title: str, author: str, year: int):\n",
    "        self.title = title\n",
    "        self.author = author\n",
    "        self.year = year\n",
    "\n",
    "    def __str__(self):\n",
    "        return f\"{self.title}, {self.author}, {self.year}\"\n",
    "\n",
    "\n",
    "def save_books_to_file(books: list[Book], filename: str):\n",
    "    \"\"\"Book 리스트를 받아 특정 파일에 저장하는 함수\"\"\"\n",
    "    with open(filename, \"w\", encoding=\"utf-8\") as f:\n",
    "        for b in books:\n",
    "            f.write(f\"{b.title}, {b.author}, {b.year}\\n\")\n",
    "\n",
    "\n",
    "def load_books_from_file(filename: str):\n",
    "    \"\"\"특정 파일에 저장돼 있는 데이터로 책 목록을 반환하는 함수\"\"\"\n",
    "    books = []\n",
    "    with open(filename, \"r\", encoding=\"utf-8\") as f:\n",
    "        for line in f:\n",
    "            title, author, year = line.strip().split(\", \")\n",
    "            book = Book(title, author, year)\n",
    "            books.append(book)\n",
    "        return books\n",
    "\n",
    "\n",
    "b1 = Book(\"진화론 해석\", \"홍길동\", 2022)\n",
    "b2 = Book(\"데이터 과학\", \"김영희\", 2021)\n",
    "b3 = Book(\"머신러닝 입문\", \"이철수\", 2019)\n",
    "books = [b1, b2, b3]\n",
    "# print(books[1])\n",
    "for b in books:\n",
    "    print(b)\n",
    "\n",
    "save_books_to_file(books, \"./books.txt\")\n",
    "loaded_books = load_books_from_file(\"./books.txt\")\n",
    "print()\n",
    "print(\"읽어온 책 정보\")\n",
    "for b in loaded_books:\n",
    "    print(b)"
   ]
  },
  {
   "cell_type": "markdown",
   "metadata": {},
   "source": [
    "### CSV(Comma-Separated Values)\n",
    "- 데이터를 ,로 구분하여 저장하는 텍스트 파일 형식\n",
    "- 단순 텍스트 파일은 .txt로 끝나는 것처럼 csv파일은 .csv로 끝남\n",
    "- 엑셀 프로그램과 호환 가능\n",
    "- 파이썬은 csv 모듈을 불러와 쉽게 사용할 수 있음"
   ]
  },
  {
   "cell_type": "code",
   "execution_count": 6,
   "metadata": {},
   "outputs": [],
   "source": [
    "import csv\n",
    "\n",
    "# csv파일 쓰기\n",
    "with open(\"./students.csv\", \"w\", encoding=\"utf-8\") as f:\n",
    "    # 파일객체를 csv 모듈의 writer에게 전달\n",
    "    wr = csv.writer(f)\n",
    "    wr.writerow([\"이름\", \"나이\", \"점수\"])\n",
    "    wr.writerow([\"한유진\", \"25\", \"89\"])\n",
    "    wr.writerow([\"한유현\", \"20\", \"99\"])\n",
    "    wr.writerow([\"박예림\", \"15\", \"90\"])"
   ]
  },
  {
   "cell_type": "code",
   "execution_count": 8,
   "metadata": {},
   "outputs": [],
   "source": [
    "data = [\n",
    "    [\"이름\", \"나이\", \"점수\"],\n",
    "    [\"갈가리\", 24, 90],\n",
    "    [\"장지렁이\", 24, 96],\n",
    "    [\"백지니\", 24, 97]\n",
    "]\n",
    "with open(\"./students2.csv\", \"w\", encoding=\"utf-8\") as f:\n",
    "    wr = csv.writer(f)\n",
    "    wr.writerows(data)"
   ]
  },
  {
   "cell_type": "code",
   "execution_count": 12,
   "metadata": {},
   "outputs": [],
   "source": [
    "students = [\n",
    "    {\"이름\": \"나여주\", \"나이\": 21, \"점수\": 90},\n",
    "    {\"이름\": \"강 한\", \"나이\": 23, \"점수\": 97},\n",
    "    {\"이름\": \"사마영\", \"나이\": 24, \"점수\": 95},\n",
    "]\n",
    "\n",
    "with open(\"./student_dict.csv\", \"w\", encoding=\"utf-8\", newline=\"\") as f:\n",
    "    names = [\"이름\", \"나이\", \"점수\"] # 제목 행\n",
    "    wr = csv.DictWriter(f, fieldnames=names) # fieldnames : 제목행 설정\n",
    "    wr.writeheader() # 제목 행 넣기\n",
    "    wr.writerows(students)"
   ]
  },
  {
   "cell_type": "code",
   "execution_count": 20,
   "metadata": {},
   "outputs": [
    {
     "name": "stdout",
     "output_type": "stream",
     "text": [
      "성현제 : 평균 100.00점\n",
      "시그마 : 평균 99.67점\n"
     ]
    }
   ],
   "source": [
    "def reset_file(filename:str):\n",
    "    # 새 파일 생성 및 제목행 설정\n",
    "    with open(filename, \"w\", encoding=\"utf-8\", newline=\"\") as f:\n",
    "        wr = csv.writer(f)\n",
    "        wr.writerow([\"이름\", \"국어\", \"영어\", \"수학\"])\n",
    "\n",
    "def add_student(filename:str):\n",
    "    with open(filename, \"a\", encoding=\"utf-8\", newline=\"\") as f:\n",
    "        wr = csv.writer(f)\n",
    "        # 사용자에게 데이터 입력 받기\n",
    "        name = input(\"이름 >> \")\n",
    "        kor = int(input(\"국어 >> \"))\n",
    "        eng = int(input(\"영어 >> \"))\n",
    "        math = int(input(\"수학 >> \"))\n",
    "\n",
    "        # 입력받은 데이터 파일에 쓰기 처리\n",
    "        wr.writerow([name, kor, eng, math])\n",
    "\n",
    "def show_students(filename:str):\n",
    "    with open(filename, \"r\", encoding=\"utf-8\", newline=\"\") as f:\n",
    "        r = csv.reader(f)\n",
    "        # 첫번째 행 스킵\n",
    "        next(r)\n",
    "        for row in r:\n",
    "            # print(row)\n",
    "            name, kor, eng, math = row\n",
    "            avg = (int(kor) + int(eng) + int(math)) / 3\n",
    "            print(f'{name} : 평균 {avg:.2f}점')\n",
    "            \n",
    "filename = \"./grades.csv\"\n",
    "# reset_file(filename)\n",
    "# add_student(filename)\n",
    "show_students(filename)"
   ]
  },
  {
   "cell_type": "markdown",
   "metadata": {},
   "source": [
    "### f-string 포맷팅\n",
    "https://bio-info.tistory.com/133"
   ]
  },
  {
   "cell_type": "code",
   "execution_count": null,
   "metadata": {},
   "outputs": [],
   "source": []
  }
 ],
 "metadata": {
  "kernelspec": {
   "display_name": "Python 3",
   "language": "python",
   "name": "python3"
  },
  "language_info": {
   "codemirror_mode": {
    "name": "ipython",
    "version": 3
   },
   "file_extension": ".py",
   "mimetype": "text/x-python",
   "name": "python",
   "nbconvert_exporter": "python",
   "pygments_lexer": "ipython3",
   "version": "3.12.1"
  }
 },
 "nbformat": 4,
 "nbformat_minor": 2
}
