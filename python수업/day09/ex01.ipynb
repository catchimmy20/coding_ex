{
 "cells": [
  {
   "cell_type": "code",
   "execution_count": 1,
   "metadata": {},
   "outputs": [],
   "source": [
    "class Node:\n",
    "    def __init__(self, data, next=None):\n",
    "        self.data = data  # 실제 저장할 데이터\n",
    "        self.next = next  # 다음 노드를 가리키는 주소\n",
    "\n",
    "\n",
    "# node를 연결한 자료구조에서 데이터를 추가(삽입)하기\n",
    "\n",
    "# 준비\n",
    "n1 = Node(10)\n",
    "n2 = Node(20)\n",
    "n3 = Node(30)\n",
    "\n",
    "n1.next = n2\n",
    "n2.next = n3\n",
    "\n",
    "# 포인터 p는 항상 첫 번째 노드부터 가리키게 설정\n",
    "p = n1"
   ]
  },
  {
   "cell_type": "code",
   "execution_count": 2,
   "metadata": {},
   "outputs": [
    {
     "ename": "NameError",
     "evalue": "name 'n0' is not defined",
     "output_type": "error",
     "traceback": [
      "\u001b[0;31m---------------------------------------------------------------------------\u001b[0m",
      "\u001b[0;31mNameError\u001b[0m                                 Traceback (most recent call last)",
      "Cell \u001b[0;32mIn[2], line 21\u001b[0m\n\u001b[1;32m     18\u001b[0m \u001b[38;5;66;03m# n2는 새 노드를 가리키게 함\u001b[39;00m\n\u001b[1;32m     19\u001b[0m p\u001b[38;5;241m.\u001b[39mnext\u001b[38;5;241m.\u001b[39mnext \u001b[38;5;241m=\u001b[39m n5\n\u001b[0;32m---> 21\u001b[0m p \u001b[38;5;241m=\u001b[39m \u001b[43mn0\u001b[49m\n\u001b[1;32m     22\u001b[0m \u001b[38;5;28;01mwhile\u001b[39;00m p:\n\u001b[1;32m     23\u001b[0m     \u001b[38;5;28mprint\u001b[39m(p\u001b[38;5;241m.\u001b[39mdata)\n",
      "\u001b[0;31mNameError\u001b[0m: name 'n0' is not defined"
     ]
    }
   ],
   "source": [
    "# data가 20인 노드 다음 위치에 삽입\n",
    "\n",
    "# 새 노드 생성\n",
    "n5 = Node(50)\n",
    "\n",
    "# 순회를 통해 데이터가 20인 노드를 탐색\n",
    "while p.next.data != 20:\n",
    "    p = p.next\n",
    "# 현재: n0 -> n1 -> n2 -> n3 -> n4\n",
    "#            p\n",
    "# 반복문이 끝나면 p는 n1에서 멈춤\n",
    "# 처리: n0 -> n1 -> n2 -> n3 -> n4\n",
    "#            p      \\    /\n",
    "#                     n5\n",
    "\n",
    "# 기존의 n1 다음 노드 (n2)가 가리키던 노드를 새 노드가  가리키게 함\n",
    "n5.next = p.next.next\n",
    "# n2는 새 노드를 가리키게 함\n",
    "p.next.next = n5\n",
    "\n",
    "p = n0\n",
    "while p:\n",
    "    print(p.data)\n",
    "    p = p.next\n",
    "\n",
    "# 첫 노드 삭제\n",
    "\n",
    "# p가 첫 노드 가리키도록 설정\n",
    "p = n0\n",
    "\n",
    "# 현재 : n0 -> n1 -> n2 -> n5 -> n3 -> n4\n",
    "#        p\n",
    "\n",
    "# 목표 : [n0] -> n1 -> n2 -> n5 -> n3 -> n4\n",
    "#                p\n",
    "\n",
    "# 노드의 삭제는 어떤 포인터도 n0를 가리키지 않으면 됨\n",
    "# p가 자료구조의 첫 노드를 가리키기 때문에 n1으로 p를 옮기면\n",
    "# n0는 접근할 방법이 사라지는 것\n",
    "p = p.next\n",
    "\n",
    "# 순회\n",
    "while p:\n",
    "    print(p.data)\n",
    "    p = p.next"
   ]
  },
  {
   "cell_type": "code",
   "execution_count": 4,
   "metadata": {},
   "outputs": [
    {
     "name": "stdout",
     "output_type": "stream",
     "text": [
      "10\n",
      "20\n"
     ]
    },
    {
     "ename": "AttributeError",
     "evalue": "'NoneType' object has no attribute 'next'",
     "output_type": "error",
     "traceback": [
      "\u001b[0;31m---------------------------------------------------------------------------\u001b[0m",
      "\u001b[0;31mAttributeError\u001b[0m                            Traceback (most recent call last)",
      "Cell \u001b[0;32mIn[4], line 11\u001b[0m\n\u001b[1;32m      1\u001b[0m \u001b[38;5;66;03m# 마지막 요소 삭제\u001b[39;00m\n\u001b[1;32m      2\u001b[0m \u001b[38;5;66;03m# 현재 : n0 -> n1 -> n2 -> n5 -> n3 -> n4\u001b[39;00m\n\u001b[1;32m      3\u001b[0m \u001b[38;5;66;03m#        p\u001b[39;00m\n\u001b[0;32m   (...)\u001b[0m\n\u001b[1;32m      9\u001b[0m \n\u001b[1;32m     10\u001b[0m \u001b[38;5;66;03m# 순회하면서 n3에서 멈춰야 함\u001b[39;00m\n\u001b[0;32m---> 11\u001b[0m \u001b[38;5;28;01mwhile\u001b[39;00m \u001b[43mp\u001b[49m\u001b[38;5;241;43m.\u001b[39;49m\u001b[43mnext\u001b[49m\u001b[38;5;241m.\u001b[39mnext: \u001b[38;5;66;03m# p의 다다음 노드가 None일 때 멈춤\u001b[39;00m\n\u001b[1;32m     12\u001b[0m     p \u001b[38;5;241m=\u001b[39m p\u001b[38;5;241m.\u001b[39mnext\n\u001b[1;32m     13\u001b[0m     \u001b[38;5;66;03m# n1 -> n2 -> n5 -> n3 -> [n4]\u001b[39;00m\n\u001b[1;32m     14\u001b[0m     \u001b[38;5;66;03m#                   p\u001b[39;00m\n",
      "\u001b[0;31mAttributeError\u001b[0m: 'NoneType' object has no attribute 'next'"
     ]
    }
   ],
   "source": [
    "# 마지막 요소 삭제\n",
    "# 현재 : n0 -> n1 -> n2 -> n5 -> n3 -> n4\n",
    "#        p\n",
    "# 목표 : n1 -> n2 -> n5 -> n3 -x-> [n4]\n",
    "#        p\n",
    "\n",
    "# 마지막 노드 삭제는 n3가 n4를 가리키지 않도록 연결을 끊으면 됨\n",
    "# 즉 n3.next에 None을 저장하면 됨\n",
    "\n",
    "# 순회하면서 n3에서 멈춰야 함\n",
    "while p.next.next: # p의 다다음 노드가 None일 때 멈춤\n",
    "    p = p.next\n",
    "    # n1 -> n2 -> n5 -> n3 -> [n4]\n",
    "    #                   p\n",
    "    p.next = None \n",
    "    \n",
    "    p = n1\n",
    "    while p:\n",
    "        print(p.data)\n",
    "        p = p.next"
   ]
  },
  {
   "cell_type": "code",
   "execution_count": 5,
   "metadata": {},
   "outputs": [],
   "source": [
    "class Node:\n",
    "    def __init__(self, data, next=None):\n",
    "        self.data = data\n",
    "        self.next = next"
   ]
  },
  {
   "cell_type": "code",
   "execution_count": 14,
   "metadata": {},
   "outputs": [
    {
     "name": "stdout",
     "output_type": "stream",
     "text": [
      "30\n",
      "20\n",
      "10\n",
      "30 -> 20 -> 10 -> None\n"
     ]
    },
    {
     "data": {
      "text/plain": [
       "3"
      ]
     },
     "execution_count": 14,
     "metadata": {},
     "output_type": "execute_result"
    }
   ],
   "source": [
    "class LinkedList:\n",
    "    def __init__(self):\n",
    "        self.head = None  # 헤드 포인터 (항상 첫 노드만 가리킴! 이동X)\n",
    "        self.node_count = 0  # 노드 개수 (리스트의 사이즈)\n",
    "\n",
    "    def size(self):\n",
    "        \"\"\"연결리스트의 노드 개수를 반환\"\"\"\n",
    "        return self.node_count\n",
    "\n",
    "    def isEmpty(self):\n",
    "        \"\"\"연결리스트에 노드가 없으면 True, 있으면 False 반환\"\"\"\n",
    "        return self.node_count == 0\n",
    "\n",
    "    def prepend(self, data):\n",
    "        \"\"\"첫번째 위치에 노드 추가\"\"\"\n",
    "        #        head\n",
    "        # 가정1 : n1 -> n2 -> ....\n",
    "\n",
    "        #         head\n",
    "        # 가정2 : None\n",
    "\n",
    "        # 전달 받은 데이터로 새 노드를 생성\n",
    "        # next에 self.head 전달 : 기존에 헤드가 가리키던 노드를 새 노드가 가리키게 함\n",
    "        new_node = Node(data, self.head)\n",
    "\n",
    "        #                 head\n",
    "        # 가정1 : [new] -> n1 -> n2 -> ....\n",
    "\n",
    "        #                 head\n",
    "        # 가정2 : [new] -> None\n",
    "\n",
    "        # 헤드가 새 노드를 가리키게 함\n",
    "        self.head = new_node\n",
    "        self.node_count += 1  # 노드 수 1 증가\n",
    "\n",
    "    def display(self):\n",
    "        \"\"\"연결리스트의 모든 노드 데이터를 순회하며 출력\"\"\"\n",
    "        # 헤드는 항상 첫 번째 노드를 가리켜야하며, 함부로 움직이면 안됨!\n",
    "        # 그러므로 새로운 포인터를 활용하여 순회\n",
    "        p = self.head\n",
    "        #        head\n",
    "        # 가정1 : n1 -> n2 -> ....\n",
    "        #         p\n",
    "        while p:\n",
    "            print(p.data)\n",
    "            p = p.next\n",
    "\n",
    "    def display_arrow(self):\n",
    "        \"\"\"연결리스트의 모든 노드 데이터를 화살표와 함께 출력\"\"\"\n",
    "        p = self.head\n",
    "\n",
    "        while p:\n",
    "            print(p.data, end=\" -> \")\n",
    "            p = p.next\n",
    "\n",
    "        print(\"None\")\n",
    "\n",
    "    def append(self, data):\n",
    "        \"\"\"마지막 위치에 노드 추가\"\"\"\n",
    "        # 새 노드 생성\n",
    "        new_node = Node(data)\n",
    "        #          head\n",
    "        # 가정 1 : None\n",
    "\n",
    "        #        head\n",
    "        # 처리 : [new]\n",
    "\n",
    "        if self.isEmpty():\n",
    "            # 만약 빈 리스트라면 지금 추가하는 노드가 처음이자 끝\n",
    "            self.head = new_node\n",
    "            self.node_count += 1\n",
    "            return\n",
    "\n",
    "        # 빈 리스트가 아니라면, 마지막 노드를 찾아 삽입\n",
    "        #         head\n",
    "        # 가정 2 : n1 -> n2 -> n3\n",
    "\n",
    "        # 처리 : n1 -> n2 -> n3 -> [new]\n",
    "        p = self.head\n",
    "\n",
    "        while p.next:\n",
    "            p = p.next\n",
    "\n",
    "        p.next = new_node\n",
    "        self.node_count += 1\n",
    "\n",
    "    def pop_first(self):\n",
    "        '''첫번째 노드 삭제 후 반환'''\n",
    "        # 가정1: 빈 리스트면 삭제할 노드가 없음\n",
    "        \n",
    "\n",
    "li = LinkedList()\n",
    "li.size()\n",
    "li.isEmpty()\n",
    "\n",
    "# 첫번째 위치에 노드 추가\n",
    "li.prepend(10)\n",
    "li.prepend(20)\n",
    "li.prepend(30)\n",
    "\n",
    "li.size()\n",
    "li.isEmpty()\n",
    "li.display()\n",
    "li.display_arrow()\n",
    "li.size()"
   ]
  },
  {
   "cell_type": "code",
   "execution_count": null,
   "metadata": {},
   "outputs": [],
   "source": [
    "linked = LinkedList()\n",
    "start = t.time()\n",
    "for i in range(1000000):\n",
    "    linked.prepend(i)\n",
    "print(t.time() - start)"
   ]
  }
 ],
 "metadata": {
  "kernelspec": {
   "display_name": "Python 3",
   "language": "python",
   "name": "python3"
  },
  "language_info": {
   "codemirror_mode": {
    "name": "ipython",
    "version": 3
   },
   "file_extension": ".py",
   "mimetype": "text/x-python",
   "name": "python",
   "nbconvert_exporter": "python",
   "pygments_lexer": "ipython3",
   "version": "3.12.1"
  }
 },
 "nbformat": 4,
 "nbformat_minor": 2
}
