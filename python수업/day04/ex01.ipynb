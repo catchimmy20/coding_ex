{
 "cells": [
  {
   "cell_type": "code",
   "execution_count": 2,
   "metadata": {},
   "outputs": [
    {
     "name": "stdout",
     "output_type": "stream",
     "text": [
      "0으로 나눌 수 없습니다. 정수2는 1로 설정됩니다.\n",
      "10/1 == 10.0\n",
      "프로그램 종료\n"
     ]
    }
   ],
   "source": [
    "import sys \n",
    "\n",
    "while True:\n",
    "    try:\n",
    "        num1 = int(input(\"정수1 >> \"))\n",
    "        num2 = int(input(\"정수1 >> \"))\n",
    "        print(f'{num1}/{num2} == {num1/num2}')\n",
    "    except ValueError:\n",
    "        print(\"올바른 정수 값을 입력하세요\")\n",
    "        sys.stdout.flush()\n",
    "        continue\n",
    "    except ZeroDivisionError:\n",
    "        print(\"0으로 나눌 수 없습니다. 정수2는 1로 설정됩니다.\")\n",
    "        num2 = 1\n",
    "        print(f'{num1}/{num2} == {num1/num2}')\n",
    "    except Exception:\n",
    "        print(\"예상치 못한 예외가 발생돼 프로그램이 종료됩니다.\")\n",
    "    break\n",
    "print(\"프로그램 종료\")"
   ]
  },
  {
   "cell_type": "markdown",
   "metadata": {},
   "source": [
    "### 예외 발생시키기\n",
    "- 의도적으로 예외를 발생시키기 위해 사용함\n",
    "- raise 키워드를 사용함\n"
   ]
  },
  {
   "cell_type": "code",
   "execution_count": 6,
   "metadata": {},
   "outputs": [
    {
     "ename": "ValueError",
     "evalue": "1~5사이의 값만 입력하세요!",
     "output_type": "error",
     "traceback": [
      "\u001b[0;31m---------------------------------------------------------------------------\u001b[0m",
      "\u001b[0;31mValueError\u001b[0m                                Traceback (most recent call last)",
      "Cell \u001b[0;32mIn[6], line 4\u001b[0m\n\u001b[1;32m      1\u001b[0m num \u001b[38;5;241m=\u001b[39m \u001b[38;5;28mint\u001b[39m(\u001b[38;5;28minput\u001b[39m(\u001b[38;5;124m\"\u001b[39m\u001b[38;5;124m정수 1~5 입력 >> \u001b[39m\u001b[38;5;124m\"\u001b[39m))\n\u001b[1;32m      2\u001b[0m \u001b[38;5;28;01mif\u001b[39;00m num \u001b[38;5;241m<\u001b[39m \u001b[38;5;241m1\u001b[39m \u001b[38;5;129;01mor\u001b[39;00m num \u001b[38;5;241m>\u001b[39m \u001b[38;5;241m5\u001b[39m:\n\u001b[1;32m      3\u001b[0m     \u001b[38;5;66;03m# ValueError 인스턴스 생성\u001b[39;00m\n\u001b[0;32m----> 4\u001b[0m     \u001b[38;5;28;01mraise\u001b[39;00m \u001b[38;5;167;01mValueError\u001b[39;00m(\u001b[38;5;124m\"\u001b[39m\u001b[38;5;124m1~5사이의 값만 입력하세요!\u001b[39m\u001b[38;5;124m\"\u001b[39m)\n\u001b[1;32m      5\u001b[0m \u001b[38;5;28mprint\u001b[39m(num)\n",
      "\u001b[0;31mValueError\u001b[0m: 1~5사이의 값만 입력하세요!"
     ]
    }
   ],
   "source": [
    "num = int(input(\"정수 1~5 입력 >> \"))\n",
    "if num < 1 or num > 5:\n",
    "    # ValueError 인스턴스 생성\n",
    "    raise ValueError(\"1~5사이의 값만 입력하세요!\")\n",
    "print(num)"
   ]
  },
  {
   "cell_type": "markdown",
   "metadata": {},
   "source": [
    "### 사용자 정의 예외\n",
    "- 우리가 직접 예외 클래스를 만들어 사용할 수 있음\n",
    "- 예외 이름을 우리가 설정하므로 명확한 예외를 만들 수 있다는 장점이 있음\n",
    "- 모든 예외는 Exception 클래스를 상속받으므로 우리가 만드는 예외도 Exception을 상속받음\n"
   ]
  },
  {
   "cell_type": "code",
   "execution_count": 7,
   "metadata": {},
   "outputs": [
    {
     "ename": "MyException",
     "evalue": "만든 예외",
     "output_type": "error",
     "traceback": [
      "\u001b[0;31m---------------------------------------------------------------------------\u001b[0m",
      "\u001b[0;31mMyException\u001b[0m                               Traceback (most recent call last)",
      "Cell \u001b[0;32mIn[7], line 6\u001b[0m\n\u001b[1;32m      2\u001b[0m     \u001b[38;5;28;01mpass\u001b[39;00m\n\u001b[1;32m      4\u001b[0m \u001b[38;5;66;03m# 사용자 정의 예외는 특정 상황에 자동으로 발생되지 않으므로\u001b[39;00m\n\u001b[1;32m      5\u001b[0m \u001b[38;5;66;03m# raise와 함께 사용함\u001b[39;00m\n\u001b[0;32m----> 6\u001b[0m \u001b[38;5;28;01mraise\u001b[39;00m MyException(\u001b[38;5;124m\"\u001b[39m\u001b[38;5;124m만든 예외\u001b[39m\u001b[38;5;124m\"\u001b[39m)\n",
      "\u001b[0;31mMyException\u001b[0m: 만든 예외"
     ]
    }
   ],
   "source": [
    "class MyException(Exception):\n",
    "    pass\n",
    "\n",
    "# 사용자 정의 예외는 특정 상황에 자동으로 발생되지 않으므로\n",
    "# raise와 함께 사용함\n",
    "raise MyException(\"만든 예외\")"
   ]
  },
  {
   "cell_type": "code",
   "execution_count": 10,
   "metadata": {},
   "outputs": [
    {
     "ename": "MyException",
     "evalue": "내가 만든 예외",
     "output_type": "error",
     "traceback": [
      "\u001b[0;31m---------------------------------------------------------------------------\u001b[0m",
      "\u001b[0;31mMyException\u001b[0m                               Traceback (most recent call last)",
      "Cell \u001b[0;32mIn[10], line 8\u001b[0m\n\u001b[1;32m      5\u001b[0m     \u001b[38;5;28;01mdef\u001b[39;00m \u001b[38;5;21m__init__\u001b[39m(\u001b[38;5;28mself\u001b[39m, message\u001b[38;5;241m=\u001b[39m\u001b[38;5;124m\"\u001b[39m\u001b[38;5;124m내가 만든 예외\u001b[39m\u001b[38;5;124m\"\u001b[39m):\n\u001b[1;32m      6\u001b[0m         \u001b[38;5;28msuper\u001b[39m()\u001b[38;5;241m.\u001b[39m\u001b[38;5;21m__init__\u001b[39m(message)\n\u001b[0;32m----> 8\u001b[0m \u001b[38;5;28;01mraise\u001b[39;00m MyException()\n",
      "\u001b[0;31mMyException\u001b[0m: 내가 만든 예외"
     ]
    }
   ],
   "source": [
    "# 사용자 정의 예외는 Exception을 상속받으므로\n",
    "# 생성자 내부에서 부모의 생성자를 호출함\n",
    "# 이 때 예외 메세지를 전달하도록 처리됨\n",
    "class MyException(Exception):\n",
    "    def __init__(self, message=\"내가 만든 예외\"):\n",
    "        super().__init__(message)\n",
    "\n",
    "raise MyException()\n"
   ]
  },
  {
   "cell_type": "code",
   "execution_count": 12,
   "metadata": {},
   "outputs": [
    {
     "name": "stdout",
     "output_type": "stream",
     "text": [
      "num : 2\n"
     ]
    }
   ],
   "source": [
    "# 사용자 정의 예외 활용\n",
    "class OutOfRangeError(Exception):\n",
    "    '''입력 범위를 벗어났을 때 발생시키는 예외'''\n",
    "    def __init__(self, message=\"입력 값이 허용 범위를 벗어났습니다\"):\n",
    "        super().__init__(message)\n",
    "        \n",
    "try:\n",
    "    num = int(input(\"정수 1~5 입력 >> \"))\n",
    "    if num < 1 or num > 5:\n",
    "        raise OutOfRangeError()\n",
    "except OutOfRangeError as e :\n",
    "    print(e)\n",
    "else:\n",
    "    print(f\"num : {num}\")"
   ]
  },
  {
   "cell_type": "code",
   "execution_count": 1,
   "metadata": {},
   "outputs": [
    {
     "name": "stdout",
     "output_type": "stream",
     "text": [
      "정수는 0 이상이어야 합니다\n",
      "0으로 나눌 수 없습니다. 정수2는 1로 설정됩니다.\n",
      "10 / 1 == 10.0\n",
      "프로그램 종료\n"
     ]
    }
   ],
   "source": [
    "# 사용자 정의 예외 활용\n",
    "import sys\n",
    "\n",
    "class OutOfRangeError(Exception):\n",
    "    \"\"\"입력 범위를 벗어났을 때 발생시키는 예외\"\"\"\n",
    "\n",
    "    def __init__(self, message=\"입력 값이 허용 범위를 벗어났습니다\"):\n",
    "        super().__init__(message)\n",
    "\n",
    "\n",
    "while True:\n",
    "    try:\n",
    "        num1 = int(input(\"0 이상의 정수1 >> \"))\n",
    "        num2 = int(input(\"0 이상의 정수2 >> \"))\n",
    "\n",
    "        if num1 < 0 or num2 < 0:\n",
    "            raise OutOfRangeError(\"정수는 0 이상이어야 합니다\")\n",
    "\n",
    "        print(f\"{num1} / {num2} == {num1/num2}\")\n",
    "    except ValueError:\n",
    "        print(\"올바른 정수 값을 입력하세요\")\n",
    "        sys.stdout.flush()\n",
    "        continue\n",
    "    except ZeroDivisionError:\n",
    "        print(\"0으로 나눌 수 없습니다. 정수2는 1로 설정됩니다.\")\n",
    "        sys.stdout.flush()\n",
    "        num2 = 1\n",
    "        print(f\"{num1} / {num2} == {num1/num2}\")\n",
    "    except OutOfRangeError as e:\n",
    "        print(e)\n",
    "        sys.stdout.flush()\n",
    "        continue\n",
    "    break\n",
    "print(\"프로그램 종료\")"
   ]
  },
  {
   "cell_type": "code",
   "execution_count": 5,
   "metadata": {},
   "outputs": [
    {
     "name": "stdout",
     "output_type": "stream",
     "text": [
      "division by zero\n"
     ]
    }
   ],
   "source": [
    "# 함수와 예외처리\n",
    "def div_num(a: int, b: int) -> float:\n",
    "    \"\"\"두 정수를 나누어서 반환\"\"\"\n",
    "    result = a / b\n",
    "    return result\n",
    "# 함수 내부에서 발생되는 예외는 함수를 호출하는 쪽에서 처리 가능함\n",
    "try:\n",
    "    div_num(10, 0)\n",
    "except ZeroDivisionError as e:\n",
    "    print(e)"
   ]
  },
  {
   "cell_type": "code",
   "execution_count": 13,
   "metadata": {},
   "outputs": [
    {
     "name": "stdout",
     "output_type": "stream",
     "text": [
      "정수만 가능함!\n",
      "(3, 1)\n"
     ]
    }
   ],
   "source": [
    "def calc_num(a: int, b: int = 1) -> tuple:\n",
    "    \"\"\"두 수를 더하고 빼고 곱하고 나눈 결과를 반환하는 함수\"\"\"\n",
    "    if b == 0:\n",
    "        raise ZeroDivisionError(\"b는 0이 될 수 없음.\")\n",
    "    # a가 int 타입이 아니거나 b가 int타입이 아니면\n",
    "    if not isinstance(a, int) or not isinstance(b, int):\n",
    "        raise TypeError(\"정수만 가능함!\")\n",
    "        \n",
    "    add = a + b\n",
    "    sub = a - b\n",
    "    mul = a * b\n",
    "    div = a / b\n",
    "    # 패킹돼서 튜플로 나감\n",
    "    return add, sub, mul, div\n",
    "# print(calc_num(3, 2))\n",
    "# print(calc_num(10, 'a'))\n",
    "\n",
    "try:\n",
    "    print(calc_num(10, 'a'))\n",
    "except ZeroDivisionError as e:\n",
    "    print(e)\n",
    "except TypeError as e :\n",
    "    print(e)\n",
    "\n",
    "result = divmod(10, 3)\n",
    "print(result)"
   ]
  },
  {
   "cell_type": "code",
   "execution_count": 27,
   "metadata": {},
   "outputs": [
    {
     "name": "stdout",
     "output_type": "stream",
     "text": [
      "유저 선택 >> 가위\n",
      "컴퓨터의 선택 >> 바위\n",
      "사용자가 졌습니다...\n",
      "\n",
      "유저 선택 >> 나ㅏ\n",
      "잘못된 입력입니다. 가위, 바위, 보 중에 하나 선택하세요!\n",
      "\n",
      "유저 선택 >> 보\n",
      "컴퓨터의 선택 >> 보\n",
      "비겼습니다.\n",
      "\n",
      "유저 선택 >> 종료\n",
      "게임을 종료!\n"
     ]
    }
   ],
   "source": [
    "# 예외를 활용한 가위바위보 게임\n",
    "import random as rd\n",
    "\n",
    "# li = [\"가위\", \"바위\", \"보\"]\n",
    "# result = rd.choice(li)\n",
    "# print(result)\n",
    "\n",
    "import sys\n",
    "class InvalidChoiceError(Exception):\n",
    "    \"\"\"잘못된 선택을 나타내는 사용자 정의 예외\"\"\"\n",
    "\n",
    "    def __init__(\n",
    "        self, message=\"잘못된 입력입니다. 가위, 바위, 보 중에 하나 선택하세요!\"\n",
    "    ):\n",
    "        super().__init__(message)\n",
    "\n",
    "\n",
    "class RockScissorPaper:\n",
    "    def __init__(self):\n",
    "        self.choices = [\"가위\", \"바위\", \"보\"]\n",
    "\n",
    "    def get_computer_choice(self):\n",
    "        \"\"\"컴퓨터의 선택을 무작위로 반환하는 함수\"\"\"\n",
    "        result = rd.choice(self.choices)\n",
    "        return result\n",
    "\n",
    "    def determine_winner(self, user_choice, com_choice):\n",
    "        \"\"\"사용자와 컴퓨터의 선택을 비교하여 승자를 결정하는 메서드\"\"\"\n",
    "        if user_choice == com_choice:\n",
    "            return \"비겼습니다.\"\n",
    "        elif (\n",
    "            (user_choice == \"가위\" and com_choice == \"보\")\n",
    "            or (user_choice == \"바위\" and com_choice == \"가위\")\n",
    "            or (user_choice == \"보\" and com_choice == \"바위\")\n",
    "        ):\n",
    "            return \"사용자가 이겼습니다!!\"\n",
    "        else:\n",
    "            return \"사용자가 졌습니다...\"\n",
    "        \n",
    "    def play(self):\n",
    "        ''''''\n",
    "        while True:\n",
    "            try: \n",
    "                user_choice = input(\"가위, 바위, 보 중 하나를 선택! (종료하려면 \\\"종료\\\") >> \")\n",
    "                print(f'유저 선택 >> {user_choice}')\n",
    "                sys.stdout.flush()\n",
    "                if user_choice == \"종료\":\n",
    "                    print(\"게임을 종료!\")\n",
    "                    return \n",
    "                \n",
    "                if user_choice not in self.choices:\n",
    "                    raise InvalidChoiceError()\n",
    "                \n",
    "                com_choice = self.get_computer_choice()\n",
    "                print(f'컴퓨터의 선택 >> {com_choice}')\n",
    "                sys.stdout.flush()\n",
    "                \n",
    "                result = self.determine_winner(user_choice, com_choice)\n",
    "                print(result)\n",
    "                print()\n",
    "                sys.stdout.flush()\n",
    "            except InvalidChoiceError as e:\n",
    "                print(e)\n",
    "                print()\n",
    "                sys.stdout.flush()\n",
    "                \n",
    "game = RockScissorPaper()\n",
    "# print(game.get_computer_choice())\n",
    "# print(game.determine_winner(\"바위\", \"바위\"))\n",
    "game.play()"
   ]
  },
  {
   "cell_type": "markdown",
   "metadata": {},
   "source": [
    "### 리스트 컴프리헨션\n",
    "- 특정 규칙으로 리스트의 요소를 빠르게 만드는 방법\n",
    "- [저장될 요소 for 변수 in 반복가능한 객체]\n",
    "- [저장될 요소 for 변수 in 반복가능한 객체 if 조건식]"
   ]
  },
  {
   "cell_type": "code",
   "execution_count": 11,
   "metadata": {},
   "outputs": [
    {
     "name": "stdout",
     "output_type": "stream",
     "text": [
      "[0, 2, 4, 6, 8, 10]\n",
      "range(1, 10) <class 'range'>\n",
      "[1, 2, 3, 4, 5, 6, 7, 8, 9]\n",
      "[0, 2, 4, 6, 8, 10]\n",
      "[10, 12, 14, 16, 18, 20]\n",
      "[0, 4, 16, 36, 64, 100]\n",
      "[0, 2, 4, 6, 8, 10, 12, 14, 16, 18, 20, 22, 24, 26, 28, 30, 32, 34, 36, 38, 40, 42, 44, 46, 48, 50, 52, 54, 56, 58, 60, 62, 64, 66, 68, 70, 72, 74, 76, 78, 80, 82, 84, 86, 88, 90, 92, 94, 96, 98]\n"
     ]
    }
   ],
   "source": [
    "# 0~10까지의 수 중 짝수만 골라 리스트로 \n",
    "list1 = [i for i in range(0, 11, 2)]\n",
    "print(list1)\n",
    "\n",
    "# range로 만든 반복가능한 객체를 list로 형변환\n",
    "print(range(1, 10), type(range(1, 10)))\n",
    "print(list(range(1, 10)))\n",
    "li2 = list(range(0, 11, 2))\n",
    "print(li2)\n",
    "\n",
    "# 리스트 컴프리헨션\n",
    "# 첫번째 x는 실제 저장될 값, 두번째 x는 변수명\n",
    "li3 = [x+10 for x in range(0, 11, 2)]\n",
    "print(li3)\n",
    "\n",
    "li5 = [x**2 for x in range(0, 11, 2)]\n",
    "print(li5)\n",
    "\n",
    "# 리스트 컴프리헨션은 조건을 추가할 수 있음\n",
    "li6 = [x for x in range(0, 100) if x%2 == 0]\n",
    "print(li6)"
   ]
  },
  {
   "cell_type": "code",
   "execution_count": 13,
   "metadata": {},
   "outputs": [
    {
     "name": "stdout",
     "output_type": "stream",
     "text": [
      "[5, 6, 6, 9]\n",
      "['HELLO', 'WORLD', 'PYTHON']\n"
     ]
    }
   ],
   "source": [
    "# 문자열 리스트 활용\n",
    "fruits = [\"apple\", \"banana\", \"cherry\", \"blueberry\"]\n",
    "li_length = [len(w) for w in fruits]\n",
    "print(li_length)\n",
    "\n",
    "# 문자열 메서드  \n",
    "# upper()\n",
    "words = [\"hello\", \"world\", \"python\"]\n",
    "upper_words = [w.upper() for w in words]\n",
    "print(upper_words)\n"
   ]
  },
  {
   "cell_type": "code",
   "execution_count": 19,
   "metadata": {},
   "outputs": [
    {
     "name": "stdout",
     "output_type": "stream",
     "text": [
      "[0, 3, 6, 9, 12, 15, 18, 21, 24, 27]\n",
      "(2, 12)\n",
      "[(0, 10), (1, 11), (2, 12), (3, 13), (4, 14)]\n",
      "(1, 11)\n",
      "5\n"
     ]
    }
   ],
   "source": [
    "def calc(a: int) -> int:\n",
    "    return a * 3\n",
    "\n",
    "\n",
    "li = [calc(x) for x in range(10)]\n",
    "print(li)\n",
    "\n",
    "\n",
    "def calc2(a: int) -> tuple:\n",
    "    return a, a + 10\n",
    "\n",
    "\n",
    "print(calc2(2))\n",
    "li2 = [calc2(x) for x in range(5)]\n",
    "print(li2)\n",
    "print(li2[1])\n",
    "print(len(li2))"
   ]
  },
  {
   "cell_type": "code",
   "execution_count": null,
   "metadata": {},
   "outputs": [],
   "source": []
  }
 ],
 "metadata": {
  "kernelspec": {
   "display_name": "Python 3",
   "language": "python",
   "name": "python3"
  },
  "language_info": {
   "codemirror_mode": {
    "name": "ipython",
    "version": 3
   },
   "file_extension": ".py",
   "mimetype": "text/x-python",
   "name": "python",
   "nbconvert_exporter": "python",
   "pygments_lexer": "ipython3",
   "version": "3.12.1"
  }
 },
 "nbformat": 4,
 "nbformat_minor": 2
}
