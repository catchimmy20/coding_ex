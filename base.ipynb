{
 "cells": [
  {
   "cell_type": "markdown",
   "metadata": {},
   "source": [
    "진법 변환 문제"
   ]
  },
  {
   "cell_type": "code",
   "execution_count": 5,
   "metadata": {},
   "outputs": [
    {
     "name": "stdout",
     "output_type": "stream",
     "text": [
      "num: 12  base: 3\n",
      "5\n"
     ]
    }
   ],
   "source": [
    "num, base = map(int, input().strip().split(' '))\n",
    "print(\"num:\",num, \" base:\", base)\n",
    "num = str(num)\n",
    "answer = 0\n",
    "for idx, number in enumerate(num[::-1]):\n",
    "    answer += int(number) * (base ** idx)\n",
    "    \n",
    "print(answer)"
   ]
  },
  {
   "cell_type": "markdown",
   "metadata": {},
   "source": [
    "int(x, base) 함수에서 x는 문자열 형태"
   ]
  },
  {
   "cell_type": "code",
   "execution_count": 7,
   "metadata": {},
   "outputs": [
    {
     "name": "stdout",
     "output_type": "stream",
     "text": [
      "num: 12  base: 4\n",
      "6\n"
     ]
    }
   ],
   "source": [
    "num, base = map(int, input().strip().split(' '))\n",
    "print(\"num:\",num, \" base:\", base)\n",
    "answer = int(str(num), base)\n",
    "print(answer)"
   ]
  },
  {
   "cell_type": "markdown",
   "metadata": {},
   "source": [
    "list 연습"
   ]
  },
  {
   "cell_type": "markdown",
   "metadata": {},
   "source": [
    "문자열을 좌측/가운데/우측 정렬하는 법(일반 for문)"
   ]
  },
  {
   "cell_type": "code",
   "execution_count": 8,
   "metadata": {},
   "outputs": [
    {
     "name": "stdout",
     "output_type": "stream",
     "text": [
      "abc    \n",
      "  abc\n",
      "    abc\n"
     ]
    }
   ],
   "source": [
    "s, n = input().strip().split(' ')\n",
    "n = int(n)\n",
    "\n",
    "answer = ''\n",
    "\n",
    "# 앞 \n",
    "for i in range(n-len(s)): # 문자열의 앞을 빈 문자열로 채우는 for 문\n",
    "    answer += ' '\n",
    "answer = s + answer\n",
    "print(answer)\n",
    "answer = ''\n",
    "\n",
    "# 중앙은..?\n",
    "for i in range((n-len(s))//2):\n",
    "    answer += ' '\n",
    "answer += s\n",
    "print(answer)\n",
    "answer = ''\n",
    "\n",
    "# 끝\n",
    "for i in range(n-len(s)): # 문자열의 앞을 빈 문자열로 채우는 for 문\n",
    "    answer += ' '\n",
    "answer += s\n",
    "print(answer)\n",
    "answer = ''"
   ]
  },
  {
   "cell_type": "markdown",
   "metadata": {},
   "source": [
    "ljust, center, rjust 사용"
   ]
  },
  {
   "cell_type": "code",
   "execution_count": 9,
   "metadata": {},
   "outputs": [
    {
     "name": "stdout",
     "output_type": "stream",
     "text": [
      "abc    \n",
      "  abc  \n",
      "    abc\n"
     ]
    }
   ],
   "source": [
    "s, n = input().strip().split(' ')\n",
    "n = int(n)\n",
    "\n",
    "print(s.ljust(n))\n",
    "print(s.center(n))\n",
    "print(s.rjust(n))"
   ]
  },
  {
   "cell_type": "markdown",
   "metadata": {},
   "source": [
    "알파벳 출력"
   ]
  },
  {
   "cell_type": "code",
   "execution_count": 10,
   "metadata": {},
   "outputs": [
    {
     "name": "stdout",
     "output_type": "stream",
     "text": [
      "abcdefghijklmnopqrstuvwxyz"
     ]
    }
   ],
   "source": [
    "num = int(input().strip())\n",
    "\n",
    "for i in range(65, 91):\n",
    "    # 소문자\n",
    "    if num == 0:\n",
    "        print(chr(i).lower(), end=\"\")\n",
    "    # 대문자\n",
    "    elif num == 1:\n",
    "        print(chr(i), end=\"\")"
   ]
  },
  {
   "cell_type": "markdown",
   "metadata": {},
   "source": [
    "알파벳 대소문자, 숫자를 상수로"
   ]
  },
  {
   "cell_type": "code",
   "execution_count": 11,
   "metadata": {},
   "outputs": [
    {
     "name": "stdout",
     "output_type": "stream",
     "text": [
      "abcdefghijklmnopqrstuvwxyz\n",
      "ABCDEFGHIJKLMNOPQRSTUVWXYZ\n",
      "abcdefghijklmnopqrstuvwxyzABCDEFGHIJKLMNOPQRSTUVWXYZ\n",
      "0123456789\n",
      "====================\n",
      "<class 'str'>\n",
      "<class 'str'>\n",
      "<class 'str'>\n",
      "<class 'str'>\n",
      "====================\n",
      "['0', '1', '2', '3', '4', '5', '6', '7', '8', '9']\n",
      "[0, 1, 2, 3, 4, 5, 6, 7, 8, 9]\n"
     ]
    }
   ],
   "source": [
    "import string \n",
    "\n",
    "lower = string.ascii_lowercase # 소문자 abcdefghijklmnopqrstuvwxyz\n",
    "upper = string.ascii_uppercase # 대문자 ABCDEFGHIJKLMNOPQRSTUVWXYZ\n",
    "letter = string.ascii_letters # 대소문자 모두 abcdefghijklmnopqrstuvwxyzABCDEFGHIJKLMNOPQRSTUVWXYZ\n",
    "digits = string.digits # 숫자 0123456789\n",
    "print(lower)\n",
    "print(upper)\n",
    "print(letter)\n",
    "print(digits)\n",
    "print(\"====================\")\n",
    "print(type(lower))\n",
    "print(type(upper))\n",
    "print(type(letter))\n",
    "print(type(digits))\n",
    "print(\"====================\")\n",
    "# int로 변환할 경우 0이 사라짐\n",
    "# digits = int(digits)\n",
    "# print(digits) \n",
    "\n",
    "# list로 변환하기\n",
    "digits_list = list(digits)\n",
    "print(digits_list)\n",
    "# 각 요소를 int로 변환\n",
    "int_digits_list = [int(digit) for digit in digits_list]\n",
    "print(int_digits_list)"
   ]
  },
  {
   "cell_type": "markdown",
   "metadata": {},
   "source": [
    "깊은복사 & 정렬"
   ]
  },
  {
   "cell_type": "code",
   "execution_count": null,
   "metadata": {},
   "outputs": [],
   "source": [
    "import copy \n",
    "\n",
    "list1 = [3, 2, 5, 1]\n",
    "list2 = [i for i in list1] # 깊은복사1\n",
    "list3 = copy.deepcopy(list1) # deepcopy를 이용한 깊은복사\n",
    "list2.sort() # sort가 되어 list에 들어감.\n",
    "print(list2)\n",
    "list3.sort()\n",
    "print(list3)"
   ]
  },
  {
   "cell_type": "code",
   "execution_count": null,
   "metadata": {},
   "outputs": [],
   "source": [
    "\"\"\"\n",
    "sorted를 사용할 경우 deepcopy가 필요 없음.\n",
    "\"\"\"\n",
    "list1 = [3, 2, 5, 1]\n",
    "list2 = sorted(list1)\n",
    "print(list2)"
   ]
  },
  {
   "cell_type": "markdown",
   "metadata": {},
   "source": [
    "2차원 리스트 행/열 뒤집기"
   ]
  },
  {
   "cell_type": "code",
   "execution_count": null,
   "metadata": {},
   "outputs": [],
   "source": [
    "def solution(mylist):\n",
    "    # 행/열을 뒤집은 빈 리스트 생성\n",
    "    answer = [[0] * len(mylist) for _ in range(len(mylist[0]))]\n",
    "\n",
    "    for i in range(len(mylist)):\n",
    "        for j in range(len(mylist[i])):\n",
    "            answer[i][j] = mylist[j][i]\n",
    "\n",
    "    return answer\n",
    "\n",
    "solution([[1, 2, 3], [4, 5, 6], [7, 8, 9]])"
   ]
  },
  {
   "cell_type": "markdown",
   "metadata": {},
   "source": [
    "### 언팩킹과 zip을 활용한 행/열 뒤집기\n",
    "\n",
    "- *는 언팩킹(unpacking) 연산자로, 리스트의 요소를 개별 인자로 전달하는 역할\n",
    "- *mylist는 mylist의 각 요소를 개별 인자로 zip 함수에 전달. \n",
    "--> zip(*mylist)는 zip([1, 2, 3], [4, 5, 6], [7, 8, 9])와 같은 형태가 됨.\n",
    "- zip 함수는 각 리스트의 첫 번째 요소를 묶고, 두 번째 요소를 묶고, 세 번째 요소를 묶는 방식으로 작동합니다. 결과적으로, 이 경우에는 다음과 같은 튜플들을 생성함:\n",
    "(1, 4, 7)\n",
    "(2, 5, 8)\n",
    "(3, 6, 9)\n",
    "- list(map(list, zip(*mylist))):map(list, ...)는 각 튜플을 리스트로 변환"
   ]
  },
  {
   "cell_type": "code",
   "execution_count": null,
   "metadata": {},
   "outputs": [],
   "source": [
    "def solution(mylist):\n",
    "    answer = list(map(list, zip(*mylist)))\n",
    "    return answer\n",
    "\n",
    "solution([[1, 2, 3], [4, 5, 6], [7, 8, 9]])"
   ]
  },
  {
   "cell_type": "markdown",
   "metadata": {},
   "source": [
    "zip 예시"
   ]
  },
  {
   "cell_type": "code",
   "execution_count": null,
   "metadata": {},
   "outputs": [],
   "source": [
    "mylist = [1, 2, 3]\n",
    "new_list = [40, 50, 60]\n",
    "for i in zip(mylist, new_list):\n",
    "    print (i)\n",
    "\n",
    "# (1, 40)\n",
    "# (2, 50)\n",
    "# (3, 60)"
   ]
  },
  {
   "cell_type": "code",
   "execution_count": 12,
   "metadata": {},
   "outputs": [
    {
     "name": "stdout",
     "output_type": "stream",
     "text": [
      "493\n",
      "124\n",
      "66\n",
      "305\n"
     ]
    }
   ],
   "source": [
    "# 사용 예 #1 - 여러 개의 Iterable 동시에 순회할 때 사용\n",
    "list1 = [1, 2, 3, 4]\n",
    "list2 = [100, 120, 30, 300]\n",
    "list3 = [392, 2, 33, 1]\n",
    "answer = []\n",
    "for number1, number2, number3 in zip(list1, list2, list3):\n",
    "   print(number1 + number2 + number3)\n",
    "   \n"
   ]
  },
  {
   "cell_type": "code",
   "execution_count": null,
   "metadata": {},
   "outputs": [],
   "source": [
    "# 사용 예 #2 - Key 리스트와 Value 리스트로 딕셔너리 생성하기\n",
    "\n",
    "animals = ['cat', 'dog', 'lion']\n",
    "sounds = ['meow', 'woof', 'roar']\n",
    "answer = dict(zip(animals, sounds)) # {'cat': 'meow', 'dog': 'woof', 'lion': 'roar'}\n",
    "print(answer)   "
   ]
  },
  {
   "cell_type": "markdown",
   "metadata": {},
   "source": [
    "i번째 원소와 i+1번째 원소의 차를 구하여 리스트에 반환하기"
   ]
  },
  {
   "cell_type": "code",
   "execution_count": 13,
   "metadata": {},
   "outputs": [
    {
     "data": {
      "text/plain": [
       "[35, 35, 9, 67, 60]"
      ]
     },
     "execution_count": 13,
     "metadata": {},
     "output_type": "execute_result"
    }
   ],
   "source": [
    "def solution(mylist):\n",
    "    answer = []\n",
    "    for i in range(len(mylist)-1):\n",
    "        answer.append(abs(mylist[i]-mylist[i+1]))\n",
    "    return answer\n",
    "\n",
    "\n",
    "solution([83, 48, 13, 4, 71, 11])"
   ]
  },
  {
   "cell_type": "code",
   "execution_count": null,
   "metadata": {},
   "outputs": [],
   "source": [
    "# zip을 활용한 경우\n",
    "# zip 함수에 서로 길이가 다른 리스트가 인자로 들어오는 경우에는 길이가 짧은 쪽 까지만 이터레이션이 이루어짐\n",
    "def solution(mylist):\n",
    "    answer = []\n",
    "    for number1, number2 in zip(mylist, mylist[1:]):\n",
    "        answer.append(abs(number1 - number2))\n",
    "    return answer\n",
    "\n",
    "solution([83, 48, 13, 4, 71, 11])"
   ]
  },
  {
   "cell_type": "markdown",
   "metadata": {},
   "source": [
    "#### 모든 멤버의 type 변환하기 - map\n",
    "\n",
    "== Iterable의 모든 멤버의 type을 변환하는 방법 == \n",
    "- for문을 사용하지 않고 map을 사용해서 변환 가능\n",
    "- map() 함수는 여러 개의 데이터를 받아서 각각의 요소에 함수를 적용한 결과를 반환하는 내장 함수\n",
    "- 리스트, 튜플 등의 반복 가능한(iterable) 객체를 입력으로 받을 수 있음\n",
    "\n",
    "map(function, iterable)\n",
    "- function: 각 요소에 적용할 함수\n",
    "- iterable: 함수를 적용할 데이터 집합"
   ]
  },
  {
   "cell_type": "code",
   "execution_count": 14,
   "metadata": {},
   "outputs": [
    {
     "name": "stdout",
     "output_type": "stream",
     "text": [
      "[1, 100, 33]\n",
      "(3, 3, 22)\n",
      "['3.14', '3.5', '22.6']\n"
     ]
    }
   ],
   "source": [
    "# 멤버 타입 일괄 변환\n",
    "list1 = ['1', '100', '33']\n",
    "list2 = list(map(int, list1))\n",
    "print(list2)\n",
    "\n",
    "tup3 = (3.14, 3.5, 22.6)\n",
    "tup4 = tuple(map(int, tup3))\n",
    "tup5 = list(map(str, tup3))\n",
    "print(tup4)\n",
    "print(tup5)\n",
    "\n",
    "# "
   ]
  },
  {
   "cell_type": "markdown",
   "metadata": {},
   "source": [
    "map 예제\n",
    "https://dotiromoook.tistory.com/28"
   ]
  },
  {
   "cell_type": "code",
   "execution_count": null,
   "metadata": {},
   "outputs": [],
   "source": [
    "# 리스트의 각 요소를 제곱하여 새로운 리스트를 반환\n",
    "def square(x):\n",
    "    return x**2\n",
    "\n",
    "numbers = [1, 2, 3, 4, 5]\n",
    "squared_numbers = map(square, numbers)\n",
    "print(list(squared_numbers))  # [1, 4, 9, 16, 25]"
   ]
  },
  {
   "cell_type": "code",
   "execution_count": null,
   "metadata": {},
   "outputs": [],
   "source": [
    "\"\"\"\n",
    "map() 함수는 여러 개의 반복 가능한(iterable) 객체를 \n",
    "입력으로 받아서 여러 개의 데이터를 동시에 처리 가능\n",
    "\n",
    "map(function, iterable1, iterable2, ...)\n",
    "\"\"\"\n",
    "# 두 개의 리스트의 요소를 각각 더한 결과를 새로운 리스트로 반복 가능한 객체를 여러 개 입력으로 받음\n",
    "def add(x, y):\n",
    "    return x + y\n",
    "\n",
    "numbers1 = [1, 2, 3, 4, 5]\n",
    "numbers2 = [10, 20, 30, 40, 50]\n",
    "added_numbers = map(add, numbers1, numbers2)\n",
    "print(list(added_numbers))  # [11, 22, 33, 44, 55]\n",
    "\n"
   ]
  },
  {
   "cell_type": "code",
   "execution_count": 15,
   "metadata": {},
   "outputs": [
    {
     "data": {
      "text/plain": [
       "[2, 2, 1]"
      ]
     },
     "execution_count": 15,
     "metadata": {},
     "output_type": "execute_result"
    }
   ],
   "source": [
    "def solution(mylist):\n",
    "    answer = list(map(len, mylist))\n",
    "    return answer\n",
    "    \n",
    "\n",
    "solution([[1, 2], [3, 4], [5]])"
   ]
  },
  {
   "cell_type": "markdown",
   "metadata": {},
   "source": [
    "sequence 멤버를 하나로 이어붙이기 - join 활용하기\n",
    "\n",
    "https://zephyrus1111.tistory.com/290"
   ]
  },
  {
   "cell_type": "code",
   "execution_count": null,
   "metadata": {},
   "outputs": [],
   "source": [
    "# 일반적인 방법\n",
    "def solution(mylist):\n",
    "    answer = ''\n",
    "    for i in mylist:\n",
    "        answer += i\n",
    "    return answer\n",
    "\n",
    "solution(['1', '100', '33'])"
   ]
  },
  {
   "cell_type": "code",
   "execution_count": null,
   "metadata": {},
   "outputs": [],
   "source": [
    "# join 활용\n",
    "my_list = ['1', '100', '33']\n",
    "answer = ''.join(my_list)\n",
    "print(answer)"
   ]
  },
  {
   "cell_type": "code",
   "execution_count": null,
   "metadata": {},
   "outputs": [],
   "source": [
    "# 문자열 반복 연결\n",
    "string = '냥'\n",
    "print(string*10)\n",
    "\n",
    "# 리스트 연결\n",
    "n = 4\n",
    "answer= [123, 456] * n\n",
    "print(answer)\n"
   ]
  },
  {
   "cell_type": "markdown",
   "metadata": {},
   "source": [
    "#### 곱집합(Cartesian product) 구하기 - product\n",
    "예시) 두 스트링 'ABCD', 'xy' 의 곱집합은 Ax Ay Bx By Cx Cy Dx Dy 입니다.\n"
   ]
  },
  {
   "cell_type": "code",
   "execution_count": null,
   "metadata": {},
   "outputs": [],
   "source": [
    "# 기존 풀이\n",
    "iterable1 = 'ABCD'\n",
    "iterable2 = 'xy'\n",
    "iterable3 = '1234'\n",
    "\n",
    "for value1 in iterable1:\n",
    "    for value2 in iterable2:\n",
    "        for value3 in iterable3:\n",
    "            print(value1, value2, value3)"
   ]
  },
  {
   "cell_type": "code",
   "execution_count": null,
   "metadata": {},
   "outputs": [],
   "source": [
    "# itertools.product를 이용\n",
    "import itertools\n",
    "\n",
    "iterable1 = 'ABCD'\n",
    "iterable2 = 'xy'\n",
    "iterable3 = '1234'\n",
    "print(list(itertools.product(iterable1, iterable2, iterable3)))"
   ]
  },
  {
   "cell_type": "markdown",
   "metadata": {},
   "source": [
    "2차원 리스트를 1차원 리스트로 만들기"
   ]
  },
  {
   "cell_type": "code",
   "execution_count": null,
   "metadata": {},
   "outputs": [],
   "source": [
    "# 기존 풀이\n",
    "def solution(mylist):\n",
    "    answer = []\n",
    "    for i in mylist:\n",
    "        # for j in i:\n",
    "        #     answer.append(j)\n",
    "        answer += i\n",
    "    return answer\n",
    "\n",
    "solution([['A', 'B'], ['X', 'Y'], ['1']])"
   ]
  },
  {
   "cell_type": "code",
   "execution_count": null,
   "metadata": {},
   "outputs": [],
   "source": [
    "# 파이썬용\n",
    "my_list = [[1, 2], [3, 4], [5, 6]]\n",
    "\n",
    "# 방법 1 - sum 함수\n",
    "answer = sum(my_list, [])\n",
    "\n",
    "# 방법 2 - itertools.chain\n",
    "import itertools\n",
    "list(itertools.chain.from_iterable(my_list))\n",
    "\n",
    "# 방법 3 - itertools와 unpacking\n",
    "import itertools\n",
    "list(itertools.chain(*my_list))\n",
    "\n",
    "# 방법 4 - list comprehension 이용\n",
    "[element for array in my_list for element in array]\n",
    "\n",
    "# 방법 5 - reduce 함수 이용 1\n",
    "from functools import reduce\n",
    "list(reduce(lambda x, y: x+y, my_list))\n",
    "\n",
    "# 방법 6 - reduce 함수 이용 2\n",
    "from functools import reduce\n",
    "import operator\n",
    "list(reduce(operator.add, my_list))"
   ]
  },
  {
   "cell_type": "code",
   "execution_count": null,
   "metadata": {},
   "outputs": [],
   "source": [
    "#  각 원소의 길이가 동일한 경우에만 사용 가능\n",
    "# 방법 7 - numpy 라이브러리의 flatten 이용\n",
    "import numpy as np\n",
    "np.array(my_list).flatten().tolist()"
   ]
  },
  {
   "cell_type": "markdown",
   "metadata": {},
   "source": [
    "#### 순열과 조합"
   ]
  },
  {
   "cell_type": "code",
   "execution_count": null,
   "metadata": {},
   "outputs": [],
   "source": [
    "# 기존 풀이 - 스위핑 알고리즘\n",
    "def permute(arr):\n",
    "    # arr[:]: 얕은복사본, 원본 변경하지 않도록 함 \n",
    "    # result에 arr의 복사본 추가 -> 초기상태의 순열 저장\n",
    "    result = [arr[:]]\n",
    "    # arr길이만큼 0으로 초기화\n",
    "    # c: 각 인덱스에서 교환된 횟수를 추적하는데 사용 \n",
    "    c = [0] * len(arr)\n",
    "    i = 0\n",
    "    # 모든 인덱스에 대해서 순열생성\n",
    "    while i < len(arr):\n",
    "        # 현재 인덱스에서 교환할 횟수가 남아 있는 경우 \n",
    "        if c[i] < i:\n",
    "            if i % 2 == 0:\n",
    "                # 새로운 순열 만듦\n",
    "                arr[0], arr[i] = arr[i], arr[0]\n",
    "            else:\n",
    "                # arr의 c[i] 인덱스와 현재 인덱스 i의 요소를 교환\n",
    "                # 다른 순열 생성 위해\n",
    "                arr[c[i]], arr[i] = arr[i], arr[c[i]]\n",
    "            result.append(arr[:])\n",
    "            # i의 교환횟수 증가, 다음 교환을 위해 \n",
    "            c[i] += 1\n",
    "            # 새로운 요소부터 다시 시작, 새로운 순열 위해 반복\n",
    "            i = 0\n",
    "        # c[i] == i 일 경우\n",
    "        else:\n",
    "            # 인덱스 교환횟수 0으로 초기화(더이상 교환할 수 없음)\n",
    "            c[i] = 0\n",
    "            # 다음 인덱스로 이동\n",
    "            i += 1\n",
    "    return result\n",
    "\n",
    "permute([1, 2, 3])"
   ]
  },
  {
   "cell_type": "code",
   "execution_count": null,
   "metadata": {},
   "outputs": [],
   "source": [
    "# itertools 사용\n",
    "import itertools\n",
    "\n",
    "pool = ['A', 'B', 'C']\n",
    "print(list(map(''.join, itertools.permutations(pool)))) # 3개의 원소로 순열 만들기\n",
    "print(list(map(''.join, itertools.permutations(pool, 2)))) # 2개의 원소로 순열 만들기"
   ]
  },
  {
   "cell_type": "code",
   "execution_count": null,
   "metadata": {},
   "outputs": [],
   "source": [
    "import itertools\n",
    "\n",
    "pool = [2, 1]\n",
    "# permuations함수는 튜플을 반환\n",
    "print(list(itertools.permutations(pool)))\n",
    "# p는 각 순열을 의미 \n",
    "print([list(p) for p in itertools.permutations(pool)])"
   ]
  },
  {
   "cell_type": "markdown",
   "metadata": {},
   "source": [
    "가장 많이 등장하는 알파벳 찾기"
   ]
  },
  {
   "cell_type": "code",
   "execution_count": null,
   "metadata": {},
   "outputs": [],
   "source": [
    "my_list = [1, 2, 3, 4, 5, 6, 7, 8, 7, 9, 1, 2, 3, 3, 5, 2, 6, 8, 9, 0, 1, 1, 4, 7, 0]\n",
    "# 딕셔너리를 사용해 빈도수 계산 \n",
    "# 빈 딕셔너리 생성: 숫자와 그 숫자의 출현 빈도를 저장\n",
    "answer = {}\n",
    "\n",
    "for number in my_list:\n",
    "    # 이미 answer에 해당 숫자 존재하는 경우 빈도 증가 \n",
    "    try:\n",
    "        answer[number] += 1\n",
    "    # number가 딕셔너리에 존재하지 않을 시 KeyError발생 -> except블록 실행\n",
    "    # 숫자 빈도 1로 초기화(해당 number 처음 등장)\n",
    "    except KeyError:\n",
    "        answer[number] = 1\n",
    "\n",
    "# 숫자 1의 빈도\n",
    "print(answer[1]) # = 4\n",
    "# 3의 빈도\n",
    "print(answer[3])  # = 3\n",
    "# 100의 빈도 -> 존재하지않음.\n",
    "print(answer[100])  # =  raise KeyError"
   ]
  },
  {
   "cell_type": "markdown",
   "metadata": {},
   "source": [
    "[파이썬] sort(), sorted() 완벽정리\n",
    "https://velog.io/@turningtwenty/PYTHON-sort-sorted-%EC%99%84%EB%B2%BD%EC%A0%95%EB%A6%AC\n",
    "\n",
    "\n",
    "sorted()함수\n",
    "https://blockdmask.tistory.com/466\n",
    "\n",
    "\n",
    "dictionary max value에 대한 key 찾기\n",
    "https://bio-info.tistory.com/40\n",
    "\n",
    "\n"
   ]
  },
  {
   "cell_type": "code",
   "execution_count": null,
   "metadata": {},
   "outputs": [],
   "source": [
    "import operator\n",
    "\n",
    "my_str = input().strip()\n",
    "print(my_str)\n",
    "answer = {}\n",
    "\n",
    "for string in my_str:\n",
    "    try:\n",
    "        answer[string] += 1\n",
    "    except KeyError:\n",
    "        answer[string] = 1\n",
    "\n",
    "print(answer)\n",
    "\n",
    "# get, values, keys()는 딕셔너리에서만 가능하나 리스트에서 시도 ㅋ\n",
    "# max값이 하나만 나옴\n",
    "# print(max(answer, key=answer.get))\n",
    "\n",
    "# 리스트 컴프리헨션 이용\n",
    "# [k for k, v in answer.items() if max(answer.values()) == v] \n",
    "\n",
    "tmp = []\n",
    "for k, v in answer.items():\n",
    "    if max(answer.values()) == v:\n",
    "        # print(k, end='')\n",
    "        tmp.append(k)\n",
    "tmp = sorted(tmp)\n",
    "\n",
    "print(*(i for i in tmp), sep='', end='')"
   ]
  },
  {
   "cell_type": "markdown",
   "metadata": {},
   "source": [
    "collections.Counter \n",
    "https://www.daleseo.com/python-collections-counter/"
   ]
  },
  {
   "cell_type": "code",
   "execution_count": null,
   "metadata": {},
   "outputs": [],
   "source": [
    "import collections\n",
    "my_str = input().strip()\n",
    "print(my_str)\n",
    "\n",
    "answer = collections.Counter(my_str)\n",
    "print(answer)\n",
    "answer = sorted([k for k, v in answer.items() if max(answer.values()) == v])\n",
    "# print(answer)\n",
    "print(*(i for i in answer), sep='')"
   ]
  },
  {
   "cell_type": "markdown",
   "metadata": {},
   "source": [
    "for 문과 if문을 한번에 - List comprehension의 if 문\n",
    "https://wikidocs.net/22805"
   ]
  },
  {
   "cell_type": "code",
   "execution_count": null,
   "metadata": {},
   "outputs": [],
   "source": [
    "mylist = [3, 2, 6, 7]\n",
    "answer = []\n",
    "for number in mylist:\n",
    "    if number % 2 == 0:\n",
    "        answer.append(number**2) # 들여쓰기를 두 번 함"
   ]
  },
  {
   "cell_type": "code",
   "execution_count": 56,
   "metadata": {},
   "outputs": [],
   "source": [
    "mylist = [3, 2, 6, 7]\n",
    "answer = [number**2 for number in mylist if number % 2 == 0]"
   ]
  },
  {
   "cell_type": "code",
   "execution_count": null,
   "metadata": {},
   "outputs": [],
   "source": [
    "# print문 안 리스트 컴프리헨션\n",
    "numbers = [1, 2, 3, 4, 5]\n",
    "print([x * 2 for x in numbers])  # 출력: [2, 4, 6, 8, 10]\n",
    "\n",
    "# * 연산자를 사용하여 제너레이터 표현식을 언팩(unpack)하여 각 요소를 개별적으로 출력\n",
    "print(*(x * 2 for x in numbers))  # 출력: 2 4 6 8 10\n"
   ]
  },
  {
   "cell_type": "markdown",
   "metadata": {},
   "source": [
    "#### flag OR else"
   ]
  },
  {
   "cell_type": "markdown",
   "metadata": {},
   "source": [
    "**제곱수 판별하기**\n",
    "\n",
    "제곱수의 정의: 제곱수는 어떤 정수 (k)의 제곱으로 표현할 수 있는 수입니다. 즉, (n = k^2)인 경우 (n)은 제곱수입니다.\n",
    "\n",
    "제곱근: (n)의 제곱근은 (n^{0.5})로 표현됩니다. 만약 (n)이 제곱수라면, (n^{0.5})는 정수가 됩니다. 예를 들어, (n = 4)일 때, (n^{0.5} = 2)이고, (n = 9)일 때, (n^{0.5} = 3)입니다.\n",
    "\n",
    "정수 조건: ((n^{0.5}) % 1 == 0)라는 조건은 (n^{0.5})가 정수임을 의미합니다. 즉, (n^{0.5})를 1로 나누었을 때 나머지가 0이라는 것은 (n^{0.5})가 정수라는 뜻입니다. 이는 (n)이 제곱수일 때만 성립합니다."
   ]
  },
  {
   "cell_type": "markdown",
   "metadata": {},
   "source": [
    "#### 파이썬 math 모듈\n",
    "https://wikidocs.net/21116\n",
    "\n",
    "제곱근: math.sqrt(25) -> 5 반환"
   ]
  },
  {
   "cell_type": "code",
   "execution_count": null,
   "metadata": {},
   "outputs": [],
   "source": [
    "# 내 풀이\n",
    "result = 1\n",
    "flag = 0\n",
    "for _ in range(5):\n",
    "    a = int(input())\n",
    "    print(\"a: \", a, flush=True)\n",
    "    result *= a\n",
    "    print(\"곱한 후: \", result, flush=True)\n",
    "    # 제곱수 판별\n",
    "    if (result**0.5)%1 == 0:\n",
    "        print(\"flag 변경\")\n",
    "        flag = 1\n",
    "\n",
    "if flag == 1: print(\"found\")\n",
    "\n",
    "else: print(\"not found\")\n"
   ]
  },
  {
   "cell_type": "code",
   "execution_count": null,
   "metadata": {},
   "outputs": [],
   "source": [
    "# 보통 사람들이 사용하는 flag \n",
    "import math\n",
    "\n",
    "if __name__ == '__main__':\n",
    "    numbers = [int(input()) for _ in range(5)]\n",
    "    multiplied = 1\n",
    "    flag = True\n",
    "    for number in numbers:\n",
    "        multiplied *= number\n",
    "        if math.sqrt(multiplied) == int(math.sqrt(multiplied)):\n",
    "            flag = False\n",
    "            print('found')\n",
    "            break\n",
    "\n",
    "    if flag:\n",
    "        print('not found')"
   ]
  },
  {
   "cell_type": "code",
   "execution_count": null,
   "metadata": {},
   "outputs": [],
   "source": [
    "# flag제외 파이썬의 for-else 문을 사용\n",
    "import math\n",
    "\n",
    "if __name__ == '__main__':\n",
    "    numbers = [int(input()) for _ in range(5)]\n",
    "    multiplied = 1\n",
    "    for number in numbers:\n",
    "        multiplied *= number\n",
    "        \"\"\"\n",
    "        제곱근을 계산하고 이것이 계산된 제곱근의 정수형과 일치하는지 확인\n",
    "        ( 4 )의 제곱근은 ( 2 ) (정수).\n",
    "        ( 5 )의 제곱근은 약 ( 2.236 ) (정수가 아님).\n",
    "        -> 제곱수의 제곱근은 항상 정수\n",
    "        \"\"\"\n",
    "        if math.sqrt(multiplied) == int(math.sqrt(multiplied)):\n",
    "            print('found')\n",
    "            break\n",
    "    else:\n",
    "        print('not found')"
   ]
  },
  {
   "cell_type": "markdown",
   "metadata": {},
   "source": [
    "#### 이진탐색\n",
    "- 오름차순으로 정렬된 리스트에서 특정한 값의 위치를 찾는 알고리즘. 검색 속도가 아주 빠르다"
   ]
  },
  {
   "cell_type": "code",
   "execution_count": null,
   "metadata": {},
   "outputs": [],
   "source": [
    "# 정렬된 리스트에서 특정 값의 위치를 찾는 이진 탐색 알고리즘\n",
    "\"\"\"\n",
    "a: 정렬된 리스트.\n",
    "x: 찾고자 하는 값.\n",
    "lo: 검색을 시작할 인덱스 (기본값은 0).\n",
    "hi: 검색을 종료할 인덱스 (기본값은 리스트의 길이).\n",
    "\"\"\"\n",
    "def bisect(a, x, lo=0, hi=None):\n",
    "    # 시작 인덱스가 음수일 경우 에러 \n",
    "    if lo < 0:\n",
    "        raise ValueError('lo must be non-negative')\n",
    "    # 끝 인덱스가 지정되지 않을 경우 리스트 전체 길이\n",
    "    if hi is None:\n",
    "        hi = len(a)\n",
    "    # lo == hi일 경우 탈출\n",
    "    while lo < hi:\n",
    "        # 중앙값 찾기\n",
    "        mid = (lo + hi) // 2\n",
    "        # 중앙값이 찾는 값보다 작을 경우\n",
    "        if a[mid] < x:\n",
    "            # 검색 범위를 오른쪽 반쪽으로 설정\n",
    "            lo = mid + 1\n",
    "        # 중앙값이 찾는 값보다 크거나 같을 경우(mid 포함)\n",
    "        else:\n",
    "            # 검색 범위를 왼쪽 반쪽으로 설정\n",
    "            hi = mid\n",
    "    return lo\n",
    "\n",
    "mylist = [1, 2, 3, 7, 9, 11, 33]\n",
    "print(bisect(mylist, 3))"
   ]
  },
  {
   "cell_type": "markdown",
   "metadata": {},
   "source": [
    "bisect 모듈\n",
    "https://python101.tistory.com/entry/%ED%8C%8C%EC%9D%B4%EC%8D%ACPython-bisect-%EC%82%AC%EC%9A%A9%EB%B2%95-%EC%A0%95%EB%A6%AC"
   ]
  },
  {
   "cell_type": "code",
   "execution_count": null,
   "metadata": {},
   "outputs": [],
   "source": [
    "import bisect\n",
    "mylist = [1, 2, 3, 7, 9, 11, 33]\n",
    "# \n",
    "\"\"\"\n",
    "bisect(a, x), bisect_right(a, x): \n",
    "리스트 a에 x를 삽입할 위치를 반환. \n",
    "만약 리스트 a 내에 x가 이미 존재하는 경우, x의 가장 오른쪽 위치 다음 인덱스를 반환\n",
    "\n",
    "bisect_left(a, x):\n",
    "리스트 a에 x를 삽입할 위치를 반환\n",
    "만약 리스트 a 내에 x가 이미 존재하는 경우, x의 가장 왼쪽 위치를 반환\n",
    "\n",
    "-> 삽입할 위치가 아닌 x를 탐색해야하는 경우 bisect_left를 써야 함. \n",
    "\"\"\"\n",
    "# 삽입할 위치 반환\n",
    "print(\"bisect:\", bisect.bisect(mylist, 3))\n",
    "print(\"bisect_right:\", bisect.bisect_right(mylist, 3))\n",
    "# 탐색 결과 \n",
    "print(\"bisect_left:\", bisect.bisect_left(mylist, 3))"
   ]
  },
  {
   "cell_type": "markdown",
   "metadata": {},
   "source": [
    "#### 클래스 인스턴스 출력하기 - class의 자동 string casting\n",
    "<br>\n",
    "예) 2차원 평면 위의 점을 나타내는 Coord 클래스의 인스턴스를 (x 값, y 값)으로 출력하기"
   ]
  },
  {
   "cell_type": "code",
   "execution_count": null,
   "metadata": {},
   "outputs": [],
   "source": [
    "# 보통 사람들은 클래스 바깥에 출력 함수를 만들거나, print 문 안에서 format을 지정\n",
    "\n",
    "class Coord(object):\n",
    "    def __init__(self, x, y):\n",
    "        self.x, self.y = x, y\n",
    "\n",
    "point = Coord(1, 2)\n",
    "print( '({}, {})'.format(point.x, point.y) ) \n",
    "\n",
    "# 또는\n",
    "def print_coord(coord):\n",
    "    print( '({}, {})'.format(coord.x, coord.y) )\n",
    "print_coord(point)"
   ]
  },
  {
   "cell_type": "code",
   "execution_count": null,
   "metadata": {},
   "outputs": [],
   "source": [
    "# 파이썬에서는 __str__ 메소드를 사용해 class 내부에서 출력 format을 지정 가능\n",
    "\n",
    "class Coord(object):\n",
    "    def __init__ (self, x, y):\n",
    "        self.x, self.y = x, y\n",
    "    def __str__ (self):\n",
    "        return '({}, {})'.format(self.x, self.y)\n",
    "\n",
    "point = Coord(1, 2)\n",
    "print(point)"
   ]
  },
  {
   "cell_type": "markdown",
   "metadata": {},
   "source": [
    "#### 가장 큰 수 inf\n",
    "- inf는 어떤 숫자와 비교해도 무조건 크다고 판정\n",
    "- 음수도 가능"
   ]
  },
  {
   "cell_type": "code",
   "execution_count": 81,
   "metadata": {},
   "outputs": [],
   "source": [
    "min_val = float('inf')\n",
    "min_val > 10000000000 # True\n",
    "\n",
    "max_val = float('-inf')"
   ]
  },
  {
   "cell_type": "markdown",
   "metadata": {},
   "source": [
    "#### 파일 입출력 간단하게 하기 - 'myfile.txt'라는 이름의 파일을 읽는 코드"
   ]
  },
  {
   "cell_type": "code",
   "execution_count": 2,
   "metadata": {},
   "outputs": [
    {
     "name": "stdout",
     "output_type": "stream",
     "text": [
      "['가나다라마바사']\n",
      "[]\n",
      "['아자차카타파하']\n",
      "[]\n",
      "['(❁´◡`❁)']\n"
     ]
    }
   ],
   "source": [
    "# 다른 언어에서는 ...\n",
    "\n",
    "# 읽기모드로 파일 열기\n",
    "f = open('myfile.txt', 'r', encoding='utf-8')\n",
    "while True:\n",
    "    # 파일에서 한 줄 읽음\n",
    "    line = f.readline()\n",
    "    # 파일의 끝일 경우 빈 문자열\n",
    "    if not line: \n",
    "        break\n",
    "    # 읽은 줄을 공백 기준으로 나눔\n",
    "    # 기본적으로 모든 공백(스페이스, 탭 등)을 기준으로 문자열을 나누고, \n",
    "    # 나눠진 단어들을 리스트 형태로 반환\n",
    "    raw = line.split()\n",
    "    print(raw)\n",
    "# 파일에 대한 리소스 해제(파일 닫기)\n",
    "f.close()"
   ]
  },
  {
   "cell_type": "markdown",
   "metadata": {},
   "source": [
    "with ~ as 구문 사용해서 파일 열기\n",
    "- 파일을 close 하지 않아도 됨: with - as 블록이 종료되면 파일이 자동으로 close\n",
    "- readlines가 EOF까지만 읽으므로, while 문 안에서 EOF를 체크할 필요가 없음.\n",
    "- socket이나, http에서도 사용 가능"
   ]
  },
  {
   "cell_type": "code",
   "execution_count": 4,
   "metadata": {},
   "outputs": [
    {
     "name": "stdout",
     "output_type": "stream",
     "text": [
      "['가나다라마바사']\n",
      "['']\n",
      "['아자차카타파하']\n",
      "['']\n",
      "['(❁´◡`❁)']\n"
     ]
    }
   ],
   "source": [
    "with open('myfile.txt', 'r', encoding='utf-8') as file:\n",
    "    for line in file.readlines():\n",
    "        print(line.strip().split('\\t'))"
   ]
  },
  {
   "cell_type": "code",
   "execution_count": null,
   "metadata": {},
   "outputs": [],
   "source": []
  }
 ],
 "metadata": {
  "kernelspec": {
   "display_name": "Python 3",
   "language": "python",
   "name": "python3"
  },
  "language_info": {
   "codemirror_mode": {
    "name": "ipython",
    "version": 3
   },
   "file_extension": ".py",
   "mimetype": "text/x-python",
   "name": "python",
   "nbconvert_exporter": "python",
   "pygments_lexer": "ipython3",
   "version": "3.11.3"
  }
 },
 "nbformat": 4,
 "nbformat_minor": 2
}
