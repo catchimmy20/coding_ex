{
  "metadata": {
    "kernelspec": {
      "name": "python",
      "display_name": "Python (Pyodide)",
      "language": "python"
    },
    "language_info": {
      "codemirror_mode": {
        "name": "python",
        "version": 3
      },
      "file_extension": ".py",
      "mimetype": "text/x-python",
      "name": "python",
      "nbconvert_exporter": "python",
      "pygments_lexer": "ipython3",
      "version": "3.8"
    }
  },
  "nbformat_minor": 4,
  "nbformat": 4,
  "cells": [
    {
      "cell_type": "markdown",
      "source": "https://school.programmers.co.kr/learn/courses/30/lessons/181931?language=python3\n<br>코딩 기초 > 등차수열의 특정한 항만 더하기",
      "metadata": {}
    },
    {
      "cell_type": "code",
      "source": "def solution(a, d, included):\n    # included 길이 구하기\n    length = len(included)\n\n    # true가 위치한 idx값 구하기\n    idx_list = []\n    for i in range(length):\n        if included[i] == True:\n            idx_list.append(i)\n            \n    # 등차수열 리스트에 저장\n    res = a\n    ap = []\n    for i in range(length):\n        ap.append(res)\n        res += d\n   \n    # 리스트에서 해당 idx위치에 있는 값 sum해서 저장\n    sum = 0\n    for i in idx_list:\n        sum += ap[i]\n\n    return sum\n\nsolution(3, 4, [True, False, False, True, True])",
      "metadata": {
        "trusted": true
      },
      "outputs": [
        {
          "name": "stdout",
          "text": "5\n[0, 3, 4]\n[3, 7, 11, 15, 19]\n37\n",
          "output_type": "stream"
        }
      ],
      "execution_count": 13
    },
    {
      "cell_type": "code",
      "source": "def solution(a, d, included):\n    answer = 0\n    for i in range(len(included)):\n        # a + d * i => 등차수열 \n        # * int(included[i]) => True일때만 1을 곱하고 False일때는 0이 곱해져서 합산 안됨.\n        # answer에 True인 등차수열의 값만 들어가게 됨\n        answer += (a + d * i) * int(included[i])\n    return answer",
      "metadata": {
        "trusted": true
      },
      "outputs": [],
      "execution_count": null
    },
    {
      "cell_type": "markdown",
      "source": "https://m.blog.naver.com/youndok/222074578409\n제너레이터 표현식",
      "metadata": {}
    },
    {
      "cell_type": "code",
      "source": "# 제너레이터 표현식을 사용한 경우\ndef solution(a, d, included):\n    # enumerate로 included를 인덱스와 값을 i와 f에 가져오고, \n    # included가 true, false로 구성되어있어 조건문 걸면 true일 때 for문 앞의 식을 적용\n    return sum(a + i * d for i, f in enumerate(included) if f)",
      "metadata": {
        "trusted": true
      },
      "outputs": [],
      "execution_count": null
    },
    {
      "cell_type": "code",
      "source": "# 위의 코드를 풀어 쓴 경우\ndef solution(a, d, included):\n\n    l = []\n\n    for i, x in enumerate(included):\n        if x == True:\n            l.append(d*i + a)\n\n    return sum(l)",
      "metadata": {
        "trusted": true
      },
      "outputs": [],
      "execution_count": null
    },
    {
      "cell_type": "markdown",
      "source": "https://school.programmers.co.kr/learn/courses/30/lessons/181930\n<br>코딩 기초 > 주사위게임2",
      "metadata": {}
    },
    {
      "cell_type": "code",
      "source": "import collections\ndef solution(a, b, c):\n    list = [a, b, c]\n    counter = collections.Counter(list)\n    \n    # 세 숫자가 모두 다른 경우\n    if all([i==1 for i in counter.values()]) == True:\n        return a + b + c\n    # 세 숫자 중 두개가 같은 경우\n    elif 2 in counter.values():\n        return (a + b + c)*(a**2 + b**2 + c**2)              \n    # 세 숫자 모두 같은 경우\n    else:\n        return (a + b + c) * (a**2 + b**2 + c**2 ) * (a**3 + b**3 + c**3 )\n# solution(2, 6, 1)\n# solution(5, 3, 3)\n# solution(4, 4, 4)",
      "metadata": {
        "trusted": true
      },
      "outputs": [
        {
          "name": "stdout",
          "text": "Counter({4: 3})\ndict_values([3])\n",
          "output_type": "stream"
        },
        {
          "execution_count": 23,
          "output_type": "execute_result",
          "data": {
            "text/plain": "110592"
          },
          "metadata": {}
        }
      ],
      "execution_count": 23
    },
    {
      "cell_type": "markdown",
      "source": "https://www.daleseo.com/python-set/\nset 설명",
      "metadata": {}
    },
    {
      "cell_type": "code",
      "source": "# set(): 순서가 없는 중복되지 않은 데이터의 집합\n# set로 중복을 없애고나서 길이로 체크함.\ndef solution(a, b, c):\n    check=len(set([a,b,c]))\n    # 세 숫자 모두 같은 경우\n    # a == b == c\n    if check==1:\n        # 3*(3*a) * 3*(a**2) * 3*(a**3)\n        return 3*a*3*(a**2)*3*(a**3)\n    elif check==2:\n        return (a+b+c)*(a**2+b**2+c**2)\n    else:\n        return (a+b+c)",
      "metadata": {
        "trusted": true
      },
      "outputs": [],
      "execution_count": null
    },
    {
      "cell_type": "code",
      "source": "# 기본적으로 조건을 하나도 만족하지 않을 경우 \n# -> 세 숫자가 모두 다른 경우가 디폴트 answer값\ndef solution(a, b, c):\n    answer=a+b+c\n    # 두개의 숫자가 같을 경우 \n    if a==b or b==c or a==c: answer*=a**2+b**2+c**2\n    # 모두 같을 경우, 단일 if문이기때문에 if문전부 실행됨\n    if a==b==c:answer*=a**3+b**3+c**3\n    return answer\n\nsolution(4, 4, 4)",
      "metadata": {
        "trusted": true
      },
      "outputs": [
        {
          "execution_count": 26,
          "output_type": "execute_result",
          "data": {
            "text/plain": "110592"
          },
          "metadata": {}
        }
      ],
      "execution_count": 26
    },
    {
      "cell_type": "markdown",
      "source": "https://school.programmers.co.kr/learn/courses/30/lessons/181929\n<br>코딩 기초 > 원소들의 곱과 합",
      "metadata": {}
    },
    {
      "cell_type": "code",
      "source": "def solution(num_list):\n    num = 1\n    for i in num_list:\n        num *= i\n    if num < sum(num_list)**2: return 1\n    else: return 0\n# solution([3, 4, 5, 2, 1])\nsolution([5, 7, 8, 3])\n",
      "metadata": {
        "trusted": true
      },
      "outputs": [
        {
          "name": "stdout",
          "text": "840\n",
          "output_type": "stream"
        },
        {
          "execution_count": 38,
          "output_type": "execute_result",
          "data": {
            "text/plain": "0"
          },
          "metadata": {}
        }
      ],
      "execution_count": 38
    },
    {
      "cell_type": "code",
      "source": "# return문에서 관계연산자의 리턴값이 boolean값임을 활용\n# int(True) -> 1, int(False) -> 0\ndef solution(num_list):\n    mul = 1 \n    for n in num_list:\n        mul *= n\n    return int(mul < sum(num_list) ** 2)",
      "metadata": {
        "trusted": true
      },
      "outputs": [],
      "execution_count": null
    },
    {
      "cell_type": "markdown",
      "source": "eval()참고 https://blockdmask.tistory.com/437",
      "metadata": {}
    },
    {
      "cell_type": "code",
      "source": "# eval은 권장되지 않는다고 함(참고만)\n# eval(): 매개변수로 받은 expression (=식)을 문자열로 받아서, 실행하는 함수\n\ndef solution(num_list):\n    s=sum(num_list)**2\n    m=eval('*'.join([str(n) for n in num_list]))\n    return 1 if s>m else 0",
      "metadata": {
        "trusted": true
      },
      "outputs": [],
      "execution_count": null
    },
    {
      "cell_type": "code",
      "source": "num_list = [5, 7, 8, 3]\nm = '*'.join([str(n) for n in num_list])\nprint(m)\nprint(eval(m))",
      "metadata": {
        "trusted": true
      },
      "outputs": [
        {
          "name": "stdout",
          "text": "5*7*8*3\n840\n",
          "output_type": "stream"
        }
      ],
      "execution_count": 41
    },
    {
      "cell_type": "code",
      "source": "def solution(num_list):\n    # a: 모든 원소의 곱\n    # b: 모든 원소의 합의 제곱\n    a=1\n    b=0\n    # 한번에 for문을 돌려서 처리\n    for x in num_list:\n        a*=x\n        b+=x\n    if a<b*b: return 1\n    return 0",
      "metadata": {
        "trusted": true
      },
      "outputs": [],
      "execution_count": null
    }
  ]
}