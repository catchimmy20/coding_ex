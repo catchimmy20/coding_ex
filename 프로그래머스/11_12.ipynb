{
 "cells": [
  {
   "cell_type": "markdown",
   "metadata": {},
   "source": [
    "https://school.programmers.co.kr/learn/courses/30/lessons/181921\n",
    "<br> 코딩 기초 > 배열 만들기2"
   ]
  },
  {
   "cell_type": "code",
   "execution_count": null,
   "metadata": {},
   "outputs": [
    {
     "name": "stdout",
     "output_type": "stream",
     "text": [
      "['5', '5']\n",
      "['5', '0']\n",
      "['0', '0']\n",
      "[['5', '5'], ['5', '0'], ['0', '0']]\n",
      "['55', '50', '00']\n"
     ]
    }
   ],
   "source": [
    "# r의 범위가 너무 커서 일일이 생성 불가능할듯..?\n",
    "import itertools\n",
    "def solution(l, r):\n",
    "    result = []\n",
    "    # 5, 0을 조합해서 만들 수 있는 숫자\n",
    "    a = list(map(list, itertools.combinations_with_replacement(['5','0'], 2)))\n",
    "    for i in a:\n",
    "        result.append(\"\".join(i))\n",
    "\n",
    "    print(result)\n",
    "\n",
    "solution(5, 555)"
   ]
  },
  {
   "cell_type": "markdown",
   "metadata": {},
   "source": [
    "https://animoto1.tistory.com/entry/%ED%8C%8C%EC%9D%B4%EC%8D%ACPython-%EB%A6%AC%EC%8A%A4%ED%8A%B8-%ED%95%A9%EC%A7%91%ED%95%A9-%EA%B5%90%EC%A7%91%ED%95%A9-%EC%B0%A8%EC%A7%91%ED%95%A9-%EB%8C%80%EC%B9%AD%EC%B0%A8\n"
   ]
  },
  {
   "cell_type": "code",
   "execution_count": null,
   "metadata": {},
   "outputs": [],
   "source": [
    "# 리스트 형태로 차집합 가능한지?\n",
    "def solution(l, r):\n",
    "    a = [i for i in range(l, r+1) if '5' in str(i) or '0' in str(i)]\n",
    "    print(a)\n",
    "    # b = [i for i in a if any(j != '5' or j !='0' j in str(i))]\n",
    "    for i in a:\n",
    "        if all(j == '5' for j in str(i))==False:\n",
    "            print(i)\n",
    "            a.remove(i)\n",
    "        \n",
    "    print(a)\n",
    "    # print(b)\n",
    "    \n",
    "solution(5, 555)"
   ]
  },
  {
   "cell_type": "code",
   "execution_count": 22,
   "metadata": {},
   "outputs": [
    {
     "data": {
      "text/plain": [
       "[-1]"
      ]
     },
     "execution_count": 22,
     "metadata": {},
     "output_type": "execute_result"
    }
   ],
   "source": [
    "def solution(l, r):\n",
    "    combo = ['0', '5']\n",
    "    result = []\n",
    "    for i in range(l, r+1):\n",
    "        flag = 0\n",
    "        for j in str(i):\n",
    "            if j not in combo:\n",
    "                flag += 1\n",
    "        if flag == 0:\n",
    "            result.append(i)\n",
    "    if result == []:\n",
    "        result.append(-1)\n",
    "    return result\n",
    "\n",
    "# solution(5, 555)\n",
    "solution(10, 20)"
   ]
  },
  {
   "cell_type": "markdown",
   "metadata": {},
   "source": [
    "다른사람 풀이"
   ]
  },
  {
   "cell_type": "code",
   "execution_count": 23,
   "metadata": {},
   "outputs": [
    {
     "data": {
      "text/plain": [
       "[5, 50, 55, 500, 505, 550, 555]"
      ]
     },
     "execution_count": 23,
     "metadata": {},
     "output_type": "execute_result"
    }
   ],
   "source": [
    "def solution(l, r):\n",
    "    answer = []\n",
    "    for num in range(l, r + 1):\n",
    "        if not set(str(num)) - set([\"0\", \"5\"]):\n",
    "            answer.append(num)\n",
    "    return answer if answer else [-1]\n",
    "\n",
    "solution(5, 555)\n",
    "# solution(10, 20)"
   ]
  },
  {
   "cell_type": "code",
   "execution_count": null,
   "metadata": {},
   "outputs": [],
   "source": [
    "def solution(l, r):\n",
    "    answer = []\n",
    "    i = 1\n",
    "    n = 5\n",
    "\n",
    "    while True:\n",
    "        if n > r:\n",
    "            break\n",
    "        n = 5 * int(bin(i)[2:])\n",
    "        if l <= n <= r:\n",
    "            answer.append(n)\n",
    "        i += 1\n",
    "\n",
    "    return [-1] if len(answer) == 0 else answer"
   ]
  },
  {
   "cell_type": "code",
   "execution_count": null,
   "metadata": {},
   "outputs": [],
   "source": [
    "def solution(l, r):\n",
    "    ret = []\n",
    "\n",
    "    def f(lim, val):\n",
    "        if lim == 0:\n",
    "            ret.append(val)\n",
    "            return\n",
    "\n",
    "        f(lim - 1, val * 10 + 5)\n",
    "        f(lim - 1, val * 10)\n",
    "\n",
    "    f(6, 0)\n",
    "\n",
    "    return list(i for i in ret if l <= i <= r)[::-1] or [-1]"
   ]
  }
 ],
 "metadata": {
  "kernelspec": {
   "display_name": "Python 3",
   "language": "python",
   "name": "python3"
  },
  "language_info": {
   "codemirror_mode": {
    "name": "ipython",
    "version": 3
   },
   "file_extension": ".py",
   "mimetype": "text/x-python",
   "name": "python",
   "nbconvert_exporter": "python",
   "pygments_lexer": "ipython3",
   "version": "3.11.3"
  }
 },
 "nbformat": 4,
 "nbformat_minor": 2
}
