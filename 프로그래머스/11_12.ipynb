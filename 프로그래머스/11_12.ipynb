{
 "cells": [
  {
   "cell_type": "markdown",
   "metadata": {},
   "source": [
    "https://school.programmers.co.kr/learn/courses/30/lessons/181921\n",
    "<br> 코딩 기초 > 배열 만들기2"
   ]
  },
  {
   "cell_type": "code",
   "execution_count": null,
   "metadata": {},
   "outputs": [
    {
     "name": "stdout",
     "output_type": "stream",
     "text": [
      "['5', '5']\n",
      "['5', '0']\n",
      "['0', '0']\n",
      "[['5', '5'], ['5', '0'], ['0', '0']]\n",
      "['55', '50', '00']\n"
     ]
    }
   ],
   "source": [
    "# r의 범위가 너무 커서 일일이 생성 불가능할듯..?\n",
    "import itertools\n",
    "def solution(l, r):\n",
    "    result = []\n",
    "    # 5, 0을 조합해서 만들 수 있는 숫자\n",
    "    a = list(map(list, itertools.combinations_with_replacement(['5','0'], 2)))\n",
    "    for i in a:\n",
    "        result.append(\"\".join(i))\n",
    "\n",
    "    print(result)\n",
    "\n",
    "solution(5, 555)"
   ]
  },
  {
   "cell_type": "code",
   "execution_count": null,
   "metadata": {},
   "outputs": [],
   "source": []
  }
 ],
 "metadata": {
  "kernelspec": {
   "display_name": "Python 3",
   "language": "python",
   "name": "python3"
  },
  "language_info": {
   "codemirror_mode": {
    "name": "ipython",
    "version": 3
   },
   "file_extension": ".py",
   "mimetype": "text/x-python",
   "name": "python",
   "nbconvert_exporter": "python",
   "pygments_lexer": "ipython3",
   "version": "3.12.1"
  }
 },
 "nbformat": 4,
 "nbformat_minor": 2
}
