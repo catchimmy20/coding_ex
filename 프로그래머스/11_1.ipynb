{
 "cells": [
  {
   "cell_type": "markdown",
   "metadata": {},
   "source": [
    "https://school.programmers.co.kr/learn/courses/30/lessons/181927\n",
    "<br>코딩 기초 > 마지막 두 원소"
   ]
  },
  {
   "cell_type": "code",
   "execution_count": 3,
   "metadata": {},
   "outputs": [
    {
     "data": {
      "text/plain": [
       "[5, 2, 1, 7, 5, 10]"
      ]
     },
     "execution_count": 3,
     "metadata": {},
     "output_type": "execute_result"
    }
   ],
   "source": [
    "def solution(num_list):\n",
    "    if num_list[-2] < num_list[-1]:\n",
    "        num_list.append(num_list[-1] - num_list[-2])\n",
    "    else:\n",
    "        num_list.append(num_list[-1]*2)\n",
    "    return num_list\n",
    "\n",
    "# solution([2, 1, 6])\n",
    "solution([5, 2, 1, 7, 5])"
   ]
  },
  {
   "cell_type": "code",
   "execution_count": null,
   "metadata": {},
   "outputs": [],
   "source": [
    "# 제너레이터 표현식 사용하여 한줄로 표현\n",
    "def solution(l):\n",
    "    # if l[-1] > l[-2]가 참이면 l[-1]-l[-2]를 하고 \n",
    "    # 거짓이면 l[-1]*2를 함.\n",
    "    l.append(l[-1] - l[-2] if l[-1] > l[-2] else l[-1] * 2)\n",
    "    return l"
   ]
  },
  {
   "cell_type": "markdown",
   "metadata": {},
   "source": [
    "https://school.programmers.co.kr/learn/courses/30/lessons/181926\n",
    "<br>코딩 기초 > 수 조작하기 1"
   ]
  },
  {
   "cell_type": "code",
   "execution_count": null,
   "metadata": {},
   "outputs": [],
   "source": [
    "def solution(n, control):\n",
    "    for c in control:\n",
    "        if c == \"w\":\n",
    "            n += 1\n",
    "        elif c == \"s\":\n",
    "            n -= 1\n",
    "        elif c == \"d\":\n",
    "            n += 10\n",
    "        else:\n",
    "            n -= 10\n",
    "    return n"
   ]
  },
  {
   "cell_type": "code",
   "execution_count": null,
   "metadata": {},
   "outputs": [],
   "source": [
    "def solution(n, control):\n",
    "    # zip으로 두개의 리스트를 모으고 딕셔너리로 만듦\n",
    "    key = dict(zip([\"w\", \"s\", \"d\", \"a\"], [1, -1, 10, -10]))\n",
    "    # c에 해당하는 딕셔너리 value를 찾아 더해줌\n",
    "    return n + sum([key[c] for c in control])\n",
    "\n",
    "# 메모리 측면에서 비효율적일 수 있다고 함(출처: 댓글)"
   ]
  },
  {
   "cell_type": "code",
   "execution_count": null,
   "metadata": {},
   "outputs": [],
   "source": [
    "def solution(n, control):\n",
    "    answer = n\n",
    "    # 딕셔너리 생성(zip사용x)\n",
    "    c = {\"w\": 1, \"s\": -1, \"d\": 10, \"a\": -10}\n",
    "    # value값 더해나감\n",
    "    for i in control:\n",
    "        answer += c[i]\n",
    "    return answer\n",
    "\n",
    "# 메모리, 성능 둘다 우수하다 함(출처: 댓글)"
   ]
  },
  {
   "cell_type": "code",
   "execution_count": null,
   "metadata": {},
   "outputs": [],
   "source": [
    "# count를 사용하여 각 원소의 개수를 세고 이를 더함\n",
    "def solution(n, control):\n",
    "    return (\n",
    "        n\n",
    "        + 10 * (control.count(\"d\") - control.count(\"a\"))\n",
    "        + (control.count(\"w\") - control.count(\"s\"))\n",
    "    )"
   ]
  },
  {
   "cell_type": "markdown",
   "metadata": {},
   "source": [
    "https://school.programmers.co.kr/learn/courses/30/lessons/181924\n",
    "<br>코딩 기초 > 수열과 구간 쿼리 3\n"
   ]
  },
  {
   "cell_type": "code",
   "execution_count": null,
   "metadata": {},
   "outputs": [
    {
     "name": "stdout",
     "output_type": "stream",
     "text": [
      "0 3\n",
      "[3, 1, 2, 0, 4]\n",
      "1 2\n",
      "[3, 2, 1, 0, 4]\n",
      "1 4\n",
      "[3, 4, 1, 0, 2]\n"
     ]
    },
    {
     "data": {
      "text/plain": [
       "[3, 4, 1, 0, 2]"
      ]
     },
     "execution_count": 11,
     "metadata": {},
     "output_type": "execute_result"
    }
   ],
   "source": [
    "def solution(arr, queries):\n",
    "    for q in queries:\n",
    "        # print(q[0], q[1])\n",
    "        tmp = arr[q[0]]\n",
    "        arr[q[0]] = arr[q[1]]\n",
    "        arr[q[1]] = tmp\n",
    "        # print(arr)\n",
    "    return arr\n",
    "\n",
    "solution([0, 1, 2, 3, 4], [[0, 3], [1, 2], [1, 4]])"
   ]
  },
  {
   "cell_type": "code",
   "execution_count": null,
   "metadata": {},
   "outputs": [
    {
     "name": "stdout",
     "output_type": "stream",
     "text": [
      "0 3\n",
      "1 2\n",
      "1 4\n"
     ]
    },
    {
     "data": {
      "text/plain": [
       "[3, 4, 1, 0, 2]"
      ]
     },
     "execution_count": 12,
     "metadata": {},
     "output_type": "execute_result"
    }
   ],
   "source": [
    "# 파이썬 스왑은 tmp를 이용하지 않아도 됨....\n",
    "def solution(arr, queries):\n",
    "    for a, b in queries:\n",
    "        print(a, b)\n",
    "        arr[a], arr[b] = arr[b], arr[a]\n",
    "    return arr\n",
    "\n",
    "solution([0, 1, 2, 3, 4], [[0, 3], [1, 2], [1, 4]])"
   ]
  },
  {
   "cell_type": "markdown",
   "metadata": {},
   "source": [
    "https://school.programmers.co.kr/learn/courses/30/lessons/181923\n",
    "<br>코딩 기초 > 수열과 구간 쿼리2"
   ]
  },
  {
   "cell_type": "code",
   "execution_count": null,
   "metadata": {},
   "outputs": [],
   "source": [
    "# 특정 쿼리의 답이 존재하지 않으면 -1을 저장하는 것을 깜빡\n",
    "# 잘못된 코드\n",
    "# error: ValueError: min() arg is an empty sequence\n",
    "# min()의 값이 경우에 따라서는 없을 수도 없기 때문.\n",
    "def solution(arr, queries):\n",
    "    a = []\n",
    "    for s, e, k in queries:\n",
    "        n = (min(arr[i] for i in range(s, e + 1) if k < arr[i]))\n",
    "        a.append(n)\n",
    "    return a\n",
    "\n",
    "solution([0, 1, 2, 4, 3], [[0, 4, 2], [0, 3, 2], [0, 2, 2]])"
   ]
  },
  {
   "cell_type": "code",
   "execution_count": 18,
   "metadata": {},
   "outputs": [
    {
     "data": {
      "text/plain": [
       "[3, 4, -1]"
      ]
     },
     "execution_count": 18,
     "metadata": {},
     "output_type": "execute_result"
    }
   ],
   "source": [
    "def solution(arr, queries):\n",
    "    a = []\n",
    "    for s, e, k in queries:\n",
    "        n = [arr[i] for i in range(s, e + 1) if k < arr[i]]\n",
    "        if n: a.append(min(n))\n",
    "        else: a.append(-1)\n",
    "    return a\n",
    "\n",
    "solution([0, 1, 2, 4, 3], [[0, 4, 2], [0, 3, 2], [0, 2, 2]])"
   ]
  },
  {
   "cell_type": "code",
   "execution_count": null,
   "metadata": {},
   "outputs": [],
   "source": [
    "def solution(arr, queries):\n",
    "    answer = []\n",
    "    for s, e, k in queries:\n",
    "        l = [i for i in arr[s : e + 1] if i > k]\n",
    "        # append()안에 if문을 넣어 코드를 줄임. \n",
    "        # 빈 리스트를 len()을 통해 판별 \n",
    "        answer.append(-1 if len(l) == 0 else min(l))\n",
    "    return answer"
   ]
  }
 ],
 "metadata": {
  "kernelspec": {
   "display_name": "Python 3",
   "language": "python",
   "name": "python3"
  },
  "language_info": {
   "codemirror_mode": {
    "name": "ipython",
    "version": 3
   },
   "file_extension": ".py",
   "mimetype": "text/x-python",
   "name": "python",
   "nbconvert_exporter": "python",
   "pygments_lexer": "ipython3",
   "version": "3.11.3"
  }
 },
 "nbformat": 4,
 "nbformat_minor": 2
}
