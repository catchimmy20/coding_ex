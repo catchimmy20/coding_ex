{
 "cells": [
  {
   "cell_type": "markdown",
   "metadata": {},
   "source": [
    "코딩 기초 > 문자열 섞기"
   ]
  },
  {
   "cell_type": "code",
   "execution_count": 32,
   "metadata": {},
   "outputs": [
    {
     "name": "stdout",
     "output_type": "stream",
     "text": [
      "[('a', 'b'), ('a', 'b'), ('a', 'b'), ('a', 'b'), ('a', 'b')]\n"
     ]
    },
    {
     "data": {
      "text/plain": [
       "'ababababab'"
      ]
     },
     "execution_count": 32,
     "metadata": {},
     "output_type": "execute_result"
    }
   ],
   "source": [
    "def solution(str1, str2):\n",
    "    answer = \"\"\n",
    "    s1 = [i for i in str1]\n",
    "    s2 = [i for i in str2]\n",
    "    for i, j in zip(s1, s2):\n",
    "        answer += i + j\n",
    "    return answer\n",
    "\n",
    "\n",
    "solution(\"aaaaa\", \"bbbbb\")"
   ]
  },
  {
   "cell_type": "code",
   "execution_count": 79,
   "metadata": {},
   "outputs": [
    {
     "name": "stdout",
     "output_type": "stream",
     "text": [
      "a b\n",
      "a b\n",
      "a b\n",
      "a b\n",
      "a b\n"
     ]
    }
   ],
   "source": [
    "for s1, s2 in zip(\"aaaaa\", \"bbbbb\"):\n",
    "    print(s1, s2)\n",
    "\n",
    "\"\"\"\n",
    "결과:\n",
    "a b\n",
    "a b\n",
    "a b\n",
    "a b\n",
    "a b\n",
    "\"\"\""
   ]
  },
  {
   "cell_type": "code",
   "execution_count": 33,
   "metadata": {},
   "outputs": [
    {
     "data": {
      "text/plain": [
       "'ababababab'"
      ]
     },
     "execution_count": 33,
     "metadata": {},
     "output_type": "execute_result"
    }
   ],
   "source": [
    "def solution(str1, str2):\n",
    "    res = \"\"\n",
    "    for s1, s2 in zip(str1, str2):\n",
    "        res += s1 + s2\n",
    "    return res\n",
    "\n",
    "\n",
    "solution(\"aaaaa\", \"bbbbb\")"
   ]
  },
  {
   "cell_type": "code",
   "execution_count": 34,
   "metadata": {},
   "outputs": [
    {
     "data": {
      "text/plain": [
       "'ababababab'"
      ]
     },
     "execution_count": 34,
     "metadata": {},
     "output_type": "execute_result"
    }
   ],
   "source": [
    "def solution(str1, str2):\n",
    "    answer = \"\"\n",
    "    for i in range(len(str1)):\n",
    "        answer += str1[i] + str2[i]\n",
    "    return answer\n",
    "\n",
    "\n",
    "solution(\"aaaaa\", \"bbbbb\")"
   ]
  },
  {
   "cell_type": "code",
   "execution_count": 37,
   "metadata": {},
   "outputs": [
    {
     "data": {
      "text/plain": [
       "364"
      ]
     },
     "execution_count": 37,
     "metadata": {},
     "output_type": "execute_result"
    }
   ],
   "source": [
    "def solution(a, b):\n",
    "    n1 = int(str(a) + str(b))\n",
    "    n2 = 2 * a * b\n",
    "    if n1 < n2:\n",
    "        return n2\n",
    "    else:\n",
    "        return n1\n",
    "\n",
    "\n",
    "solution(2, 91)"
   ]
  },
  {
   "cell_type": "markdown",
   "metadata": {},
   "source": [
    "코딩 기초 > 출력에 따라 다른 값 반환하기    "
   ]
  },
  {
   "cell_type": "code",
   "execution_count": 56,
   "metadata": {},
   "outputs": [
    {
     "data": {
      "text/plain": [
       "16"
      ]
     },
     "execution_count": 58,
     "metadata": {},
     "output_type": "execute_result"
    }
   ],
   "source": [
    "def solution(n):\n",
    "    answer = 0  \n",
    "    if n%2 == 0:\n",
    "        for i in range(1, n+1):\n",
    "            if i%2 == 0:\n",
    "                answer += i**2\n",
    "    else:\n",
    "        for i in range(1, n+1, 2):\n",
    "            answer += i\n",
    "    return answer\n",
    "\n",
    "solution(7)"
   ]
  },
  {
   "cell_type": "code",
   "execution_count": 59,
   "metadata": {},
   "outputs": [
    {
     "name": "stdout",
     "output_type": "stream",
     "text": [
      "16\n",
      "220\n"
     ]
    }
   ],
   "source": [
    "def solution(n):\n",
    "    if n%2: # n%2이 0이 아닐때 (홀)\n",
    "        return sum(range(1,n+1,2))\n",
    "    # n%2가 0일때 (짝)\n",
    "    return sum([i*i for i in range(2,n+1,2)])\n",
    "\n",
    "print(solution(7))\n",
    "print(solution(10))"
   ]
  },
  {
   "cell_type": "code",
   "execution_count": null,
   "metadata": {},
   "outputs": [],
   "source": [
    "def solution(n):\n",
    "    answer = 0\n",
    "    if n % 2:\n",
    "        for i in range(1, n + 1, 2):\n",
    "            answer += i\n",
    "    else:\n",
    "        # 시작 인덱스를 변경하여 짝수만 더함\n",
    "        for i in range(2, n + 1, 2):\n",
    "            answer += i**2\n",
    "    return answer"
   ]
  },
  {
   "cell_type": "markdown",
   "metadata": {},
   "source": [
    "코딩 기초 > 조건문자열"
   ]
  },
  {
   "cell_type": "code",
   "execution_count": 62,
   "metadata": {},
   "outputs": [
    {
     "data": {
      "text/plain": [
       "0"
      ]
     },
     "execution_count": 62,
     "metadata": {},
     "output_type": "execute_result"
    }
   ],
   "source": [
    "def solution(ineq, eq, n, m):\n",
    "    if eq == \"=\":\n",
    "        if ineq == \"<\":\n",
    "            return int(n <= m)\n",
    "        else:\n",
    "            return int(n >= m)\n",
    "    elif eq == \"!\":\n",
    "        if ineq == \"<\":\n",
    "            return int(n < m)\n",
    "        else:\n",
    "            return int(n > m)\n",
    "\n",
    "solution(\"<\", \"=\", 20, 50)\n",
    "solution(\">\", \"!\", 41, 78)"
   ]
  },
  {
   "cell_type": "code",
   "execution_count": null,
   "metadata": {},
   "outputs": [],
   "source": [
    "# 0이 나오는 조건은 =, ! 여부와 상관없이 거짓인 값일때만 \n",
    "# 참이 나오는 조건만 찾아서 1리턴하면 됨\n",
    "def solution(ineq, eq, n, m):\n",
    "    answer = 0\n",
    "    if n > m and ineq == \">\":\n",
    "        answer = 1\n",
    "    elif n < m and ineq == \"<\":\n",
    "        answer = 1\n",
    "    elif n == m and eq == \"=\":\n",
    "        answer = 1\n",
    "\n",
    "    return answer"
   ]
  },
  {
   "cell_type": "code",
   "execution_count": null,
   "metadata": {},
   "outputs": [],
   "source": [
    "def solution(ineq, eq, n, m):\n",
    "    answer = 0\n",
    "    # 조건을 튜플로 만들어 비교 \n",
    "    if (ineq, eq) == ('<', '='):\n",
    "        answer = int(n <= m)\n",
    "    elif (ineq, eq) == ('>', '='):\n",
    "        answer = int(n >= m)\n",
    "    elif (ineq, eq) == ('<', '!'):\n",
    "        answer = int(n < m)\n",
    "    elif (ineq, eq) == ('>', '!'):\n",
    "        answer = int(n > m)\n",
    "    else:\n",
    "        return 'wrong input'\n",
    "\n",
    "    return answer"
   ]
  },
  {
   "cell_type": "markdown",
   "metadata": {},
   "source": [
    "코딩 기초 > 주사위3\n",
    "https://www.daleseo.com/python-all/"
   ]
  },
  {
   "cell_type": "markdown",
   "metadata": {},
   "source": [
    "https://school.programmers.co.kr/learn/courses/30/lessons/181916"
   ]
  },
  {
   "cell_type": "code",
   "execution_count": 78,
   "metadata": {},
   "outputs": [
    {
     "name": "stdout",
     "output_type": "stream",
     "text": [
      "[2, 2, 2, 2]\n",
      "전부 같음\n",
      "[3, 3, 6, 6]\n",
      "둘씩 같음\n",
      "[2, 4, 4, 4]\n",
      "[2, 2, 5, 6]\n",
      "[2, 4, 5, 6]\n"
     ]
    }
   ],
   "source": [
    "# 바로 if문 사용할 시 순서에 따라 값 달라짐\n",
    "# Counter사용해서 같은게 몇갠지 세기?\n",
    "# Counter 값에 따라서 연산 진행\n",
    "def solution(a, b, c, d):\n",
    "    num = sorted([a, b, c, d])\n",
    "    print(num)\n",
    "    if all(n == a for n in num):\n",
    "        print(\"전부 같음\")\n",
    "        return 1111*a\n",
    "    \n",
    "\n",
    "# print(solution(2, 2, 2, 2))\n",
    "solution(2, 2, 2, 2)\n",
    "solution(6, 3, 3, 6)\n",
    "solution(4, 2, 4, 4)\n",
    "solution(2, 5, 2, 6)\n",
    "solution(6, 4, 2, 5)"
   ]
  },
  {
   "cell_type": "markdown",
   "metadata": {},
   "source": [
    "코딩 기초 > 코드 처리하기\n",
    "https://school.programmers.co.kr/learn/courses/30/lessons/181932"
   ]
  },
  {
   "cell_type": "code",
   "execution_count": 18,
   "metadata": {},
   "outputs": [
    {
     "data": {
      "text/plain": [
       "'acbac'"
      ]
     },
     "execution_count": 18,
     "metadata": {},
     "output_type": "execute_result"
    }
   ],
   "source": [
    "def solution(code):\n",
    "    answer = \"\"\n",
    "    mode = 0\n",
    "    for i in range(len(code)):\n",
    "        if code[i] == '1':\n",
    "            if mode == 0: mode = 1\n",
    "            else: mode = 0\n",
    "            \n",
    "        elif mode == 0 and i % 2 == 0:\n",
    "            answer += code[i]\n",
    "\n",
    "        elif mode == 1 and i % 2 != 0:\n",
    "            answer += code[i]\n",
    "\n",
    "    if answer == '':\n",
    "        return \"EMPTY\"\n",
    "    return answer\n",
    "\n",
    "solution(\"abc1abc1abc\")"
   ]
  },
  {
   "cell_type": "code",
   "execution_count": 19,
   "metadata": {},
   "outputs": [
    {
     "data": {
      "text/plain": [
       "'acbac'"
      ]
     },
     "execution_count": 19,
     "metadata": {},
     "output_type": "execute_result"
    }
   ],
   "source": [
    "def solution(code):\n",
    "    return \"\".join(code.split(\"1\"))[::2] or \"EMPTY\"\n",
    "\n",
    "solution(\"abc1abc1abc\")"
   ]
  },
  {
   "cell_type": "code",
   "execution_count": null,
   "metadata": {},
   "outputs": [],
   "source": [
    "def solution(code):\n",
    "    answer = \"\"\n",
    "\n",
    "    mode = 0\n",
    "    for i in range(len(code)):\n",
    "        if code[i] == \"1\":\n",
    "            mode ^= 1\n",
    "        else:\n",
    "            if i % 2 == mode:\n",
    "                answer += code[i]\n",
    "\n",
    "    return answer if answer else \"EMPTY\""
   ]
  }
 ],
 "metadata": {
  "kernelspec": {
   "display_name": "Python 3",
   "language": "python",
   "name": "python3"
  },
  "language_info": {
   "codemirror_mode": {
    "name": "ipython",
    "version": 3
   },
   "file_extension": ".py",
   "mimetype": "text/x-python",
   "name": "python",
   "nbconvert_exporter": "python",
   "pygments_lexer": "ipython3",
   "version": "3.11.3"
  }
 },
 "nbformat": 4,
 "nbformat_minor": 2
}
