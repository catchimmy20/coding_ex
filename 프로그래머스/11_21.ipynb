{
 "cells": [
  {
   "cell_type": "markdown",
   "metadata": {},
   "source": [
    "https://school.programmers.co.kr/learn/courses/30/lessons/181916\n",
    "<br> 코딩 기초 > 주사위 게임3"
   ]
  },
  {
   "cell_type": "code",
   "execution_count": null,
   "metadata": {},
   "outputs": [
    {
     "name": "stdout",
     "output_type": "stream",
     "text": [
      "Counter({2: 4})\n",
      "{4: 2}\n",
      "None\n",
      "Counter({4: 3, 1: 1})\n",
      "{3: 4, 1: 1}\n",
      "None\n",
      "Counter({6: 2, 3: 2})\n",
      "{2: 3}\n",
      "None\n",
      "Counter({2: 2, 5: 1, 6: 1})\n",
      "{2: 2, 1: 6}\n",
      "None\n",
      "Counter({6: 1, 4: 1, 2: 1, 5: 1})\n",
      "{1: 5}\n",
      "None\n"
     ]
    }
   ],
   "source": [
    "# set, Counter 둘다 사용..?\n",
    "from collections import Counter\n",
    "def solution(a, b, c, d):\n",
    "    l = [a, b, c, d]\n",
    "    # s = set(l)\n",
    "    c = Counter(l)\n",
    "    # print(s)\n",
    "    print(c)\n",
    "    # all p => p * 1111\n",
    "    # p*3, q => (10 × p + q)2\n",
    "    # p*2, q*2 => (p + q) × |p - q|\n",
    "    # p*2, q, r => q × r\n",
    "    # 전부 다름 => 제일 작은 수\n",
    "    \n",
    "    # key:value 뒤집기 => v:k 안됨(동일한 key값 존재)\n",
    "    \n",
    "        \n",
    "    \n",
    "print(solution(2, 2, 2, 2))\n",
    "print(solution(4, 1, 4, 4))\n",
    "print(solution(6, 3, 3, 6))\n",
    "print(solution(2, 5, 2, 6))\n",
    "print(solution(6, 4, 2, 5))"
   ]
  },
  {
   "cell_type": "code",
   "execution_count": null,
   "metadata": {},
   "outputs": [],
   "source": []
  }
 ],
 "metadata": {
  "kernelspec": {
   "display_name": "Python 3",
   "language": "python",
   "name": "python3"
  },
  "language_info": {
   "codemirror_mode": {
    "name": "ipython",
    "version": 3
   },
   "file_extension": ".py",
   "mimetype": "text/x-python",
   "name": "python",
   "nbconvert_exporter": "python",
   "pygments_lexer": "ipython3",
   "version": "3.12.1"
  }
 },
 "nbformat": 4,
 "nbformat_minor": 2
}
