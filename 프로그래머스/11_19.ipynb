{
 "cells": [
  {
   "cell_type": "markdown",
   "metadata": {},
   "source": [
    "https://school.programmers.co.kr/learn/courses/30/lessons/181920?language=python3\n",
    "<br> 코딩 기초 > 카운트 다운"
   ]
  },
  {
   "cell_type": "code",
   "execution_count": null,
   "metadata": {},
   "outputs": [],
   "source": [
    "def solution(start_num, end_num):\n",
    "    answer = []\n",
    "    for i in range(start_num, end_num+1):\n",
    "        answer.append(i)\n",
    "    return answer"
   ]
  },
  {
   "cell_type": "code",
   "execution_count": null,
   "metadata": {},
   "outputs": [],
   "source": [
    "# 간단 풀이\n",
    "def solution(start, end):\n",
    "    return list(range(start, end + 1))"
   ]
  },
  {
   "cell_type": "code",
   "execution_count": 1,
   "metadata": {},
   "outputs": [
    {
     "name": "stdout",
     "output_type": "stream",
     "text": [
      "[1, 2, 3, 4, 5, 6, 7, 8, 9, 10]\n"
     ]
    }
   ],
   "source": [
    "print(list(range(1, 11)))"
   ]
  },
  {
   "cell_type": "markdown",
   "metadata": {},
   "source": [
    "https://school.programmers.co.kr/learn/courses/30/lessons/181919\n",
    "<br> 코딩 기초 > 콜라츠 수열"
   ]
  },
  {
   "cell_type": "code",
   "execution_count": null,
   "metadata": {},
   "outputs": [
    {
     "data": {
      "text/plain": [
       "[10, 5, 16, 8, 4, 2, 1]"
      ]
     },
     "execution_count": 21,
     "metadata": {},
     "output_type": "execute_result"
    }
   ],
   "source": [
    "# 재귀로 해결\n",
    "a = []\n",
    "def solution(n):\n",
    "    # 짝수 => x / 2\n",
    "    # 홀수 => 3 * x + 1\n",
    "    global a\n",
    "    if a == []:\n",
    "        a.append(n)\n",
    "    if n == 1:\n",
    "        return a\n",
    "    elif n % 2 == 0:\n",
    "        a.append(n // 2)\n",
    "        return solution(n // 2)\n",
    "    else:\n",
    "        a.append(3 * n + 1)\n",
    "        return solution(3 * n + 1)\n",
    "\n",
    "\n",
    "solution(10)"
   ]
  },
  {
   "cell_type": "code",
   "execution_count": null,
   "metadata": {},
   "outputs": [],
   "source": [
    "# while을 사용한 정석\n",
    "def solution(n):\n",
    "    answer = [n]\n",
    "    while n > 1:\n",
    "        if n % 2 == 0:\n",
    "            n //= 2\n",
    "        else:\n",
    "            n = 3 * n + 1\n",
    "        answer.append(n)\n",
    "    return answer"
   ]
  },
  {
   "cell_type": "code",
   "execution_count": null,
   "metadata": {},
   "outputs": [],
   "source": [
    "# 삼항연산자 사용\n",
    "def solution(n):\n",
    "    answer = [n]\n",
    "    while answer[-1] != 1:\n",
    "        (\n",
    "            answer.append(answer[-1] // 2)\n",
    "            # 짝수일 경우 0\n",
    "            # not 0 -> True \n",
    "            if not answer[-1] % 2\n",
    "            else answer.append(answer[-1] * 3 + 1)\n",
    "        )\n",
    "    return answer"
   ]
  },
  {
   "cell_type": "markdown",
   "metadata": {},
   "source": [
    "https://school.programmers.co.kr/learn/courses/30/lessons/181918\n",
    "<br> 코딩 기초 > 배열 만들기4"
   ]
  },
  {
   "cell_type": "markdown",
   "metadata": {},
   "source": [
    "리스트 삭제 remove, del 헷갈리지 말기"
   ]
  },
  {
   "cell_type": "code",
   "execution_count": 26,
   "metadata": {},
   "outputs": [
    {
     "data": {
      "text/plain": [
       "[1, 2, 3]"
      ]
     },
     "execution_count": 26,
     "metadata": {},
     "output_type": "execute_result"
    }
   ],
   "source": [
    "def solution(arr):\n",
    "    stk = []\n",
    "    i = 0\n",
    "    while i <= len(arr)-1:\n",
    "        if stk == []: \n",
    "            stk.append(arr[i])\n",
    "            i += 1\n",
    "        elif stk != []:\n",
    "            if stk[-1] < arr[i]:\n",
    "                stk.append(arr[i])\n",
    "                i += 1\n",
    "            else:\n",
    "                del stk[-1]\n",
    "    return stk\n",
    "\n",
    "solution([1, 4, 2, 5, 3])"
   ]
  },
  {
   "cell_type": "markdown",
   "metadata": {},
   "source": [
    "문제에서 조건은 결국 두가지일뿐..\n"
   ]
  },
  {
   "cell_type": "code",
   "execution_count": null,
   "metadata": {},
   "outputs": [],
   "source": [
    "def solution(arr):\n",
    "    stk = []\n",
    "    # stk이 비고 안비고는 상관없음 결국\n",
    "    for i in range(len(arr)):\n",
    "        while stk and stk[-1] >= arr[i]:\n",
    "            stk.pop()\n",
    "        stk.append(arr[i])\n",
    "    return stk\n"
   ]
  },
  {
   "cell_type": "markdown",
   "metadata": {},
   "source": [
    "https://school.programmers.co.kr/learn/courses/30/lessons/181922\n",
    "<br>코딩 기초 > 수열과 구간 쿼리 4"
   ]
  },
  {
   "cell_type": "code",
   "execution_count": 33,
   "metadata": {},
   "outputs": [
    {
     "data": {
      "text/plain": [
       "[3, 2, 4, 6, 4]"
      ]
     },
     "execution_count": 33,
     "metadata": {},
     "output_type": "execute_result"
    }
   ],
   "source": [
    "# 0은 모든 수의 배수 \n",
    "# 아래 코드는 k=0일 경우는 고려 안함\n",
    "def solution(arr, queries):\n",
    "    for i in queries:\n",
    "        for j in range(i[0], i[1]+1):\n",
    "            if not j % i[2]:\n",
    "                arr[j] += 1\n",
    "    return arr\n",
    "solution([0, 1, 2, 4, 3], [[0, 4, 1],[0, 3, 2],[0, 3, 3]])"
   ]
  },
  {
   "cell_type": "code",
   "execution_count": null,
   "metadata": {},
   "outputs": [
    {
     "data": {
      "text/plain": [
       "[3, 3, 4, 7, 4]"
      ]
     },
     "execution_count": 38,
     "metadata": {},
     "output_type": "execute_result"
    }
   ],
   "source": [
    "# k=0인 경우 고려\n",
    "def solution(arr, queries):\n",
    "    for i in queries:\n",
    "        for j in range(i[0], i[1]+1):\n",
    "            if i[2] == 0:\n",
    "                arr[j] += 1\n",
    "            elif not j % i[2]:\n",
    "                arr[j] += 1\n",
    "    return arr\n",
    "solution([0, 1, 2, 4, 3], [[0, 4, 1],[0, 3, 0],[0, 3, 3]])"
   ]
  },
  {
   "cell_type": "code",
   "execution_count": null,
   "metadata": {},
   "outputs": [],
   "source": [
    "# 굳이 i의 인덱스로 s, e, k를 표현할 필요가 없음\n",
    "def solution(arr, queries):\n",
    "    for s, e, k in queries:\n",
    "        for i in range(s, e+1):\n",
    "            if i%k == 0:\n",
    "                arr[i] += 1\n",
    "    return arr"
   ]
  }
 ],
 "metadata": {
  "kernelspec": {
   "display_name": "Python 3",
   "language": "python",
   "name": "python3"
  },
  "language_info": {
   "codemirror_mode": {
    "name": "ipython",
    "version": 3
   },
   "file_extension": ".py",
   "mimetype": "text/x-python",
   "name": "python",
   "nbconvert_exporter": "python",
   "pygments_lexer": "ipython3",
   "version": "3.12.1"
  }
 },
 "nbformat": 4,
 "nbformat_minor": 2
}
