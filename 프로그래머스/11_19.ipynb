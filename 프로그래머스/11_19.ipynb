{
 "cells": [
  {
   "cell_type": "markdown",
   "metadata": {},
   "source": [
    "https://school.programmers.co.kr/learn/courses/30/lessons/181920?language=python3\n",
    "<br> 코딩 기초 > 카운트 다운"
   ]
  },
  {
   "cell_type": "code",
   "execution_count": null,
   "metadata": {},
   "outputs": [],
   "source": [
    "def solution(start_num, end_num):\n",
    "    answer = []\n",
    "    for i in range(start_num, end_num+1):\n",
    "        answer.append(i)\n",
    "    return answer"
   ]
  },
  {
   "cell_type": "code",
   "execution_count": null,
   "metadata": {},
   "outputs": [],
   "source": [
    "# 간단 풀이\n",
    "def solution(start, end):\n",
    "    return list(range(start, end + 1))"
   ]
  },
  {
   "cell_type": "code",
   "execution_count": 1,
   "metadata": {},
   "outputs": [
    {
     "name": "stdout",
     "output_type": "stream",
     "text": [
      "[1, 2, 3, 4, 5, 6, 7, 8, 9, 10]\n"
     ]
    }
   ],
   "source": [
    "print(list(range(1, 11)))"
   ]
  },
  {
   "cell_type": "markdown",
   "metadata": {},
   "source": [
    "https://school.programmers.co.kr/learn/courses/30/lessons/181919\n",
    "<br> 코딩 기초 > 콜라츠 수열"
   ]
  },
  {
   "cell_type": "code",
   "execution_count": null,
   "metadata": {},
   "outputs": [
    {
     "data": {
      "text/plain": [
       "[10, 5, 16, 8, 4, 2, 1]"
      ]
     },
     "execution_count": 21,
     "metadata": {},
     "output_type": "execute_result"
    }
   ],
   "source": [
    "# 재귀로 해결\n",
    "a = []\n",
    "def solution(n):\n",
    "    # 짝수 => x / 2\n",
    "    # 홀수 => 3 * x + 1\n",
    "    global a\n",
    "    if a == []:\n",
    "        a.append(n)\n",
    "    if n == 1:\n",
    "        return a\n",
    "    elif n % 2 == 0:\n",
    "        a.append(n // 2)\n",
    "        return solution(n // 2)\n",
    "    else:\n",
    "        a.append(3 * n + 1)\n",
    "        return solution(3 * n + 1)\n",
    "\n",
    "\n",
    "solution(10)"
   ]
  },
  {
   "cell_type": "code",
   "execution_count": null,
   "metadata": {},
   "outputs": [],
   "source": [
    "# while을 사용한 정석\n",
    "def solution(n):\n",
    "    answer = [n]\n",
    "    while n > 1:\n",
    "        if n % 2 == 0:\n",
    "            n //= 2\n",
    "        else:\n",
    "            n = 3 * n + 1\n",
    "        answer.append(n)\n",
    "    return answer"
   ]
  },
  {
   "cell_type": "code",
   "execution_count": null,
   "metadata": {},
   "outputs": [],
   "source": [
    "# 삼항연산자 사용\n",
    "def solution(n):\n",
    "    answer = [n]\n",
    "    while answer[-1] != 1:\n",
    "        (\n",
    "            answer.append(answer[-1] // 2)\n",
    "            if not answer[-1] % 2\n",
    "            else answer.append(answer[-1] * 3 + 1)\n",
    "        )\n",
    "    return answer"
   ]
  }
 ],
 "metadata": {
  "kernelspec": {
   "display_name": "Python 3",
   "language": "python",
   "name": "python3"
  },
  "language_info": {
   "codemirror_mode": {
    "name": "ipython",
    "version": 3
   },
   "file_extension": ".py",
   "mimetype": "text/x-python",
   "name": "python",
   "nbconvert_exporter": "python",
   "pygments_lexer": "ipython3",
   "version": "3.12.1"
  }
 },
 "nbformat": 4,
 "nbformat_minor": 2
}
