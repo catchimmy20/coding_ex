{
 "cells": [
  {
   "cell_type": "markdown",
   "metadata": {},
   "source": [
    "https://school.programmers.co.kr/learn/courses/30/lessons/181925\n",
    "<br>코딩 기초 > 수 조작하기2"
   ]
  },
  {
   "cell_type": "code",
   "execution_count": null,
   "metadata": {},
   "outputs": [
    {
     "data": {
      "text/plain": [
       "'wsdawsdassw'"
      ]
     },
     "execution_count": 6,
     "metadata": {},
     "output_type": "execute_result"
    }
   ],
   "source": [
    "def solution(num):\n",
    "    c = {\"w\": 1, \"s\": -1, \"d\": 10, \"a\": -10}\n",
    "    a = \"\"\n",
    "    for i in range(1, len(num)):\n",
    "        if num[i-1] + c[\"w\"] == num[i]:\n",
    "            a += \"w\"\n",
    "        elif num[i-1] + c[\"s\"] == num[i]:\n",
    "            a += \"s\"\n",
    "        elif num[i-1] + c[\"d\"] == num[i]:\n",
    "            a += \"d\"\n",
    "        elif num[i-1] + c[\"a\"] == num[i]:\n",
    "            a += \"a\"\n",
    "    return a\n",
    "solution([0, 1, 0, 10, 0, 1, 0, 10, 0, -1, -2, -1])\n",
    "# 딕셔너리를 썼지만 활용하지 못함."
   ]
  },
  {
   "cell_type": "code",
   "execution_count": null,
   "metadata": {},
   "outputs": [],
   "source": [
    "def solution(log):\n",
    "    res = \"\"\n",
    "    # 조작을 위한 딕셔너리를 zip으로 생성\n",
    "    # 키: [1, -1, 10, -10]\n",
    "    joystick = dict(zip([1, -1, 10, -10], [\"w\", \"s\", \"d\", \"a\"]))\n",
    "    for i in range(1, len(log)):\n",
    "        # log[i] - log[i - 1]가 1이 나오면 \n",
    "        # joystick[1] = \"w\"이므로 해당 문자 res에 저장됨\n",
    "        res += joystick[log[i] - log[i - 1]]\n",
    "    return res"
   ]
  }
 ],
 "metadata": {
  "kernelspec": {
   "display_name": "Python 3",
   "language": "python",
   "name": "python3"
  },
  "language_info": {
   "codemirror_mode": {
    "name": "ipython",
    "version": 3
   },
   "file_extension": ".py",
   "mimetype": "text/x-python",
   "name": "python",
   "nbconvert_exporter": "python",
   "pygments_lexer": "ipython3",
   "version": "3.11.3"
  }
 },
 "nbformat": 4,
 "nbformat_minor": 2
}
