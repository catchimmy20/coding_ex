{
 "cells": [
  {
   "cell_type": "markdown",
   "metadata": {},
   "source": [
    "### 카카오 2018 공채 3번 \n",
    "\n",
    "https://tech.kakao.com/2017/09/27/kakao-blind-recruitment-round-1/"
   ]
  },
  {
   "cell_type": "code",
   "execution_count": null,
   "metadata": {},
   "outputs": [],
   "source": [
    "도시이름 = \t[“Jeju”, “Pangyo”, “Seoul”, “NewYork”, “LA”, “Jeju”, “Pangyo”, “Seoul”, “NewYork”, “LA”]"
   ]
  },
  {
   "cell_type": "code",
   "execution_count": null,
   "metadata": {},
   "outputs": [],
   "source": [
    "# 캐시 교체 알고리즘은 LRU(Least Recently Used)\n",
    "['Jeju']\n",
    "['Jeju', 'Pangyo', 'Seoul']\n",
    "['Pangyo', 'Seoul', 'NewYork']\n",
    "['Seoul', 'NewYork', 'LA'] # 만약 이 다음에 NewYork이 온다면?\n",
    "['Seoul', 'LA', 'NewYork'] # 만약 이 다음에 NewYork이 온다면?\n",
    "['Seoul', 'LA', 'NewYork'] "
   ]
  },
  {
   "cell_type": "markdown",
   "metadata": {},
   "source": [
    "deque - 양방향으로 넣고 빼기 가능, 순회(rotate)가능\n",
    "\n",
    "https://puleugo.tistory.com/45"
   ]
  },
  {
   "cell_type": "code",
   "execution_count": null,
   "metadata": {},
   "outputs": [],
   "source": [
    "from collections import deque\n",
    "\n",
    "l = [10, 20, 30, 40]\n",
    "d = deque(l) # 양방향리스트\n",
    "d"
   ]
  },
  {
   "cell_type": "code",
   "execution_count": null,
   "metadata": {},
   "outputs": [],
   "source": [
    "# 메서드 살펴보기\n",
    "dir(d)"
   ]
  },
  {
   "cell_type": "markdown",
   "metadata": {},
   "source": [
    "deque 동작 원리"
   ]
  },
  {
   "cell_type": "code",
   "execution_count": 5,
   "metadata": {},
   "outputs": [
    {
     "data": {
      "text/plain": [
       "deque(['', '', 'hello :)'], maxlen=3)"
      ]
     },
     "execution_count": 5,
     "metadata": {},
     "output_type": "execute_result"
    }
   ],
   "source": [
    "from collections import deque\n",
    "l = ['']*3\n",
    "cache = deque(l, maxlen=3) # 양방향리스트, 캐시\n",
    "cache.append('hello :)')\n",
    "cache"
   ]
  },
  {
   "cell_type": "code",
   "execution_count": 6,
   "metadata": {},
   "outputs": [
    {
     "data": {
      "text/plain": [
       "deque(['', 'hello :)', 'hello ^^'], maxlen=3)"
      ]
     },
     "execution_count": 6,
     "metadata": {},
     "output_type": "execute_result"
    }
   ],
   "source": [
    "cache.append('hello ^^')\n",
    "cache"
   ]
  },
  {
   "cell_type": "code",
   "execution_count": 7,
   "metadata": {},
   "outputs": [
    {
     "data": {
      "text/plain": [
       "deque(['hello :)', 'hello ^^', 'hello ^3^'], maxlen=3)"
      ]
     },
     "execution_count": 7,
     "metadata": {},
     "output_type": "execute_result"
    }
   ],
   "source": [
    "cache.append('hello ^3^')\n",
    "cache"
   ]
  },
  {
   "cell_type": "markdown",
   "metadata": {},
   "source": [
    "본 코드"
   ]
  },
  {
   "cell_type": "code",
   "execution_count": 8,
   "metadata": {},
   "outputs": [
    {
     "name": "stdout",
     "output_type": "stream",
     "text": [
      "50\n",
      "21\n"
     ]
    }
   ],
   "source": [
    "from collections import deque\n",
    "\n",
    "def solution(cacheSize, cities):\n",
    "    l = ['']*cacheSize\n",
    "    cache = deque(l, maxlen=cacheSize) # 양방향리스트, 캐시\n",
    "    answer = 0 # 시간\n",
    "    \n",
    "    for city in cities:\n",
    "        city  = city.lower() # 전원 소문자로\n",
    "        \n",
    "        if city in cache: # 캐시 hit(캐시에 존재)\n",
    "            cache.remove(city) # 일단 지워줌\n",
    "            cache.append(city) # 다시 삽입\n",
    "            answer += 1\n",
    "        else: # 캐시 miss \n",
    "            cache.append(city)\n",
    "            answer += 5\n",
    "    return answer\n",
    "\n",
    "testcase = [\n",
    "    [3, ['Jeju', 'Pangyo', 'Seoul', 'NewYork', 'LA', 'Jeju', 'Pangyo', 'Seoul', 'NewYork', 'LA']],\n",
    "    [3, ['Jeju', 'Pangyo', 'Seoul', 'Jeju', 'Pangyo', 'Seoul', 'Jeju', 'Pangyo', 'Seoul']]\n",
    "]\n",
    "\n",
    "for case in testcase:\n",
    "    print(solution(case[0], case[1])) # 시간 출력"
   ]
  },
  {
   "cell_type": "code",
   "execution_count": null,
   "metadata": {},
   "outputs": [],
   "source": []
  }
 ],
 "metadata": {
  "kernelspec": {
   "display_name": "Python 3",
   "language": "python",
   "name": "python3"
  },
  "language_info": {
   "codemirror_mode": {
    "name": "ipython",
    "version": 3
   },
   "file_extension": ".py",
   "mimetype": "text/x-python",
   "name": "python",
   "nbconvert_exporter": "python",
   "pygments_lexer": "ipython3",
   "version": "3.11.3"
  }
 },
 "nbformat": 4,
 "nbformat_minor": 2
}
