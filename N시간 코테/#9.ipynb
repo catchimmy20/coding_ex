{
 "cells": [
  {
   "cell_type": "markdown",
   "metadata": {},
   "source": [
    "### 2019 카카오 코딩 테스트 2번\n",
    "\n",
    "https://tech.kakao.com/2018/09/21/kakao-blind-recruitment-for2019-round-1/"
   ]
  },
  {
   "cell_type": "code",
   "execution_count": 16,
   "metadata": {},
   "outputs": [
    {
     "name": "stdout",
     "output_type": "stream",
     "text": [
      "[4, 1, 2, 3]\n"
     ]
    }
   ],
   "source": [
    "from collections import Counter\n",
    "\n",
    "def solution(스테이지수, 스테이지):\n",
    "    전체인원 = len(스테이지)\n",
    "    스테이지에_머물고_있는_사람 = Counter(스테이지)\n",
    "    answer = {} # 딕셔너리는 3.6부터 순서있음.\n",
    "    \n",
    "    for i in range(1, 스테이지수+1):\n",
    "        answer[i] = 0\n",
    "        \n",
    "    for i in answer:\n",
    "        # 분자나 분모중에 0이 있을 때 오류 유발 가능\n",
    "        if 스테이지에_머물고_있는_사람[i] != 0 and 전체인원 != 0:\n",
    "            answer[i] = 스테이지에_머물고_있는_사람[i]/전체인원\n",
    "        else:\n",
    "            answer[i] = 0\n",
    "        전체인원 -= 스테이지에_머물고_있는_사람[i]\n",
    "    return sorted(answer, key=lambda x:answer[x], reverse=True)\n",
    "\n",
    "# n, stages = 5, [2, 1, 2, 6, 2, 4, 3, 3]\n",
    "n, stages = 4, [4,4,4,4,4]\n",
    "print(solution(n, stages))\n"
   ]
  },
  {
   "cell_type": "code",
   "execution_count": 11,
   "metadata": {},
   "outputs": [
    {
     "data": {
      "text/plain": [
       "[[0, 1, 2], [3, 3, 3], [4, 1, 6]]"
      ]
     },
     "execution_count": 11,
     "metadata": {},
     "output_type": "execute_result"
    }
   ],
   "source": [
    "# sorted의 key값으로 정렬\n",
    "# 각 배열의 맨 첫번째를 기준으로 정렬 0,4,3\n",
    "l = sorted(([0,1,2], [4,1,6], [3,3,3]), key=lambda x:x[0]) # x가 입력되면 x의 0번째 기준으로 정렬\n",
    "l"
   ]
  },
  {
   "cell_type": "code",
   "execution_count": 12,
   "metadata": {},
   "outputs": [
    {
     "data": {
      "text/plain": [
       "[[0, 1, 2], [4, 1, 6], [3, 3, 3]]"
      ]
     },
     "execution_count": 12,
     "metadata": {},
     "output_type": "execute_result"
    }
   ],
   "source": [
    "l = sorted(([0,1,2], [4,1,6], [3,3,3]), key=lambda x:x[1]) # x가 입력되면 x의 0번째 기준으로 정렬\n",
    "l"
   ]
  },
  {
   "cell_type": "code",
   "execution_count": 13,
   "metadata": {},
   "outputs": [
    {
     "data": {
      "text/plain": [
       "[[0, 1, 2], [3, 3, 3], [4, 1, 6]]"
      ]
     },
     "execution_count": 13,
     "metadata": {},
     "output_type": "execute_result"
    }
   ],
   "source": [
    "l = sorted(([0,1,2], [4,1,6], [3,3,3]), key=lambda x:x[2]) # x가 입력되면 x의 0번째 기준으로 정렬\n",
    "l"
   ]
  },
  {
   "cell_type": "code",
   "execution_count": null,
   "metadata": {},
   "outputs": [],
   "source": []
  }
 ],
 "metadata": {
  "kernelspec": {
   "display_name": "Python 3",
   "language": "python",
   "name": "python3"
  },
  "language_info": {
   "codemirror_mode": {
    "name": "ipython",
    "version": 3
   },
   "file_extension": ".py",
   "mimetype": "text/x-python",
   "name": "python",
   "nbconvert_exporter": "python",
   "pygments_lexer": "ipython3",
   "version": "3.11.3"
  }
 },
 "nbformat": 4,
 "nbformat_minor": 2
}
