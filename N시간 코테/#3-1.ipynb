{
 "cells": [
  {
   "cell_type": "markdown",
   "metadata": {},
   "source": [
    "# 3번 카카오 2018 공채 문제 1번\n",
    "https://gomguard.tistory.com/106"
   ]
  },
  {
   "cell_type": "code",
   "execution_count": 1,
   "metadata": {},
   "outputs": [
    {
     "data": {
      "text/plain": [
       "'0b1001'"
      ]
     },
     "execution_count": 1,
     "metadata": {},
     "output_type": "execute_result"
    }
   ],
   "source": [
    "# 이진연산\n",
    "bin(9)"
   ]
  },
  {
   "cell_type": "code",
   "execution_count": 2,
   "metadata": {},
   "outputs": [
    {
     "data": {
      "text/plain": [
       "'0b11110'"
      ]
     },
     "execution_count": 2,
     "metadata": {},
     "output_type": "execute_result"
    }
   ],
   "source": [
    "bin(30)"
   ]
  },
  {
   "cell_type": "code",
   "execution_count": null,
   "metadata": {},
   "outputs": [],
   "source": [
    "# or연산\n",
    "\n",
    "#    1001\n",
    "# + 11110 \n",
    "# --------\n",
    "#   11111\n"
   ]
  },
  {
   "cell_type": "code",
   "execution_count": 6,
   "metadata": {},
   "outputs": [
    {
     "data": {
      "text/plain": [
       "'#####'"
      ]
     },
     "execution_count": 6,
     "metadata": {},
     "output_type": "execute_result"
    }
   ],
   "source": [
    "bin(9 | 30)[2:].replace('1', '#').replace('0', ' ')"
   ]
  },
  {
   "cell_type": "code",
   "execution_count": 10,
   "metadata": {},
   "outputs": [
    {
     "name": "stdout",
     "output_type": "stream",
     "text": [
      "(9, 30)\n",
      "(20, 1)\n",
      "(28, 21)\n",
      "(18, 17)\n",
      "(11, 28)\n"
     ]
    }
   ],
   "source": [
    "arr1 = \t[9, 20, 28, 18, 11]\n",
    "arr2 = \t[30, 1, 21, 17, 28]\n",
    "n = 5\n",
    "\n",
    "for i in zip(arr1, arr2):\n",
    "    print(i)"
   ]
  },
  {
   "cell_type": "code",
   "execution_count": 11,
   "metadata": {},
   "outputs": [
    {
     "name": "stdout",
     "output_type": "stream",
     "text": [
      "9 30\n",
      "20 1\n",
      "28 21\n",
      "18 17\n",
      "11 28\n"
     ]
    }
   ],
   "source": [
    "# unpacking\n",
    "for i,j in zip(arr1, arr2):\n",
    "    print(i, j)"
   ]
  },
  {
   "cell_type": "code",
   "execution_count": 12,
   "metadata": {},
   "outputs": [
    {
     "name": "stdout",
     "output_type": "stream",
     "text": [
      "#####\n",
      "# # #\n",
      "### #\n",
      "#  ##\n",
      "#####\n"
     ]
    }
   ],
   "source": [
    "for i, j in zip(arr1, arr2):\n",
    "    print(bin(i | j)[2:].replace('1', '#').replace('0', ' '))"
   ]
  },
  {
   "cell_type": "code",
   "execution_count": null,
   "metadata": {},
   "outputs": [],
   "source": [
    "\"\"\"\n",
    "3, 5라면? -> 자릿수 문제가 발생. \n",
    " 11\n",
    "101\n",
    "----\n",
    "111\n",
    "\n",
    "출력 결과: 11100이 됨.\n",
    "00111로 만들어야 함 -> zfill()사용\n",
    "\n",
    "https://codingpractices.tistory.com/entry/Python%EC%88%AB%EC%9E%90-%EB%AC%B8%EC%9E%90%EC%97%B4%EC%97%90-0-%EB%98%90%EB%8A%94-%EB%8B%A4%EB%A5%B8%EB%AC%B8%EC%9E%90-%EC%B1%84%EC%9A%B0%EA%B8%B0-zfill-rjust-ljust-center\n",
    "\"\"\""
   ]
  },
  {
   "cell_type": "code",
   "execution_count": 13,
   "metadata": {},
   "outputs": [
    {
     "name": "stdout",
     "output_type": "stream",
     "text": [
      "###\n",
      "# # #\n",
      "### #\n",
      "#  ##\n",
      "#####\n"
     ]
    }
   ],
   "source": [
    "arr1 = \t[3, 20, 28, 18, 11]\n",
    "arr2 = \t[5, 1, 21, 17, 28]\n",
    "\n",
    "for i, j in zip(arr1, arr2):\n",
    "    print(bin(i | j)[2:].replace('1', '#').replace('0', ' '))"
   ]
  },
  {
   "cell_type": "code",
   "execution_count": 16,
   "metadata": {},
   "outputs": [
    {
     "name": "stdout",
     "output_type": "stream",
     "text": [
      "00111\n",
      "10101\n",
      "11101\n",
      "10011\n",
      "11111\n"
     ]
    }
   ],
   "source": [
    "# 남은 자릿수를 0으로 채움\n",
    "\n",
    "arr1 = \t[3, 20, 28, 18, 11]\n",
    "arr2 = \t[5, 1, 21, 17, 28]\n",
    "n = 5\n",
    "\n",
    "for i, j in zip(arr1, arr2):\n",
    "    print(bin(i | j)[2:].zfill(n))"
   ]
  },
  {
   "cell_type": "code",
   "execution_count": 17,
   "metadata": {},
   "outputs": [
    {
     "name": "stdout",
     "output_type": "stream",
     "text": [
      "  ###\n",
      "# # #\n",
      "### #\n",
      "#  ##\n",
      "#####\n"
     ]
    }
   ],
   "source": [
    "# 1, 0 -> #, ' '으로 출력\n",
    "\n",
    "arr1 = \t[3, 20, 28, 18, 11]\n",
    "arr2 = \t[5, 1, 21, 17, 28]\n",
    "n = 5\n",
    "\n",
    "for i, j in zip(arr1, arr2):\n",
    "    print(bin(i | j)[2:].zfill(n).replace('1', '#').replace('0', ' '))"
   ]
  },
  {
   "cell_type": "markdown",
   "metadata": {},
   "source": [
    "## 프로그래머스 작성방식"
   ]
  },
  {
   "cell_type": "code",
   "execution_count": 18,
   "metadata": {},
   "outputs": [
    {
     "name": "stdout",
     "output_type": "stream",
     "text": [
      "['#####', '# # #', '### #', '#  ##', '#####']\n",
      "['######', '###  #', '##  ##', ' #### ', ' #####', '### # ']\n"
     ]
    }
   ],
   "source": [
    "def solution(n, arr1, arr2):\n",
    "    answer = []\n",
    "    for i, j in zip(arr1, arr2):\n",
    "        answer.append(bin(i | j)[2:].zfill(n).replace('1', '#').replace('0', ' '))\n",
    "    return answer\n",
    "\n",
    "testcase = [(5, [9, 20, 28, 18, 11], [30, 1, 21, 17, 28]),\n",
    "            (6, [46, 33, 33 ,22, 31, 50], [27 ,56, 19, 14, 14, 10])]\n",
    "\n",
    "for i, j, k in testcase:\n",
    "    print(solution(i, j, k))"
   ]
  },
  {
   "cell_type": "code",
   "execution_count": null,
   "metadata": {},
   "outputs": [],
   "source": []
  }
 ],
 "metadata": {
  "kernelspec": {
   "display_name": "Python 3",
   "language": "python",
   "name": "python3"
  },
  "language_info": {
   "codemirror_mode": {
    "name": "ipython",
    "version": 3
   },
   "file_extension": ".py",
   "mimetype": "text/x-python",
   "name": "python",
   "nbconvert_exporter": "python",
   "pygments_lexer": "ipython3",
   "version": "3.11.3"
  }
 },
 "nbformat": 4,
 "nbformat_minor": 2
}
