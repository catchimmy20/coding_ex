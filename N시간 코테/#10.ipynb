{
 "cells": [
  {
   "cell_type": "markdown",
   "metadata": {},
   "source": [
    "### 2019 카카오 코딩테스트 3번\n",
    "\n",
    "https://tech.kakao.com/2018/09/21/kakao-blind-recruitment-for2019-round-1/"
   ]
  },
  {
   "cell_type": "code",
   "execution_count": 17,
   "metadata": {},
   "outputs": [
    {
     "data": {
      "text/plain": [
       "[('a', 'b', 'c'),\n",
       " ('a', 'b', 'd'),\n",
       " ('a', 'b', 'e'),\n",
       " ('a', 'c', 'd'),\n",
       " ('a', 'c', 'e'),\n",
       " ('a', 'd', 'e'),\n",
       " ('b', 'c', 'd'),\n",
       " ('b', 'c', 'e'),\n",
       " ('b', 'd', 'e'),\n",
       " ('c', 'd', 'e')]"
      ]
     },
     "execution_count": 17,
     "metadata": {},
     "output_type": "execute_result"
    }
   ],
   "source": [
    "from itertools import combinations\n",
    "\n",
    "# 조합\n",
    "list(combinations('abcde', 1))\n",
    "list(combinations('abcde', 2))\n",
    "list(combinations('abcde', 3))"
   ]
  },
  {
   "cell_type": "code",
   "execution_count": 18,
   "metadata": {},
   "outputs": [],
   "source": [
    "l = [['100','ryan','music','2'],['200','apeach','math','2'],['300','tube','computer','3'],['400','con','computer','4'],['500','muzi','music','3'],['600','apeach','music','2']]"
   ]
  },
  {
   "cell_type": "code",
   "execution_count": 19,
   "metadata": {},
   "outputs": [
    {
     "data": {
      "text/html": [
       "<div>\n",
       "<style scoped>\n",
       "    .dataframe tbody tr th:only-of-type {\n",
       "        vertical-align: middle;\n",
       "    }\n",
       "\n",
       "    .dataframe tbody tr th {\n",
       "        vertical-align: top;\n",
       "    }\n",
       "\n",
       "    .dataframe thead th {\n",
       "        text-align: right;\n",
       "    }\n",
       "</style>\n",
       "<table border=\"1\" class=\"dataframe\">\n",
       "  <thead>\n",
       "    <tr style=\"text-align: right;\">\n",
       "      <th></th>\n",
       "      <th>0</th>\n",
       "      <th>1</th>\n",
       "      <th>2</th>\n",
       "      <th>3</th>\n",
       "    </tr>\n",
       "  </thead>\n",
       "  <tbody>\n",
       "    <tr>\n",
       "      <th>0</th>\n",
       "      <td>100</td>\n",
       "      <td>ryan</td>\n",
       "      <td>music</td>\n",
       "      <td>2</td>\n",
       "    </tr>\n",
       "    <tr>\n",
       "      <th>1</th>\n",
       "      <td>200</td>\n",
       "      <td>apeach</td>\n",
       "      <td>math</td>\n",
       "      <td>2</td>\n",
       "    </tr>\n",
       "    <tr>\n",
       "      <th>2</th>\n",
       "      <td>300</td>\n",
       "      <td>tube</td>\n",
       "      <td>computer</td>\n",
       "      <td>3</td>\n",
       "    </tr>\n",
       "    <tr>\n",
       "      <th>3</th>\n",
       "      <td>400</td>\n",
       "      <td>con</td>\n",
       "      <td>computer</td>\n",
       "      <td>4</td>\n",
       "    </tr>\n",
       "    <tr>\n",
       "      <th>4</th>\n",
       "      <td>500</td>\n",
       "      <td>muzi</td>\n",
       "      <td>music</td>\n",
       "      <td>3</td>\n",
       "    </tr>\n",
       "    <tr>\n",
       "      <th>5</th>\n",
       "      <td>600</td>\n",
       "      <td>apeach</td>\n",
       "      <td>music</td>\n",
       "      <td>2</td>\n",
       "    </tr>\n",
       "  </tbody>\n",
       "</table>\n",
       "</div>"
      ],
      "text/plain": [
       "     0       1         2  3\n",
       "0  100    ryan     music  2\n",
       "1  200  apeach      math  2\n",
       "2  300    tube  computer  3\n",
       "3  400     con  computer  4\n",
       "4  500    muzi     music  3\n",
       "5  600  apeach     music  2"
      ]
     },
     "execution_count": 19,
     "metadata": {},
     "output_type": "execute_result"
    }
   ],
   "source": [
    "import pandas as pd\n",
    "\n",
    "data = pd.DataFrame(l)\n",
    "data"
   ]
  },
  {
   "cell_type": "markdown",
   "metadata": {},
   "source": [
    "컬럼 1은 후보키가 될 수 없지만 0, 1을 조합하면 가능. BUT, 최소성은 보장안되기에 조합중에서 0을 포함한 것은 빼야됨."
   ]
  },
  {
   "cell_type": "code",
   "execution_count": 20,
   "metadata": {},
   "outputs": [
    {
     "data": {
      "text/plain": [
       "False"
      ]
     },
     "execution_count": 20,
     "metadata": {},
     "output_type": "execute_result"
    }
   ],
   "source": [
    "data[1].value_counts()\n",
    "len(data[1]) == len(data[1].value_counts())"
   ]
  },
  {
   "cell_type": "code",
   "execution_count": 21,
   "metadata": {},
   "outputs": [
    {
     "data": {
      "text/plain": [
       "0      ryan\n",
       "1    apeach\n",
       "2      tube\n",
       "3       con\n",
       "4      muzi\n",
       "5    apeach\n",
       "Name: 1, dtype: object"
      ]
     },
     "execution_count": 21,
     "metadata": {},
     "output_type": "execute_result"
    }
   ],
   "source": [
    "data[1]"
   ]
  },
  {
   "cell_type": "code",
   "execution_count": 22,
   "metadata": {},
   "outputs": [
    {
     "data": {
      "text/plain": [
       "'\\n컬럼의 조합을 전부 만듦\\n각각의 컬럼들에서 유일성을 보장하는지 판별\\n그걸 새로운 리스트에 넣음\\n마지막으로 그 리스트에서 중복이 되는 것은 지워줌\\n'"
      ]
     },
     "execution_count": 22,
     "metadata": {},
     "output_type": "execute_result"
    }
   ],
   "source": [
    "\"\"\"\n",
    "컬럼의 조합을 전부 만듦\n",
    "각각의 컬럼들에서 유일성을 보장하는지 판별\n",
    "그걸 새로운 리스트에 넣음\n",
    "마지막으로 그 리스트에서 중복이 되는 것은 지워줌\n",
    "\"\"\""
   ]
  },
  {
   "cell_type": "code",
   "execution_count": 23,
   "metadata": {},
   "outputs": [
    {
     "data": {
      "text/html": [
       "<div>\n",
       "<style scoped>\n",
       "    .dataframe tbody tr th:only-of-type {\n",
       "        vertical-align: middle;\n",
       "    }\n",
       "\n",
       "    .dataframe tbody tr th {\n",
       "        vertical-align: top;\n",
       "    }\n",
       "\n",
       "    .dataframe thead th {\n",
       "        text-align: right;\n",
       "    }\n",
       "</style>\n",
       "<table border=\"1\" class=\"dataframe\">\n",
       "  <thead>\n",
       "    <tr style=\"text-align: right;\">\n",
       "      <th></th>\n",
       "      <th>data[0]</th>\n",
       "      <th>data[1]</th>\n",
       "      <th>data[2]</th>\n",
       "      <th>data[3]</th>\n",
       "      <th>data[0] + data[1]</th>\n",
       "      <th>data[0] + data[2]</th>\n",
       "      <th>data[0] + data[3]</th>\n",
       "      <th>data[1] + data[2]</th>\n",
       "      <th>data[1] + data[3]</th>\n",
       "      <th>data[2] + data[3]</th>\n",
       "      <th>data[0] + data[1] + data[2]</th>\n",
       "      <th>data[0] + data[1] + data[3]</th>\n",
       "      <th>data[0] + data[2] + data[3]</th>\n",
       "      <th>data[1] + data[2] + data[3]</th>\n",
       "      <th>data[0] + data[1] + data[2] + data[3]</th>\n",
       "    </tr>\n",
       "  </thead>\n",
       "  <tbody>\n",
       "    <tr>\n",
       "      <th>0</th>\n",
       "      <td>100</td>\n",
       "      <td>ryan</td>\n",
       "      <td>music</td>\n",
       "      <td>2</td>\n",
       "      <td>100ryan</td>\n",
       "      <td>100music</td>\n",
       "      <td>1002</td>\n",
       "      <td>ryanmusic</td>\n",
       "      <td>ryan2</td>\n",
       "      <td>music2</td>\n",
       "      <td>100ryanmusic</td>\n",
       "      <td>100ryan2</td>\n",
       "      <td>100music2</td>\n",
       "      <td>ryanmusic2</td>\n",
       "      <td>100ryanmusic2</td>\n",
       "    </tr>\n",
       "    <tr>\n",
       "      <th>1</th>\n",
       "      <td>200</td>\n",
       "      <td>apeach</td>\n",
       "      <td>math</td>\n",
       "      <td>2</td>\n",
       "      <td>200apeach</td>\n",
       "      <td>200math</td>\n",
       "      <td>2002</td>\n",
       "      <td>apeachmath</td>\n",
       "      <td>apeach2</td>\n",
       "      <td>math2</td>\n",
       "      <td>200apeachmath</td>\n",
       "      <td>200apeach2</td>\n",
       "      <td>200math2</td>\n",
       "      <td>apeachmath2</td>\n",
       "      <td>200apeachmath2</td>\n",
       "    </tr>\n",
       "    <tr>\n",
       "      <th>2</th>\n",
       "      <td>300</td>\n",
       "      <td>tube</td>\n",
       "      <td>computer</td>\n",
       "      <td>3</td>\n",
       "      <td>300tube</td>\n",
       "      <td>300computer</td>\n",
       "      <td>3003</td>\n",
       "      <td>tubecomputer</td>\n",
       "      <td>tube3</td>\n",
       "      <td>computer3</td>\n",
       "      <td>300tubecomputer</td>\n",
       "      <td>300tube3</td>\n",
       "      <td>300computer3</td>\n",
       "      <td>tubecomputer3</td>\n",
       "      <td>300tubecomputer3</td>\n",
       "    </tr>\n",
       "    <tr>\n",
       "      <th>3</th>\n",
       "      <td>400</td>\n",
       "      <td>con</td>\n",
       "      <td>computer</td>\n",
       "      <td>4</td>\n",
       "      <td>400con</td>\n",
       "      <td>400computer</td>\n",
       "      <td>4004</td>\n",
       "      <td>concomputer</td>\n",
       "      <td>con4</td>\n",
       "      <td>computer4</td>\n",
       "      <td>400concomputer</td>\n",
       "      <td>400con4</td>\n",
       "      <td>400computer4</td>\n",
       "      <td>concomputer4</td>\n",
       "      <td>400concomputer4</td>\n",
       "    </tr>\n",
       "    <tr>\n",
       "      <th>4</th>\n",
       "      <td>500</td>\n",
       "      <td>muzi</td>\n",
       "      <td>music</td>\n",
       "      <td>3</td>\n",
       "      <td>500muzi</td>\n",
       "      <td>500music</td>\n",
       "      <td>5003</td>\n",
       "      <td>muzimusic</td>\n",
       "      <td>muzi3</td>\n",
       "      <td>music3</td>\n",
       "      <td>500muzimusic</td>\n",
       "      <td>500muzi3</td>\n",
       "      <td>500music3</td>\n",
       "      <td>muzimusic3</td>\n",
       "      <td>500muzimusic3</td>\n",
       "    </tr>\n",
       "    <tr>\n",
       "      <th>5</th>\n",
       "      <td>600</td>\n",
       "      <td>apeach</td>\n",
       "      <td>music</td>\n",
       "      <td>2</td>\n",
       "      <td>600apeach</td>\n",
       "      <td>600music</td>\n",
       "      <td>6002</td>\n",
       "      <td>apeachmusic</td>\n",
       "      <td>apeach2</td>\n",
       "      <td>music2</td>\n",
       "      <td>600apeachmusic</td>\n",
       "      <td>600apeach2</td>\n",
       "      <td>600music2</td>\n",
       "      <td>apeachmusic2</td>\n",
       "      <td>600apeachmusic2</td>\n",
       "    </tr>\n",
       "  </tbody>\n",
       "</table>\n",
       "</div>"
      ],
      "text/plain": [
       "  data[0] data[1]   data[2] data[3] data[0] + data[1] data[0] + data[2]   \n",
       "0     100    ryan     music       2           100ryan          100music  \\\n",
       "1     200  apeach      math       2         200apeach           200math   \n",
       "2     300    tube  computer       3           300tube       300computer   \n",
       "3     400     con  computer       4            400con       400computer   \n",
       "4     500    muzi     music       3           500muzi          500music   \n",
       "5     600  apeach     music       2         600apeach          600music   \n",
       "\n",
       "  data[0] + data[3] data[1] + data[2] data[1] + data[3] data[2] + data[3]   \n",
       "0              1002         ryanmusic             ryan2            music2  \\\n",
       "1              2002        apeachmath           apeach2             math2   \n",
       "2              3003      tubecomputer             tube3         computer3   \n",
       "3              4004       concomputer              con4         computer4   \n",
       "4              5003         muzimusic             muzi3            music3   \n",
       "5              6002       apeachmusic           apeach2            music2   \n",
       "\n",
       "  data[0] + data[1] + data[2] data[0] + data[1] + data[3]   \n",
       "0                100ryanmusic                    100ryan2  \\\n",
       "1               200apeachmath                  200apeach2   \n",
       "2             300tubecomputer                    300tube3   \n",
       "3              400concomputer                     400con4   \n",
       "4                500muzimusic                    500muzi3   \n",
       "5              600apeachmusic                  600apeach2   \n",
       "\n",
       "  data[0] + data[2] + data[3] data[1] + data[2] + data[3]   \n",
       "0                   100music2                  ryanmusic2  \\\n",
       "1                    200math2                 apeachmath2   \n",
       "2                300computer3               tubecomputer3   \n",
       "3                400computer4                concomputer4   \n",
       "4                   500music3                  muzimusic3   \n",
       "5                   600music2                apeachmusic2   \n",
       "\n",
       "  data[0] + data[1] + data[2] + data[3]  \n",
       "0                         100ryanmusic2  \n",
       "1                        200apeachmath2  \n",
       "2                      300tubecomputer3  \n",
       "3                       400concomputer4  \n",
       "4                         500muzimusic3  \n",
       "5                       600apeachmusic2  "
      ]
     },
     "execution_count": 23,
     "metadata": {},
     "output_type": "execute_result"
    }
   ],
   "source": [
    "import pandas as pd\n",
    "from itertools import combinations\n",
    "\n",
    "l = [['100','ryan','music','2'],\n",
    "     ['200','apeach','math','2'],\n",
    "     ['300','tube','computer','3'],\n",
    "     ['400','con','computer','4'],\n",
    "     ['500','muzi','music','3'],\n",
    "     ['600','apeach','music','2']]\n",
    "\n",
    "colname = range(len(l[0]))\n",
    "\n",
    "data = pd.DataFrame(l)\n",
    "data_ = pd.DataFrame() # 조합한 결과물을 저장할 빈 데이터프레임\n",
    "\n",
    "유일성만족리스트 = []\n",
    "모든이름의조합 = []\n",
    "\n",
    "for 조합수 in range(1, len(colname)+1):\n",
    "    컬럼이름의조합 = combinations(colname, 조합수)\n",
    "    모든이름의조합.append(list(컬럼이름의조합))\n",
    "\n",
    "for 이름조합 in 모든이름의조합:\n",
    "    for 컬럼명 in 이름조합:\n",
    "        # print(컬럼명)\n",
    "        if len(컬럼명) == 1:\n",
    "            data_[f'data[{컬럼명[0]}]'] = data[컬럼명[0]]\n",
    "        elif len(컬럼명) == 2:\n",
    "            data_[f'data[{컬럼명[0]}] + data[{컬럼명[1]}]'] = data[컬럼명[0]] + data[컬럼명[1]]\n",
    "        elif len(컬럼명) == 3:\n",
    "            data_[f'data[{컬럼명[0]}] + data[{컬럼명[1]}] + data[{컬럼명[2]}]'] = data[컬럼명[0]] + data[컬럼명[1]] + data[컬럼명[2]]\n",
    "        elif len(컬럼명) == 4:\n",
    "            data_[f'data[{컬럼명[0]}] + data[{컬럼명[1]}] + data[{컬럼명[2]}] + data[{컬럼명[3]}]'] = data[컬럼명[0]] + data[컬럼명[1]] + data[컬럼명[2]] + data[컬럼명[3]]\n",
    "\n",
    "data_"
   ]
  },
  {
   "cell_type": "code",
   "execution_count": 24,
   "metadata": {},
   "outputs": [
    {
     "data": {
      "text/plain": [
       "Index(['data[0]', 'data[1]', 'data[2]', 'data[3]', 'data[0] + data[1]',\n",
       "       'data[0] + data[2]', 'data[0] + data[3]', 'data[1] + data[2]',\n",
       "       'data[1] + data[3]', 'data[2] + data[3]', 'data[0] + data[1] + data[2]',\n",
       "       'data[0] + data[1] + data[3]', 'data[0] + data[2] + data[3]',\n",
       "       'data[1] + data[2] + data[3]', 'data[0] + data[1] + data[2] + data[3]'],\n",
       "      dtype='object')"
      ]
     },
     "execution_count": 24,
     "metadata": {},
     "output_type": "execute_result"
    }
   ],
   "source": [
    "data_.columns"
   ]
  },
  {
   "cell_type": "code",
   "execution_count": 25,
   "metadata": {},
   "outputs": [
    {
     "data": {
      "text/plain": [
       "['data[0]',\n",
       " 'data[0] + data[1]',\n",
       " 'data[0] + data[2]',\n",
       " 'data[0] + data[3]',\n",
       " 'data[1] + data[2]',\n",
       " 'data[0] + data[1] + data[2]',\n",
       " 'data[0] + data[1] + data[3]',\n",
       " 'data[0] + data[2] + data[3]',\n",
       " 'data[1] + data[2] + data[3]',\n",
       " 'data[0] + data[1] + data[2] + data[3]']"
      ]
     },
     "execution_count": 25,
     "metadata": {},
     "output_type": "execute_result"
    }
   ],
   "source": [
    "인덱스 = data_.columns\n",
    "유일성만족리스트  = []\n",
    "\n",
    "for i in 인덱스:\n",
    "    if len(data_[i]) == len(data_[i].value_counts()): # 유일한지 아닌지 판별\n",
    "        유일성만족리스트.append(i)\n",
    "        \n",
    "유일성만족리스트"
   ]
  },
  {
   "cell_type": "code",
   "execution_count": 26,
   "metadata": {},
   "outputs": [
    {
     "name": "stdout",
     "output_type": "stream",
     "text": [
      "True\n"
     ]
    }
   ],
   "source": [
    "print('hello' in 'hello world')"
   ]
  },
  {
   "cell_type": "code",
   "execution_count": 27,
   "metadata": {},
   "outputs": [
    {
     "name": "stdout",
     "output_type": "stream",
     "text": [
      "0 1\n",
      "data[0] data[0] + data[1]\n",
      "0 2\n",
      "data[0] data[0] + data[2]\n",
      "0 3\n",
      "data[0] data[0] + data[3]\n",
      "0 4\n",
      "data[0] data[1] + data[2]\n",
      "0 5\n",
      "data[0] data[0] + data[1] + data[2]\n",
      "0 6\n",
      "data[0] data[0] + data[1] + data[3]\n",
      "0 7\n",
      "data[0] data[0] + data[2] + data[3]\n",
      "0 8\n",
      "data[0] data[1] + data[2] + data[3]\n",
      "0 9\n",
      "data[0] data[0] + data[1] + data[2] + data[3]\n",
      "1 2\n",
      "! !\n",
      "1 3\n",
      "! !\n",
      "1 4\n",
      "! data[1] + data[2]\n",
      "1 5\n",
      "! !\n",
      "1 6\n",
      "! !\n",
      "1 7\n",
      "! !\n",
      "1 8\n",
      "! data[1] + data[2] + data[3]\n",
      "1 9\n",
      "! !\n",
      "2 3\n",
      "! !\n",
      "2 4\n",
      "! data[1] + data[2]\n",
      "2 5\n",
      "! !\n",
      "2 6\n",
      "! !\n",
      "2 7\n",
      "! !\n",
      "2 8\n",
      "! data[1] + data[2] + data[3]\n",
      "2 9\n",
      "! !\n",
      "3 4\n",
      "! data[1] + data[2]\n",
      "3 5\n",
      "! !\n",
      "3 6\n",
      "! !\n",
      "3 7\n",
      "! !\n",
      "3 8\n",
      "! data[1] + data[2] + data[3]\n",
      "3 9\n",
      "! !\n",
      "4 5\n",
      "data[1] + data[2] !\n",
      "4 6\n",
      "data[1] + data[2] !\n",
      "4 7\n",
      "data[1] + data[2] !\n",
      "4 8\n",
      "data[1] + data[2] data[1] + data[2] + data[3]\n",
      "4 9\n",
      "data[1] + data[2] !\n",
      "5 6\n",
      "! !\n",
      "5 7\n",
      "! !\n",
      "5 8\n",
      "! !\n",
      "5 9\n",
      "! !\n",
      "6 7\n",
      "! !\n",
      "6 8\n",
      "! !\n",
      "6 9\n",
      "! !\n",
      "7 8\n",
      "! !\n",
      "7 9\n",
      "! !\n",
      "8 9\n",
      "! !\n"
     ]
    },
    {
     "data": {
      "text/plain": [
       "['data[0]', '!', '!', '!', 'data[1] + data[2]', '!', '!', '!', '!', '!']"
      ]
     },
     "execution_count": 27,
     "metadata": {},
     "output_type": "execute_result"
    }
   ],
   "source": [
    "for i in range(len(유일성만족리스트)):\n",
    "    for j in range(i+1, len(유일성만족리스트)):\n",
    "        print(i, j)\n",
    "        print(유일성만족리스트[i], 유일성만족리스트[j])\n",
    "        if 유일성만족리스트[i] in 유일성만족리스트[j]:\n",
    "            유일성만족리스트[j] = '!'\n",
    "            \n",
    "유일성만족리스트"
   ]
  },
  {
   "cell_type": "code",
   "execution_count": 28,
   "metadata": {},
   "outputs": [
    {
     "data": {
      "text/plain": [
       "2"
      ]
     },
     "execution_count": 28,
     "metadata": {},
     "output_type": "execute_result"
    }
   ],
   "source": [
    "len(유일성만족리스트) - 유일성만족리스트.count('!')"
   ]
  },
  {
   "cell_type": "markdown",
   "metadata": {},
   "source": [
    "### 전체 코드"
   ]
  },
  {
   "cell_type": "code",
   "execution_count": 30,
   "metadata": {},
   "outputs": [
    {
     "data": {
      "text/plain": [
       "2"
      ]
     },
     "execution_count": 30,
     "metadata": {},
     "output_type": "execute_result"
    }
   ],
   "source": [
    "import pandas as pd\n",
    "from itertools import combinations\n",
    "\n",
    "l = [['100','ryan','music','2'],\n",
    "     ['200','apeach','math','2'],\n",
    "     ['300','tube','computer','3'],\n",
    "     ['400','con','computer','4'],\n",
    "     ['500','muzi','music','3'],\n",
    "     ['600','apeach','music','2']]\n",
    "\n",
    "colname = range(len(l[0]))\n",
    "\n",
    "data = pd.DataFrame(l)\n",
    "data_ = pd.DataFrame() # 조합한 결과물을 저장할 빈 데이터프레임\n",
    "\n",
    "유일성만족리스트 = []\n",
    "모든이름의조합 = []\n",
    "\n",
    "for 조합수 in range(1, len(colname)+1):\n",
    "    컬럼이름의조합 = combinations(colname, 조합수)\n",
    "    모든이름의조합.append(list(컬럼이름의조합))\n",
    "\n",
    "for 이름조합 in 모든이름의조합:\n",
    "    for 컬럼명 in 이름조합:\n",
    "        # print(컬럼명)\n",
    "        if len(컬럼명) == 1:\n",
    "            data_[f'data[{컬럼명[0]}]'] = data[컬럼명[0]]\n",
    "        elif len(컬럼명) == 2:\n",
    "            data_[f'data[{컬럼명[0]}] + data[{컬럼명[1]}]'] = data[컬럼명[0]] + data[컬럼명[1]]\n",
    "        elif len(컬럼명) == 3:\n",
    "            data_[f'data[{컬럼명[0]}] + data[{컬럼명[1]}] + data[{컬럼명[2]}]'] = data[컬럼명[0]] + data[컬럼명[1]] + data[컬럼명[2]]\n",
    "        elif len(컬럼명) == 4:\n",
    "            data_[f'data[{컬럼명[0]}] + data[{컬럼명[1]}] + data[{컬럼명[2]}] + data[{컬럼명[3]}]'] = data[컬럼명[0]] + data[컬럼명[1]] + data[컬럼명[2]] + data[컬럼명[3]]\n",
    "\n",
    "인덱스 = data_.columns\n",
    "\n",
    "for i in 인덱스:\n",
    "    if len(data_[i]) == len(data_[i].value_counts()): # 유일한지 아닌지 판별\n",
    "        유일성만족리스트.append(i)\n",
    "        \n",
    "for i in range(len(유일성만족리스트)):\n",
    "    for j in range(i+1, len(유일성만족리스트)):\n",
    "        if 유일성만족리스트[i] in 유일성만족리스트[j]:\n",
    "            유일성만족리스트[j] = '!'\n",
    "\n",
    "len(유일성만족리스트) - 유일성만족리스트.count('!')"
   ]
  },
  {
   "cell_type": "markdown",
   "metadata": {},
   "source": [
    "오류 발생"
   ]
  },
  {
   "cell_type": "code",
   "execution_count": null,
   "metadata": {},
   "outputs": [],
   "source": [
    "# 기존 코드\n",
    "if 유일서만족리스트[i] in 유일성만족리스트[j]:\n",
    "    유일성만족리스트[j] = '!'"
   ]
  },
  {
   "cell_type": "code",
   "execution_count": 32,
   "metadata": {},
   "outputs": [
    {
     "data": {
      "text/plain": [
       "False"
      ]
     },
     "execution_count": 32,
     "metadata": {},
     "output_type": "execute_result"
    }
   ],
   "source": [
    "'data[0] + data[5]' in 'data[0] + data[3] + data[5]'\n",
    "# 단순 문자열 비교로는 모든 후보키를 검사할 수 없음!"
   ]
  },
  {
   "cell_type": "code",
   "execution_count": 33,
   "metadata": {},
   "outputs": [
    {
     "data": {
      "text/plain": [
       "False"
      ]
     },
     "execution_count": 33,
     "metadata": {},
     "output_type": "execute_result"
    }
   ],
   "source": [
    "# all 빌트인 function으로\n",
    "all(요소 in 'data[1] + data[2]'.split(' + ') for 요소 in 'data[0] + data[3]'.split(' + '))"
   ]
  },
  {
   "cell_type": "code",
   "execution_count": 34,
   "metadata": {},
   "outputs": [
    {
     "data": {
      "text/plain": [
       "True"
      ]
     },
     "execution_count": 34,
     "metadata": {},
     "output_type": "execute_result"
    }
   ],
   "source": [
    "all(요소 in 'data[0] + data[3] + data[5]'.split(' + ') for 요소 in 'data[0] + data[5]'.split(' + '))"
   ]
  },
  {
   "cell_type": "code",
   "execution_count": 35,
   "metadata": {},
   "outputs": [
    {
     "data": {
      "text/plain": [
       "[True, True]"
      ]
     },
     "execution_count": 35,
     "metadata": {},
     "output_type": "execute_result"
    }
   ],
   "source": [
    "# list comprehension으로\n",
    "[요소 in 'data[0] + data[3] + data[5]'.split(' + ') for 요소 in 'data[0] + data[5]'.split(' + ')]"
   ]
  },
  {
   "cell_type": "markdown",
   "metadata": {},
   "source": [
    "### 수정된 코드"
   ]
  },
  {
   "cell_type": "code",
   "execution_count": null,
   "metadata": {},
   "outputs": [],
   "source": [
    "import pandas as pd\n",
    "from itertools import combinations\n",
    "\n",
    "def solution(l):\n",
    "    l = [['100','ryan','music','2'],\n",
    "        ['200','apeach','math','2'],\n",
    "        ['300','tube','computer','3'],\n",
    "        ['400','con','computer','4'],\n",
    "        ['500','muzi','music','3'],\n",
    "        ['600','apeach','music','2']]\n",
    "\n",
    "    colname = range(len(l[0]))\n",
    "\n",
    "    data = pd.DataFrame(l)\n",
    "    data_ = pd.DataFrame() # 조합한 결과물을 저장할 빈 데이터프레임\n",
    "\n",
    "    유일성만족리스트 = []\n",
    "    모든이름의조합 = []\n",
    "\n",
    "    for 조합수 in range(1, len(colname)+1):\n",
    "        컬럼이름의조합 = combinations(colname, 조합수)\n",
    "        모든이름의조합.append(list(컬럼이름의조합))\n",
    "\n",
    "    for 이름조합 in 모든이름의조합:\n",
    "        for 컬럼명 in 이름조합:\n",
    "            # print(컬럼명)\n",
    "            if len(컬럼명) == 1:\n",
    "                data_[f'data[{컬럼명[0]}]'] = data[컬럼명[0]]\n",
    "            elif len(컬럼명) == 2:\n",
    "                data_[f'data[{컬럼명[0]}] + data[{컬럼명[1]}]'] = data[컬럼명[0]] + data[컬럼명[1]]\n",
    "            elif len(컬럼명) == 3:\n",
    "                data_[f'data[{컬럼명[0]}] + data[{컬럼명[1]}] + data[{컬럼명[2]}]'] = data[컬럼명[0]] + data[컬럼명[1]] + data[컬럼명[2]]\n",
    "            elif len(컬럼명) == 4:\n",
    "                data_[f'data[{컬럼명[0]}] + data[{컬럼명[1]}] + data[{컬럼명[2]}] + data[{컬럼명[3]}]'] = data[컬럼명[0]] + data[컬럼명[1]] + data[컬럼명[2]] + data[컬럼명[3]]\n",
    "\n",
    "    인덱스 = data_.columns\n",
    "\n",
    "    for i in 인덱스:\n",
    "        if len(data_[i]) == len(data_[i].value_counts()): # 유일한지 아닌지 판별\n",
    "            유일성만족리스트.append(i)\n",
    "    \"\"\"\n",
    "    수정된 부분분\n",
    "    \"\"\"        \n",
    "    for i in range(len(유일성만족리스트)):\n",
    "        for j in range(i+1, len(유일성만족리스트)):\n",
    "            if all(요소 in 유일성만족리스트[j].split(' + ') for 요소 in 유일성만족리스트[i].split(' + ')):\n",
    "                유일성만족리스트[j] = '!'\n",
    "\n",
    "    return len(유일성만족리스트) - 유일성만족리스트.count('!')"
   ]
  }
 ],
 "metadata": {
  "kernelspec": {
   "display_name": "Python 3",
   "language": "python",
   "name": "python3"
  },
  "language_info": {
   "codemirror_mode": {
    "name": "ipython",
    "version": 3
   },
   "file_extension": ".py",
   "mimetype": "text/x-python",
   "name": "python",
   "nbconvert_exporter": "python",
   "pygments_lexer": "ipython3",
   "version": "3.11.3"
  }
 },
 "nbformat": 4,
 "nbformat_minor": 2
}
