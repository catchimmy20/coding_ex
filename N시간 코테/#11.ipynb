{
 "cells": [
  {
   "cell_type": "markdown",
   "metadata": {},
   "source": [
    "### 2019 카카오 코딩테스트 4번\n",
    "\n",
    "https://tech.kakao.com/2018/09/21/kakao-blind-recruitment-for2019-round-1/"
   ]
  },
  {
   "cell_type": "code",
   "execution_count": 1,
   "metadata": {},
   "outputs": [
    {
     "data": {
      "text/plain": [
       "deque(['a', 'b', 'c', 'd', 'e'])"
      ]
     },
     "execution_count": 1,
     "metadata": {},
     "output_type": "execute_result"
    }
   ],
   "source": [
    "from collections import deque\n",
    "\n",
    "deq = deque('abcde')\n",
    "deq"
   ]
  },
  {
   "cell_type": "code",
   "execution_count": 6,
   "metadata": {},
   "outputs": [
    {
     "data": {
      "text/plain": [
       "deque(['b', 'c', 'd', 'e', 'a'])"
      ]
     },
     "execution_count": 6,
     "metadata": {},
     "output_type": "execute_result"
    }
   ],
   "source": [
    "deq.rotate(1)\n",
    "deq"
   ]
  },
  {
   "cell_type": "code",
   "execution_count": null,
   "metadata": {},
   "outputs": [],
   "source": [
    "[3, 3, 5]\n",
    "[3, 3, 5, 2, 2, 4, 1, 1, 3, 0, 0, 2, 1...] # 전부 0이 될때까지"
   ]
  },
  {
   "cell_type": "code",
   "execution_count": 8,
   "metadata": {},
   "outputs": [
    {
     "name": "stdout",
     "output_type": "stream",
     "text": [
      "[ True  True  True False False  True  True  True False False  True  True\n",
      "  True False False  True  True  True False False  True  True  True False\n",
      " False  True  True  True False False  True  True False False False  True\n",
      "  True False False False  True  True False False False  True  True False\n",
      " False False  True  True False False False]\n"
     ]
    }
   ],
   "source": [
    "import numpy as np\n",
    "\n",
    "def solution(food_times, k):\n",
    "    if sum(food_times) <= k:\n",
    "        return -1\n",
    "    \n",
    "    길이 = len(food_times)\n",
    "    \n",
    "    table = food_times.copy()\n",
    "    \n",
    "    food_times = np.array(food_times)\n",
    "    table = np.array(table)\n",
    "    \n",
    "    for i in range(k):\n",
    "        food_times -= 1\n",
    "        table = np.r_[table, food_times]\n",
    "        \n",
    "    table_bool = table > 0 \n",
    "    print(table_bool)\n",
    "    \n",
    "solution([1000, 96, 6, 0, 0], 10)"
   ]
  },
  {
   "cell_type": "code",
   "execution_count": null,
   "metadata": {},
   "outputs": [],
   "source": []
  }
 ],
 "metadata": {
  "kernelspec": {
   "display_name": "Python 3",
   "language": "python",
   "name": "python3"
  },
  "language_info": {
   "codemirror_mode": {
    "name": "ipython",
    "version": 3
   },
   "file_extension": ".py",
   "mimetype": "text/x-python",
   "name": "python",
   "nbconvert_exporter": "python",
   "pygments_lexer": "ipython3",
   "version": "3.11.3"
  }
 },
 "nbformat": 4,
 "nbformat_minor": 2
}
