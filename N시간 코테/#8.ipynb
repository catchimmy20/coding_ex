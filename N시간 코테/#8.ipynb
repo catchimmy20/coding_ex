{
 "cells": [
  {
   "cell_type": "markdown",
   "metadata": {},
   "source": [
    "### 2019 카카오 코딩테스트 1번\n",
    "\n",
    "https://tech.kakao.com/2018/09/21/kakao-blind-recruitment-for2019-round-1/"
   ]
  },
  {
   "cell_type": "code",
   "execution_count": 5,
   "metadata": {},
   "outputs": [
    {
     "name": "stdout",
     "output_type": "stream",
     "text": [
      "['Prodo님이 들어왔습니다.', 'Ryan님이 들어왔습니다.', 'Prodo님이 나갔습니다.', 'Prodo님이 들어왔습니다.']\n"
     ]
    }
   ],
   "source": [
    "def solution(record):\n",
    "    answer = []\n",
    "    # 닉네임이 바뀔 수 있기에 딕셔너리로 id를 저장해야 함\n",
    "    user = {}\n",
    "    \n",
    "    # record split!\n",
    "    for log in record: \n",
    "        logSplit = log.split(' ')\n",
    "        \n",
    "        # 채팅방 들어오는 것 구현\n",
    "        if logSplit[0] == \"Enter\":\n",
    "            # 딕셔너리 키 값으로 userid를, value에는 닉네임을\n",
    "            user[logSplit[1]] = logSplit[2]\n",
    "            answer.append([logSplit[1], '님이 들어왔습니다.'])\n",
    "            \n",
    "        # 채팅방 나감    \n",
    "        elif logSplit[0] == \"Leave\":\n",
    "            # 유저로그는 변경을 감안해 삭제하면 안됨\n",
    "            answer.append([logSplit[1], '님이 나갔습니다.'])\n",
    "        \n",
    "        # 닉네임 변경\n",
    "        elif logSplit[0] == \"Change\":\n",
    "            user[logSplit[1]] = logSplit[2]\n",
    "            \n",
    "    answer = [user[i[0]]+i[1] for i in answer]\n",
    "        \n",
    "    return answer\n",
    "\n",
    "testcase = ['Enter uid1234 Muzi', \n",
    "             'Enter uid4567 Prodo',\n",
    "             'Leave uid1234',\n",
    "             'Enter uid1234 Prodo',\n",
    "             'Change uid4567 Ryan']\n",
    "\n",
    "print(solution(testcase))"
   ]
  },
  {
   "cell_type": "code",
   "execution_count": null,
   "metadata": {},
   "outputs": [],
   "source": []
  }
 ],
 "metadata": {
  "kernelspec": {
   "display_name": "Python 3",
   "language": "python",
   "name": "python3"
  },
  "language_info": {
   "codemirror_mode": {
    "name": "ipython",
    "version": 3
   },
   "file_extension": ".py",
   "mimetype": "text/x-python",
   "name": "python",
   "nbconvert_exporter": "python",
   "pygments_lexer": "ipython3",
   "version": "3.11.3"
  }
 },
 "nbformat": 4,
 "nbformat_minor": 2
}
