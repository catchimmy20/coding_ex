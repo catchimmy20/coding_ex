{
 "cells": [
  {
   "cell_type": "markdown",
   "metadata": {},
   "source": [
    "#### 코딩도장 문제\n",
    "\n",
    "다음 입사문제 중에서\n",
    "\n",
    "1차원의 점들이 주어졌을 때, 그 중 가장 거리가 짧은 것의 쌍을 출력하는 함수를 작성하시오. (단 점들의 배열은 모두 정렬되어있다고 가정한다.)\n",
    "\n",
    "예를들어 S={1, 3, 4, 8, 13, 17, 20} 이 주어졌다면, 결과값은 (3, 4)가 될 것이다."
   ]
  },
  {
   "cell_type": "code",
   "execution_count": 8,
   "metadata": {},
   "outputs": [
    {
     "data": {
      "text/plain": [
       "20"
      ]
     },
     "execution_count": 8,
     "metadata": {},
     "output_type": "execute_result"
    }
   ],
   "source": [
    "S = [1, 3, 4, 8, 13, 17, 20]\n",
    "m = max(S)\n",
    "m"
   ]
  },
  {
   "cell_type": "code",
   "execution_count": 9,
   "metadata": {},
   "outputs": [
    {
     "data": {
      "text/plain": [
       "(3, 4)"
      ]
     },
     "execution_count": 9,
     "metadata": {},
     "output_type": "execute_result"
    }
   ],
   "source": [
    "index = 0\n",
    "for i in range(len(S)-1):\n",
    "    if m > S[i+1] - S[i]:\n",
    "        index = i\n",
    "        m = S[i+1] - S[i]\n",
    "        \n",
    "S[index], S[index+1]"
   ]
  },
  {
   "cell_type": "code",
   "execution_count": 10,
   "metadata": {},
   "outputs": [
    {
     "data": {
      "text/plain": [
       "[(1, 3), (3, 4), (4, 8), (8, 13), (13, 17), (17, 20)]"
      ]
     },
     "execution_count": 10,
     "metadata": {},
     "output_type": "execute_result"
    }
   ],
   "source": [
    "# 짝을 지어서 차가 가장 작은 것을 구함\n",
    "# zip으로 짝을 지음\n",
    "\n",
    "s = [1, 3, 4, 8, 13, 17, 20]\n",
    "ss = [3, 4, 8, 13, 17, 20]\n",
    "list(zip(s, ss))"
   ]
  },
  {
   "cell_type": "code",
   "execution_count": 11,
   "metadata": {},
   "outputs": [
    {
     "data": {
      "text/plain": [
       "[(3, 3), (1, 4), (4, 8), (8, 13), (13, 17), (17, 20)]"
      ]
     },
     "execution_count": 11,
     "metadata": {},
     "output_type": "execute_result"
    }
   ],
   "source": [
    "# lambda 뒤에 있는 (a, b)에서 뒤의 값 b로 정렬한 결과 \n",
    "s = [1, 3, 4, 8, 13, 17, 20]\n",
    "ss = [4, 3, 8, 13, 17, 20]\n",
    "sorted(list(zip(s, ss)), key=lambda i: i[1])"
   ]
  },
  {
   "cell_type": "code",
   "execution_count": 12,
   "metadata": {},
   "outputs": [
    {
     "data": {
      "text/plain": [
       "[(3, 3), (4, 8), (8, 13), (9, 4), (13, 17), (17, 20)]"
      ]
     },
     "execution_count": 12,
     "metadata": {},
     "output_type": "execute_result"
    }
   ],
   "source": [
    "# lambda 뒤에 있는 (a, b)에서 앞의 값 a로 정렬한 결과 \n",
    "s = [9, 3, 4, 8, 13, 17, 20]\n",
    "ss = [4, 3, 8, 13, 17, 20]\n",
    "sorted(list(zip(s, ss)), key=lambda i: i[0])"
   ]
  },
  {
   "cell_type": "code",
   "execution_count": 14,
   "metadata": {},
   "outputs": [
    {
     "data": {
      "text/plain": [
       "(3, 4)"
      ]
     },
     "execution_count": 14,
     "metadata": {},
     "output_type": "execute_result"
    }
   ],
   "source": [
    "s = [1, 3, 4, 8, 13, 17, 20]\n",
    "ss = [3, 4, 8, 13, 17, 20]\n",
    "sorted(list(zip(s, ss)), key=lambda i: i[1]-i[0]) # 짝을 지어서 차가 가장 작은 순대로 출력함\n",
    "sorted(list(zip(s, ss)), key=lambda i: i[1]-i[0])[0] # 첫번째만 출력"
   ]
  }
 ],
 "metadata": {
  "kernelspec": {
   "display_name": "Python 3",
   "language": "python",
   "name": "python3"
  },
  "language_info": {
   "codemirror_mode": {
    "name": "ipython",
    "version": 3
   },
   "file_extension": ".py",
   "mimetype": "text/x-python",
   "name": "python",
   "nbconvert_exporter": "python",
   "pygments_lexer": "ipython3",
   "version": "3.11.3"
  }
 },
 "nbformat": 4,
 "nbformat_minor": 2
}
