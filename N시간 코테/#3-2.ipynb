{
 "cells": [
  {
   "cell_type": "markdown",
   "metadata": {},
   "source": [
    "## 3번 카카오 2018 공채 2번\n",
    "\n",
    "https://tech.kakao.com/2017/09/27/kakao-blind-recruitment-round-1/"
   ]
  },
  {
   "cell_type": "code",
   "execution_count": null,
   "metadata": {},
   "outputs": [],
   "source": [
    "\"\"\"\n",
    "점수 계산: “점수|보너스|[옵션]”으로 이루어진 문자열 3세트.\n",
    "\n",
    "1S2D*3T = 37점\n",
    "1S: 1^1*2 = 2\n",
    "2D: 2^2*2 = 8\n",
    "*: 1S와 2D에 각각 *2\n",
    "3T: 3^3 = 27\n",
    "\"\"\""
   ]
  },
  {
   "cell_type": "code",
   "execution_count": null,
   "metadata": {},
   "outputs": [],
   "source": [
    "# 뼈대\n",
    "def solution(dartResult):\n",
    "    점수 = []\n",
    "    for i in dartResult:\n",
    "        if i == 'S':\n",
    "            pass\n",
    "        elif i == 'D':\n",
    "            pass\n",
    "        elif i == 'T':\n",
    "            pass\n",
    "        elif i == '*':\n",
    "            pass\n",
    "        elif i == '#':\n",
    "            pass\n",
    "        else: # 숫자인 경우\n",
    "            pass"
   ]
  },
  {
   "cell_type": "markdown",
   "metadata": {},
   "source": [
    "enumerate함수란?\n",
    "-> 인덱스와 원소로 이루어진 튜플(tuple)을 만듦\n",
    "\n",
    "https://www.daleseo.com/python-enumerate/"
   ]
  },
  {
   "cell_type": "code",
   "execution_count": 10,
   "metadata": {},
   "outputs": [
    {
     "name": "stdout",
     "output_type": "stream",
     "text": [
      "9\n"
     ]
    }
   ],
   "source": [
    "def solution(dartResult):\n",
    "    answer = []\n",
    "    for num, i in enumerate(dartResult, 1):\n",
    "        if i == 'S':\n",
    "            answer[-1] **= 1\n",
    "        elif i == 'D':\n",
    "            answer[-1] **= 2\n",
    "        elif i == 'T':\n",
    "            answer[-1] **= 3\n",
    "        elif i == '*':\n",
    "            answer[-1] *= 2\n",
    "            if len(answer) >= 2: # 해당 점수와 바로 전에 얻은 점수가 있는 경우\n",
    "                answer[-2] *= 2\n",
    "        elif i == '#':\n",
    "            answer[-1] *= -1\n",
    "        else: # 숫자인 경우\n",
    "            if dartResult[num-1:num+1] == '10':\n",
    "               answer.append(10)\n",
    "            elif dartResult[num-2:num] != '10':\n",
    "                answer.append(int(i))\n",
    "           \n",
    "            \n",
    "    return sum(answer)\n",
    "\n",
    "print(solution('1D2S#10S'))"
   ]
  },
  {
   "cell_type": "markdown",
   "metadata": {},
   "source": [
    "### 정규표현으로 코드 작성\n",
    "\n",
    "https://namhandong.tistory.com/65"
   ]
  },
  {
   "cell_type": "code",
   "execution_count": 13,
   "metadata": {},
   "outputs": [
    {
     "data": {
      "text/plain": [
       "[('1', 'D', ''), ('2', 'S', '#'), ('10', 'S', '')]"
      ]
     },
     "execution_count": 13,
     "metadata": {},
     "output_type": "execute_result"
    }
   ],
   "source": [
    "import re\n",
    "\n",
    "testcase = ['1S2D*3T', '1D2S#10S']\n",
    "# 숫자 앞에서 끊음 -> 1S / 2D* / 3T\n",
    "# 첫번째 (): 0-10 그룹핑\n",
    "# 두번째 (): S, D, T중의 하나\n",
    "# 세번째 (): *, #은 나올수도 있고 아닐 수도 있고\n",
    "패턴 = re.compile(r'([0-9]|10)([SDT])([\\*\\#]?)')\n",
    "패턴.findall(testcase[1])"
   ]
  },
  {
   "cell_type": "markdown",
   "metadata": {},
   "source": [
    "람다 함수\n",
    "\n",
    "https://velog.io/@euisuk-chung/%ED%8C%8C%EC%9D%B4%EC%8D%AC-%EC%8B%9C%EA%B0%81%ED%99%94-%EB%A7%88%EC%8A%A4%ED%84%B0%ED%95%98%EA%B8%B0-%EB%9E%8C%EB%8B%A4Lambda-%ED%95%A8%EC%88%98\n",
    "\n",
    "https://dojang.io/mod/page/view.php?id=2359\n"
   ]
  },
  {
   "cell_type": "code",
   "execution_count": 15,
   "metadata": {},
   "outputs": [
    {
     "name": "stdout",
     "output_type": "stream",
     "text": [
      "1 S \n",
      "2 D *\n",
      "3 T \n",
      "37\n"
     ]
    }
   ],
   "source": [
    "import re\n",
    "\n",
    "def solution(dartResult):\n",
    "    패턴 = re.compile(r'([0-9]|10)([SDT])([\\*\\#]?)')\n",
    "    answer = []\n",
    "    계산식 = {\n",
    "        'S':lambda 값:값,\n",
    "        'D':lambda 값:값**2,\n",
    "        'T':lambda 값:값**3\n",
    "    }\n",
    "    for 숫자, 승수, 상 in 패턴.findall(dartResult):\n",
    "        print(숫자, 승수, 상)\n",
    "        if 승수 == 'S':\n",
    "            점수 = 계산식['S'](int(숫자))\n",
    "        elif 승수 == 'D':\n",
    "            점수 = 계산식['D'](int(숫자))\n",
    "        elif 승수 == 'T':\n",
    "            점수 = 계산식['T'](int(숫자))\n",
    "        if 상 == '*':\n",
    "            점수 *= 2\n",
    "            if answer: # 해당 점수와 바로 전에 얻은 점수가 있는 경우\n",
    "                answer[-1] *= 2\n",
    "        elif 상 == '#':\n",
    "            점수 *= -1\n",
    "        answer.append(점수)\n",
    "            \n",
    "    return sum(answer)\n",
    "\n",
    "print(solution('1S2D*3T'))"
   ]
  },
  {
   "cell_type": "code",
   "execution_count": null,
   "metadata": {},
   "outputs": [],
   "source": []
  }
 ],
 "metadata": {
  "kernelspec": {
   "display_name": "Python 3",
   "language": "python",
   "name": "python3"
  },
  "language_info": {
   "codemirror_mode": {
    "name": "ipython",
    "version": 3
   },
   "file_extension": ".py",
   "mimetype": "text/x-python",
   "name": "python",
   "nbconvert_exporter": "python",
   "pygments_lexer": "ipython3",
   "version": "3.11.3"
  }
 },
 "nbformat": 4,
 "nbformat_minor": 2
}
