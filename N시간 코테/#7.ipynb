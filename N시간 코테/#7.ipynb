{
 "cells": [
  {
   "cell_type": "markdown",
   "metadata": {},
   "source": [
    "### 2018 카카오 코딩테스트 6번\n",
    "\n",
    "https://tech.kakao.com/2017/09/27/kakao-blind-recruitment-round-1/\n",
    "\n",
    "첫 번째 예시에서 캐릭터 중 B가 없음에도 입력에는 B가 포함됨.(문제나 예시에 오류가 있는듯)"
   ]
  },
  {
   "cell_type": "code",
   "execution_count": 12,
   "metadata": {},
   "outputs": [
    {
     "data": {
      "text/plain": [
       "[['C', 'C', 'B', 'D', 'E'],\n",
       " ['A', 'A', 'A', 'D', 'E'],\n",
       " ['A', 'A', 'A', 'B', 'F'],\n",
       " ['C', 'C', 'B', 'B', 'F']]"
      ]
     },
     "execution_count": 12,
     "metadata": {},
     "output_type": "execute_result"
    }
   ],
   "source": [
    "[list(i) for i in ['CCBDE', 'AAADE', 'AAABF', 'CCBBF']]"
   ]
  },
  {
   "cell_type": "code",
   "execution_count": null,
   "metadata": {},
   "outputs": [],
   "source": [
    "[['_', '_', '_', 'D', 'E'], \n",
    " ['_', '_', '_', 'D', 'E'],\n",
    " ['C', 'C', 'B', 'B', 'F'],\n",
    " ['C', 'C', 'B', 'B', 'F']]"
   ]
  },
  {
   "cell_type": "code",
   "execution_count": null,
   "metadata": {},
   "outputs": [],
   "source": [
    "[['_', '_', '_', '_', 'E'], \n",
    " ['_', '_', '_', '_', 'E'],\n",
    " ['C', 'C', '_', 'D', 'F'],\n",
    " ['C', 'C', '_', 'D', 'F']]"
   ]
  },
  {
   "cell_type": "markdown",
   "metadata": {},
   "source": [
    "1. i, j순회해서 풀기\n",
    "2. numpy로 풀기(행렬 계산용이): 매칭되는 것이 있으면 지울 수 있게"
   ]
  },
  {
   "cell_type": "code",
   "execution_count": 15,
   "metadata": {},
   "outputs": [
    {
     "name": "stdout",
     "output_type": "stream",
     "text": [
      "[[1, 0], [1, 1]]\n",
      "[['_' '_' '_' 'D' 'E']\n",
      " ['_' '_' '_' 'D' 'E']\n",
      " ['C' 'C' 'B' 'B' 'F']\n",
      " ['C' 'C' 'B' 'B' 'F']]\n",
      "[[2, 0], [2, 2]]\n",
      "[['_' '_' '_' '_' 'E']\n",
      " ['_' '_' '_' '_' 'E']\n",
      " ['_' '_' '_' 'D' 'F']\n",
      " ['_' '_' '_' 'D' 'F']]\n"
     ]
    },
    {
     "data": {
      "text/plain": [
       "14"
      ]
     },
     "execution_count": 15,
     "metadata": {},
     "output_type": "execute_result"
    }
   ],
   "source": [
    "import numpy as np\n",
    "\n",
    "행 = 4\n",
    "열 = 5\n",
    "\n",
    "s = [list(i) for i in ['CCBDE', 'AAADE', 'AAABF', 'CCBBF']]\n",
    "s = np.array(s)\n",
    "\n",
    "# 라이언(R), 무지(M), 어피치(A), 프로도(F), 네오(N), 튜브(T), 제이지(J), 콘(C)\n",
    "캐릭터 = ['R', 'M', 'A', 'F', 'N', 'T', 'J', 'C', 'B']\n",
    "\n",
    "while True:\n",
    "    지울값 = []\n",
    "\n",
    "    for i in range(행-1):\n",
    "        for j in range(열-1):\n",
    "            for k in 캐릭터:\n",
    "                if np.all(s[i:i+2, j:j+2] == k) == True:\n",
    "                    # i, j의 인덱스 값을 기억할 필요가 있음.\n",
    "                    지울값.append([i, j])\n",
    "    # 순회했음에도 지울 값이 없다면, 탈출\n",
    "    if not 지울값:\n",
    "        break\n",
    "     \n",
    "    for i, j in 지울값:\n",
    "        s[i:i+2, j:j+2] = '_'\n",
    "        \n",
    "    print(지울값)\n",
    "    for _ in range(2):\n",
    "        # 빈자리로 값을 내려야하기 때문에 열 단위로 검사\n",
    "        for j in range(열):\n",
    "            for i in range(1, 행): # 맨 위는 굳이 내릴 필요가 없음...?\n",
    "                if s[i, j] == '_':\n",
    "                    s[i, j], s[i-1, j] = s[i-1, j], '_'\n",
    "\n",
    "    print(s)\n",
    "# numpy.ndarray는 count가 없음.    \n",
    "# s.count('_')\n",
    "(s == '_').sum()\n",
    "    "
   ]
  },
  {
   "cell_type": "code",
   "execution_count": null,
   "metadata": {},
   "outputs": [],
   "source": [
    "['TTTANT', 'RRFACC', 'RRRFCC', 'TRRRAA', 'TTMMMF', 'TMMTTJ']\t"
   ]
  },
  {
   "cell_type": "code",
   "execution_count": 14,
   "metadata": {},
   "outputs": [
    {
     "name": "stdout",
     "output_type": "stream",
     "text": [
      "[[1, 0], [1, 4], [2, 1]]\n",
      "[['_' '_' '_' 'A' '_' '_']\n",
      " ['_' '_' '_' 'A' '_' '_']\n",
      " ['T' '_' 'T' 'F' 'N' 'T']\n",
      " ['T' 'T' 'F' 'R' 'A' 'A']\n",
      " ['T' 'T' 'M' 'M' 'M' 'F']\n",
      " ['T' 'M' 'M' 'T' 'T' 'J']]\n",
      "[[3, 0]]\n",
      "[['_' '_' '_' 'A' '_' '_']\n",
      " ['_' '_' '_' 'A' '_' '_']\n",
      " ['_' '_' 'T' 'F' 'N' 'T']\n",
      " ['_' '_' 'F' 'R' 'A' 'A']\n",
      " ['T' '_' 'M' 'M' 'M' 'F']\n",
      " ['T' 'M' 'M' 'T' 'T' 'J']]\n"
     ]
    },
    {
     "data": {
      "text/plain": [
       "15"
      ]
     },
     "execution_count": 14,
     "metadata": {},
     "output_type": "execute_result"
    }
   ],
   "source": [
    "import numpy as np\n",
    "\n",
    "행 = 6\n",
    "열 = 6\n",
    "\n",
    "s = [list(i) for i in ['TTTANT', 'RRFACC', 'RRRFCC', 'TRRRAA', 'TTMMMF', 'TMMTTJ']]\n",
    "s = np.array(s)\n",
    "\n",
    "# 라이언(R), 무지(M), 어피치(A), 프로도(F), 네오(N), 튜브(T), 제이지(J), 콘(C)\n",
    "캐릭터 = ['R', 'M', 'A', 'F', 'N', 'T', 'J', 'C']\n",
    "\n",
    "while True:\n",
    "    지울값 = []\n",
    "\n",
    "    for i in range(행-1):\n",
    "        for j in range(열-1):\n",
    "            for k in 캐릭터:\n",
    "                if np.all(s[i:i+2, j:j+2] == k) == True:\n",
    "                    # i, j의 인덱스 값을 기억할 필요가 있음.\n",
    "                    지울값.append([i, j])\n",
    "    # 순회했음에도 지울 값이 없다면, 탈출\n",
    "    if not 지울값:\n",
    "        break\n",
    "     \n",
    "    for i, j in 지울값:\n",
    "        s[i:i+2, j:j+2] = '_'\n",
    "        \n",
    "    print(지울값)\n",
    "    for _ in range(2):\n",
    "        # 빈자리로 값을 내려야하기 때문에 열 단위로 검사\n",
    "        for j in range(열):\n",
    "            for i in range(1, 행): # 맨 위는 굳이 내릴 필요가 없음...?\n",
    "                if s[i, j] == '_':\n",
    "                    s[i, j], s[i-1, j] = s[i-1, j], '_'\n",
    "\n",
    "    print(s)\n",
    "# numpy.ndarray는 count가 없음.    \n",
    "# s.count('_')\n",
    "(s == '_').sum()\n"
   ]
  },
  {
   "cell_type": "markdown",
   "metadata": {},
   "source": [
    "제출 코드 (프로그래머스 런타임 에러)"
   ]
  },
  {
   "cell_type": "code",
   "execution_count": null,
   "metadata": {},
   "outputs": [],
   "source": [
    "import numpy as np\n",
    "\n",
    "def solution(행, 열, board):\n",
    "    \n",
    "    s = [list(i) for i in board]\n",
    "    s = np.array(s)\n",
    "\n",
    "    # 라이언(R), 무지(M), 어피치(A), 프로도(F), 네오(N), 튜브(T), 제이지(J), 콘(C)\n",
    "    캐릭터 = ['R', 'M', 'A', 'F', 'N', 'T', 'J', 'C']\n",
    "\n",
    "    while True:\n",
    "        지울값 = []\n",
    "\n",
    "        for i in range(행-1):\n",
    "            for j in range(열-1):\n",
    "                for k in 캐릭터:\n",
    "                    if np.all(s[i:i+2, j:j+2] == k) == True:\n",
    "                        # i, j의 인덱스 값을 기억할 필요가 있음.\n",
    "                        지울값.append([i, j])\n",
    "        # 순회했음에도 지울 값이 없다면, 탈출\n",
    "        if not 지울값:\n",
    "            break\n",
    "        \n",
    "        for i, j in 지울값:\n",
    "            s[i:i+2, j:j+2] = '_'\n",
    "            \n",
    "        print(지울값)\n",
    "        for _ in range(행):\n",
    "            # 빈자리로 값을 내려야하기 때문에 열 단위로 검사\n",
    "            for j in range(열):\n",
    "                for i in range(1, 행): # 맨 위는 굳이 내릴 필요가 없음...?\n",
    "                    if s[i, j] == '_':\n",
    "                        s[i, j], s[i-1, j] = s[i-1, j], '_'\n",
    "\n",
    "        print(s)\n",
    "    # numpy.ndarray는 count가 없음.    \n",
    "    # s.count('_')\n",
    "    return (s == '_').sum()\n"
   ]
  },
  {
   "cell_type": "code",
   "execution_count": 2,
   "metadata": {},
   "outputs": [
    {
     "data": {
      "text/plain": [
       "['A',\n",
       " 'B',\n",
       " 'C',\n",
       " 'D',\n",
       " 'E',\n",
       " 'F',\n",
       " 'G',\n",
       " 'H',\n",
       " 'I',\n",
       " 'J',\n",
       " 'K',\n",
       " 'L',\n",
       " 'M',\n",
       " 'N',\n",
       " 'O',\n",
       " 'P',\n",
       " 'Q',\n",
       " 'R',\n",
       " 'S',\n",
       " 'T',\n",
       " 'U',\n",
       " 'V',\n",
       " 'W',\n",
       " 'X',\n",
       " 'Y',\n",
       " 'Z']"
      ]
     },
     "execution_count": 2,
     "metadata": {},
     "output_type": "execute_result"
    }
   ],
   "source": [
    "\"\"\"\n",
    "캐릭터 : 블록을 나타내는 문자는 대문자 A에서 Z가 사용된다.\n",
    "\"\"\"\n",
    "캐릭터 = [chr(i) for i in range(65, 91)]\n",
    "캐릭터"
   ]
  },
  {
   "cell_type": "code",
   "execution_count": 3,
   "metadata": {},
   "outputs": [
    {
     "name": "stdout",
     "output_type": "stream",
     "text": [
      "4\n"
     ]
    }
   ],
   "source": [
    "# 에러가 나는 상황\n",
    "\n",
    "import numpy as np\n",
    "\n",
    "def solution(행, 열, board):\n",
    "    s = [list(i) for i in board]\n",
    "    s = np.array(s)\n",
    "    \n",
    "    캐릭터 = [chr(i) for i in range(65, 91)]\n",
    "    \n",
    "    s[1:3, 1:3] = '_'\n",
    "    \n",
    "    return (s == '_').sum()\n",
    "\n",
    "print(solution(4, 5, ['CCBDE', 'AAADE', 'AAABF', 'CCBBF']))"
   ]
  },
  {
   "cell_type": "code",
   "execution_count": null,
   "metadata": {},
   "outputs": [],
   "source": []
  }
 ],
 "metadata": {
  "kernelspec": {
   "display_name": "Python 3",
   "language": "python",
   "name": "python3"
  },
  "language_info": {
   "codemirror_mode": {
    "name": "ipython",
    "version": 3
   },
   "file_extension": ".py",
   "mimetype": "text/x-python",
   "name": "python",
   "nbconvert_exporter": "python",
   "pygments_lexer": "ipython3",
   "version": "3.11.3"
  }
 },
 "nbformat": 4,
 "nbformat_minor": 2
}
