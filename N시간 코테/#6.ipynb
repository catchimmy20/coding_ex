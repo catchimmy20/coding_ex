{
 "cells": [
  {
   "cell_type": "markdown",
   "metadata": {},
   "source": [
    "## 2018 카카오 코딩테스트 5번\n",
    "\n",
    "자카드 유사도 구하는 문제\n",
    "\n",
    "https://tech.kakao.com/2017/09/27/kakao-blind-recruitment-round-1/"
   ]
  },
  {
   "cell_type": "markdown",
   "metadata": {},
   "source": [
    "다중집합을 허락하지 않았을 때(일반 집합으로 풀었을 때)"
   ]
  },
  {
   "cell_type": "code",
   "execution_count": null,
   "metadata": {},
   "outputs": [],
   "source": [
    "import re\n",
    "def solution(str1, str2):\n",
    "    # 소문자로 변환\n",
    "    str1 = str1.lower()\n",
    "    str2 = str2.lower()\n",
    "    \n",
    "    str1List = []\n",
    "    str2List = []\n",
    "    \n",
    "    # 정규식을 통해 특수문자는 버림 ex) 1+는 출력안됨.\n",
    "    패턴 = re.compile(r'[a-z]{2}')\n",
    "    \n",
    "    # 두개씩 잘라내기\n",
    "    for i in range(len(str1)-1):\n",
    "        문자열 = str1[i]+str1[i+1]\n",
    "        if 패턴.findall(문자열):\n",
    "            str1List.append(문자열)\n",
    "        \n",
    "    for i in range(len(str2)-1):\n",
    "        문자열 = str2[i]+str2[i+1]\n",
    "        if 패턴.findall(문자열):\n",
    "            str2List.append(문자열)\n",
    "        \n",
    "    print(str1List, str2List)\n",
    "    # if 다중집합을 인정하지 않는다면?\n",
    "    교집합 = set(str1List) & set(str2List)\n",
    "    합집합 = set(str1List) | set(str2List)\n",
    "    \n",
    "    return len(교집합) / len(합집합) * 65536\n",
    "\n",
    "testcase = [\n",
    "    ('FRANCE',\t'french'), \n",
    "    ('handshake', 'shake hands'), \n",
    "    ('aa1+aa2',\t'AAAA12')\n",
    "]\n",
    "\n",
    "for str1, str2 in testcase:\n",
    "    print(solution(str1, str2))"
   ]
  },
  {
   "cell_type": "code",
   "execution_count": null,
   "metadata": {},
   "outputs": [],
   "source": [
    "# 정규식 표현\n",
    "\n",
    "import re\n",
    "\n",
    "testcase = ['1S2D*3T', '1D2S#10S']\n",
    "# 숫자 앞에서 끊음 -> 1S / 2D* / 3T\n",
    "# 첫번째 (): 0-10 그룹핑\n",
    "# 두번째 (): S, D, T중의 하나\n",
    "# 세번째 (): *, #은 나올수도 있고 아닐 수도 있고\n",
    "패턴 = re.compile(r'([0-9]|10)([SDT])([\\*\\#]?)')\n",
    "패턴.findall(testcase[1])"
   ]
  },
  {
   "cell_type": "markdown",
   "metadata": {},
   "source": [
    "다중집합으로 풀었을 때: collections counter를 사용하면 더 편리하게 풀 수 있다"
   ]
  },
  {
   "cell_type": "code",
   "execution_count": 6,
   "metadata": {},
   "outputs": [
    {
     "name": "stdout",
     "output_type": "stream",
     "text": [
      "['fr', 'ra', 'an', 'nc', 'ce'] ['fr', 're', 'en', 'nc', 'ch']\n",
      "0\n",
      "0\n",
      "16384\n",
      "['ha', 'an', 'nd', 'ds', 'sh', 'ha', 'ak', 'ke'] ['sh', 'ha', 'ak', 'ke', 'ha', 'an', 'nd', 'ds']\n",
      "1\n",
      "1\n",
      "65536\n",
      "['aa', 'aa'] ['aa', 'aa', 'aa']\n",
      "1\n",
      "2\n",
      "43690\n"
     ]
    }
   ],
   "source": [
    "import re\n",
    "def solution(str1, str2):\n",
    "    # 소문자로 변환\n",
    "    str1 = str1.lower()\n",
    "    str2 = str2.lower()\n",
    "    \n",
    "    str1List = []\n",
    "    str2List = []\n",
    "    \n",
    "    # 정규식을 통해 특수문자는 버림 ex) 1+는 출력안됨.\n",
    "    패턴 = re.compile(r'[a-z]{2}')\n",
    "    \n",
    "    # 두개씩 잘라내기\n",
    "    for i in range(len(str1)-1):\n",
    "        문자열 = str1[i]+str1[i+1]\n",
    "        if 패턴.findall(문자열):\n",
    "            str1List.append(문자열)\n",
    "        \n",
    "    for i in range(len(str2)-1):\n",
    "        문자열 = str2[i]+str2[i+1]\n",
    "        if 패턴.findall(문자열):\n",
    "            str2List.append(문자열)\n",
    "        \n",
    "    print(str1List, str2List)\n",
    "    \n",
    "    교집합 = set(str1List) & set(str2List)\n",
    "    합집합 = set(str1List) | set(str2List)\n",
    "    \n",
    "    # 교집합의 수 -> min(3, 5)\n",
    "    교집합추가수 = 0\n",
    "    \n",
    "    for i in 교집합:\n",
    "        if str1List.count(i) > 1 and str2List.count(i) > 1:\n",
    "            if str1List.count(i) > str2List.count(i):\n",
    "                교집합추가수 += str2List.count(i)-1 # 작은 것에서 빼고\n",
    "            else:\n",
    "                교집합추가수 += str1List.count(i)-1\n",
    "    print(교집합추가수)\n",
    "    \n",
    "    # 합집합의 수 -> max(3, 5)\n",
    "    합집합추가수 = 0\n",
    "    \n",
    "    for i in 합집합:\n",
    "        if str1List.count(i) > 1 and str2List.count(i) > 1:\n",
    "            if str1List.count(i) > str2List.count(i):\n",
    "                합집합추가수 += str1List.count(i)-1 # 큰 것에서 뺌. 추가수 이기에 -1\n",
    "            else:\n",
    "                합집합추가수 += str2List.count(i)-1\n",
    "    \n",
    "    print(합집합추가수)\n",
    "    \n",
    "    return int((len(교집합) + 교집합추가수) / (len(합집합) + 합집합추가수) * 65536)\n",
    "\n",
    "testcase = [\n",
    "    ('FRANCE',\t'french'), \n",
    "    ('handshake', 'shake hands'), \n",
    "    ('aa1+aa2',\t'AAAA12')\n",
    "]\n",
    "# 올림은 ceil(math 라이브러리 추가), 반올림은 round\n",
    "for str1, str2 in testcase:\n",
    "    print(solution(str1, str2))"
   ]
  },
  {
   "cell_type": "markdown",
   "metadata": {},
   "source": [
    "프로그래머스 오류 발생한 원인 찾기"
   ]
  },
  {
   "cell_type": "code",
   "execution_count": null,
   "metadata": {},
   "outputs": [],
   "source": [
    "# 예외처리 추가\n",
    "if len(str1) <= 1 and len(str2) <= 1:\n",
    "    return 65536"
   ]
  },
  {
   "cell_type": "code",
   "execution_count": null,
   "metadata": {},
   "outputs": [],
   "source": [
    "# 마지막에 추가\n",
    "\n",
    "# 0/0 -> 합집합이 0이면 교집합도 0\n",
    "if (len(합집합) + 합집합추가수) == 0:\n",
    "    return 65536\n",
    "\n",
    "# 0/N -> 교집합이 0\n",
    "if (len(교집합) + 교집합추가수) == 0:\n",
    "    return 0\n"
   ]
  },
  {
   "cell_type": "code",
   "execution_count": null,
   "metadata": {},
   "outputs": [],
   "source": [
    "# 여기서 옵션이 OR로 변경되어야 함\n",
    "\n",
    "for i in 합집합:\n",
    "        # 합집합이기 때문에 count값이 둘다 1보다 크지 않을 수 있음. \n",
    "        if str1List.count(i) > 1 or str2List.count(i) > 1:\n",
    "            if str1List.count(i) > str2List.count(i):\n",
    "                합집합추가수 += str1List.count(i)-1 # 큰 것에서 뺌. 추가수 이기에 -1\n",
    "            else:\n",
    "                합집합추가수 += str2List.count(i)-1"
   ]
  },
  {
   "cell_type": "markdown",
   "metadata": {},
   "source": [
    "수정된 코드"
   ]
  },
  {
   "cell_type": "code",
   "execution_count": 7,
   "metadata": {},
   "outputs": [
    {
     "name": "stdout",
     "output_type": "stream",
     "text": [
      "['fr', 'ra', 'an', 'nc', 'ce'] ['fr', 're', 'en', 'nc', 'ch']\n",
      "16384\n",
      "['ha', 'an', 'nd', 'ds', 'sh', 'ha', 'ak', 'ke'] ['sh', 'ha', 'ak', 'ke', 'ha', 'an', 'nd', 'ds']\n",
      "65536\n",
      "['aa', 'aa'] ['aa', 'aa', 'aa']\n",
      "43690\n"
     ]
    }
   ],
   "source": [
    "import re\n",
    "def solution(str1, str2):\n",
    "    \n",
    "    \"\"\"\n",
    "    예외처리 추가\n",
    "    \"\"\"\n",
    "    if len(str1) <= 1 and len(str2) <= 1:\n",
    "        return 65536\n",
    "    \n",
    "    # 소문자로 변환\n",
    "    str1 = str1.lower()\n",
    "    str2 = str2.lower()\n",
    "    \n",
    "    str1List = []\n",
    "    str2List = []\n",
    "    \n",
    "    # 정규식을 통해 특수문자는 버림 ex) 1+는 출력안됨.\n",
    "    패턴 = re.compile(r'[a-z]{2}')\n",
    "    \n",
    "    # 두개씩 잘라내기\n",
    "    for i in range(len(str1)-1):\n",
    "        문자열 = str1[i]+str1[i+1]\n",
    "        if 패턴.findall(문자열):\n",
    "            str1List.append(문자열)\n",
    "        \n",
    "    for i in range(len(str2)-1):\n",
    "        문자열 = str2[i]+str2[i+1]\n",
    "        if 패턴.findall(문자열):\n",
    "            str2List.append(문자열)\n",
    "        \n",
    "    print(str1List, str2List)\n",
    "    \n",
    "    교집합 = set(str1List) & set(str2List)\n",
    "    합집합 = set(str1List) | set(str2List)\n",
    "    \n",
    "    # 교집합의 수 -> min(3, 5)\n",
    "    교집합추가수 = 0\n",
    "    \n",
    "    for i in 교집합:\n",
    "        if str1List.count(i) > 1 and str2List.count(i) > 1:\n",
    "            if str1List.count(i) > str2List.count(i):\n",
    "                교집합추가수 += str2List.count(i)-1 # 작은 것에서 빼고\n",
    "            else:\n",
    "                교집합추가수 += str1List.count(i)-1\n",
    "\n",
    "    \n",
    "    # 합집합의 수 -> max(3, 5)\n",
    "    합집합추가수 = 0\n",
    "    \n",
    "    for i in 합집합:\n",
    "        if str1List.count(i) > 1 or str2List.count(i) > 1:\n",
    "            if str1List.count(i) > str2List.count(i):\n",
    "                합집합추가수 += str1List.count(i)-1 # 큰 것에서 뺌. 추가수 이기에 -1\n",
    "            else:\n",
    "                합집합추가수 += str2List.count(i)-1\n",
    "                \n",
    "    \"\"\"\n",
    "    마지막에 추가\n",
    "    \"\"\"\n",
    "    # 0/0 -> 합집합이 0이면 교집합도 0\n",
    "    if (len(합집합) + 합집합추가수) == 0:\n",
    "        return 65536\n",
    "    # 0/N -> 교집합이 0\n",
    "    if (len(교집합) + 교집합추가수) == 0:\n",
    "        return 0\n",
    "    \n",
    "    \n",
    "    \n",
    "    return int((len(교집합) + 교집합추가수) / (len(합집합) + 합집합추가수) * 65536)\n",
    "\n",
    "testcase = [\n",
    "    ('FRANCE',\t'french'), \n",
    "    ('handshake', 'shake hands'), \n",
    "    ('aa1+aa2',\t'AAAA12')\n",
    "]\n",
    "# 올림은 ceil(math 라이브러리 추가), 반올림은 round\n",
    "for str1, str2 in testcase:\n",
    "    print(solution(str1, str2))"
   ]
  },
  {
   "cell_type": "code",
   "execution_count": null,
   "metadata": {},
   "outputs": [],
   "source": []
  }
 ],
 "metadata": {
  "kernelspec": {
   "display_name": "Python 3",
   "language": "python",
   "name": "python3"
  },
  "language_info": {
   "codemirror_mode": {
    "name": "ipython",
    "version": 3
   },
   "file_extension": ".py",
   "mimetype": "text/x-python",
   "name": "python",
   "nbconvert_exporter": "python",
   "pygments_lexer": "ipython3",
   "version": "3.11.3"
  }
 },
 "nbformat": 4,
 "nbformat_minor": 2
}
