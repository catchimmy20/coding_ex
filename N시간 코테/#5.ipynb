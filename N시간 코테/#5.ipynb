{
 "cells": [
  {
   "cell_type": "markdown",
   "metadata": {},
   "source": [
    "## 2018 카카오 코딩테스트 4번\n",
    "\n",
    "https://tech.kakao.com/2017/09/27/kakao-blind-recruitment-round-1/"
   ]
  },
  {
   "cell_type": "markdown",
   "metadata": {},
   "source": [
    "#### 출근하지 못한 사람들과 출근한 사람들을 보여주는 코드\n",
    "왜 얘는 에러가 날까?ㅡ?"
   ]
  },
  {
   "cell_type": "code",
   "execution_count": null,
   "metadata": {},
   "outputs": [],
   "source": [
    "# n - 횟수, t - 간격, m - 명\n",
    "\n",
    "def solution(n, t, m, timetable):\n",
    "    # 시간을 분으로 바꿔 정렬\n",
    "    timetable = sorted([int(i[:2])*60 + int(i[3:]) for i in timetable])\n",
    "    \n",
    "    콘의출근시간 = 540 # 9시\n",
    "    출근한사람들 = []\n",
    "    셔틀버스시간 = 540\n",
    "    \n",
    "    # 명만큼 대기가 있다면 빼줌\n",
    "    for i in range(n):\n",
    "        # 한 회차에 태울 수 있는 승객\n",
    "        for j in range(m): \n",
    "            # 시간표에 사람이 있다? = 셔틀버스에 대기가 있는 경우 \n",
    "            if timetable and timetable[0] <= 셔틀버스시간: \n",
    "                출근한사람들.append(timetable.pop(0))\n",
    "                콘의출근시간 = timetable.pop(0) - 1\n",
    "                \n",
    "            # 셔틀 버스에 대기가 없는 경우 -> 셔틀버스 시간에 맞춰서 나와도 됨!\n",
    "            else:\n",
    "                콘의출근시간 = 셔틀버스시간\n",
    "                \n",
    "        셔틀버스시간 += t\n",
    "    return timetable, 출근한사람들\n",
    " \n",
    "testcase = [\n",
    "    (1,1,5,['08:00', '08:01', '08:02', '08:03']), \n",
    "    (2,10,2,['09:10', '09:09', '08:00']), \n",
    "    (1,2,1,['09:00', '09:00', '09:00', '09:00'])\n",
    "    ]\n",
    "\n",
    "for n, t, m, timetable in testcase:\n",
    "    print(solution(n, t, m, timetable))"
   ]
  },
  {
   "cell_type": "markdown",
   "metadata": {},
   "source": [
    "본 코드"
   ]
  },
  {
   "cell_type": "code",
   "execution_count": 14,
   "metadata": {},
   "outputs": [
    {
     "name": "stdout",
     "output_type": "stream",
     "text": [
      "09:00\n",
      "09:09\n",
      "08:59\n"
     ]
    }
   ],
   "source": [
    "# n - 횟수, t - 간격, m - 명\n",
    "\n",
    "def solution(n, t, m, timetable):\n",
    "    # 시간을 분으로 바꿔 정렬\n",
    "    timetable = sorted([int(i[:2])*60 + int(i[3:]) for i in timetable])\n",
    "    \n",
    "    콘의출근시간 = 540 # 9시\n",
    "    셔틀버스시간 = 540\n",
    "    \n",
    "    # 명만큼 대기가 있다면 빼줌\n",
    "    for i in range(n):\n",
    "        # 한 회차에 태울 수 있는 승객\n",
    "        for j in range(m): \n",
    "            # 시간표에 사람이 있다? = 셔틀버스에 대기가 있는 경우 \n",
    "            if timetable and timetable[0] <= 셔틀버스시간: \n",
    "                콘의출근시간 = timetable.pop(0) - 1\n",
    "                \n",
    "            # 셔틀 버스에 대기가 없는 경우 -> 셔틀버스 시간에 맞춰서 나와도 됨!\n",
    "            else:\n",
    "                콘의출근시간 = 셔틀버스시간\n",
    "                \n",
    "        셔틀버스시간 += t\n",
    "    # f''로 포매팅, zfill로 자리 맞춰줌  \n",
    "    # zfill은 int에 쓸 수 없음 -> str로 바꿔주기!!  \n",
    "    return f'{str(콘의출근시간//60).zfill(2)}:{str(콘의출근시간%60).zfill(2)}'\n",
    " \n",
    "testcase = [\n",
    "    (1,1,5,['08:00', '08:01', '08:02', '08:03']), \n",
    "    (2,10,2,['09:10', '09:09', '08:00']), \n",
    "    (1,2,1,['09:00', '09:00', '09:00', '09:00'])\n",
    "    ]\n",
    "\n",
    "for n, t, m, timetable in testcase:\n",
    "    print(solution(n, t, m, timetable))"
   ]
  }
 ],
 "metadata": {
  "kernelspec": {
   "display_name": "Python 3",
   "language": "python",
   "name": "python3"
  },
  "language_info": {
   "codemirror_mode": {
    "name": "ipython",
    "version": 3
   },
   "file_extension": ".py",
   "mimetype": "text/x-python",
   "name": "python",
   "nbconvert_exporter": "python",
   "pygments_lexer": "ipython3",
   "version": "3.11.3"
  }
 },
 "nbformat": 4,
 "nbformat_minor": 2
}
