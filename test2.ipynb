{
 "cells": [
  {
   "cell_type": "code",
   "execution_count": null,
   "metadata": {},
   "outputs": [],
   "source": [
    "teams = [\"Willy Andy\", \"Green Ethan\", \"Nick\", \"Rok\"]\n",
    "\n",
    "# 목표 결과물\n",
    "# teams = [[\"Willy\", \"Andy\"], [\"Green\", \"Ethan\"], \"Nick\", \"Rok\"]\n",
    "\n",
    "n_teams = [team.split() if ' ' in team else team for team in teams]\n",
    "n_teams"
   ]
  },
  {
   "cell_type": "code",
   "execution_count": null,
   "metadata": {},
   "outputs": [],
   "source": [
    "def color(r, c, puzzle):\n",
    "    # 색칠하는 경우의 수를 계산하는 재귀 함수\n",
    "    def count_ways(i, j, prev_color):\n",
    "        # 기저 사례: 모든 퍼즐 조각을 색칠하였을 경우\n",
    "        if i == r:\n",
    "            return 1\n",
    "\n",
    "        # 다음 퍼즐 조각의 위치 계산\n",
    "        next_i = i + 1 if j == c - 1 else i\n",
    "        next_j = 0 if j == c - 1 else j + 1\n",
    "\n",
    "        # 색칠하는 경우의 수를 저장하는 변수\n",
    "        ways = 0\n",
    "\n",
    "       # 모든 색을 시도\n",
    "        for color in puzzle[i][j]:\n",
    "            # 이전 퍼즐 조각과 같은 색을 사용하지 않는 경우만 고려\n",
    "            if color != prev_color:\n",
    "                ways += count_ways(next_i, next_j, color)\n",
    "        return ways\n",
    "\n",
    "    # 첫 번째 퍼즐 조각을 색칠하는 경우의 수를 계산\n",
    "    return sum(count_ways(0, 0, color) for color in puzzle)\n"
   ]
  },
  {
   "cell_type": "code",
   "execution_count": null,
   "metadata": {},
   "outputs": [],
   "source": [
    "def color(r, c, puzzle):\n",
    "    # 1차원 배열인 경우 2차원 배열로 변환\n",
    "    if not all(isinstance(i, list) for i in puzzle):\n",
    "        puzzle = [puzzle]\n",
    "\n",
    "    # 색칠하는 경우의 수를 계산하는 재귀 함수\n",
    "    def count_ways(i, j, prev_color):\n",
    "        # 기저 사례: 모든 퍼즐 조각을 색칠하였을 경우\n",
    "        if i == r:\n",
    "            return 1\n",
    "\n",
    "        # 다음 퍼즐 조각의 위치 계산\n",
    "        next_i = i + 1 if j == c - 1 else i\n",
    "        next_j = 0 if j == c - 1 else j + 1\n",
    "\n",
    "        # 색칠하는 경우의 수를 저장하는 변수\n",
    "        ways = 0\n",
    "\n",
    "        # 모든 색을 시도\n",
    "        for color in puzzle[i][j]:\n",
    "            # 이전 퍼즐 조각과 같은 색을 사용하지 않는 경우만 고려\n",
    "            if color != prev_color:\n",
    "                ways += count_ways(next_i, next_j, color)\n",
    "\n",
    "        return ways\n",
    "\n",
    "    # 첫 번째 퍼즐 조각을 색칠하는 경우의 수를 계산\n",
    "    return sum(count_ways(0, 0, color) for color in puzzle[0][0])\n",
    "\n",
    "\n",
    "print(color(2, 3, [['Willy', 'Andy'], ['Green', 'Ethan'], 'Nick', 'Rok']))\n"
   ]
  },
  {
   "cell_type": "code",
   "execution_count": null,
   "metadata": {},
   "outputs": [],
   "source": []
  }
 ],
 "metadata": {
  "kernelspec": {
   "display_name": "Python 3",
   "language": "python",
   "name": "python3"
  },
  "language_info": {
   "codemirror_mode": {
    "name": "ipython",
    "version": 3
   },
   "file_extension": ".py",
   "mimetype": "text/x-python",
   "name": "python",
   "nbconvert_exporter": "python",
   "pygments_lexer": "ipython3",
   "version": "3.11.3"
  }
 },
 "nbformat": 4,
 "nbformat_minor": 2
}
