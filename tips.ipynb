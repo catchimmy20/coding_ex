{
 "cells": [
  {
   "cell_type": "markdown",
   "metadata": {},
   "source": [
    "2차원 배열 초기화"
   ]
  },
  {
   "cell_type": "code",
   "execution_count": 1,
   "metadata": {},
   "outputs": [
    {
     "name": "stdout",
     "output_type": "stream",
     "text": [
      "[[0, 0, 0], [0, 0, 0], [0, 0, 0], [0, 0, 0]]\n"
     ]
    }
   ],
   "source": [
    "# n * m배열\n",
    "n = 4\n",
    "m = 3\n",
    "array = [[0]*m for _ in range(n)]\n",
    "print(array)"
   ]
  },
  {
   "cell_type": "markdown",
   "metadata": {},
   "source": [
    "리스트에서 특정 값을 가지는 원소를 모두 제거하기"
   ]
  },
  {
   "cell_type": "code",
   "execution_count": 1,
   "metadata": {},
   "outputs": [
    {
     "data": {
      "text/plain": [
       "[1, 2, 4]"
      ]
     },
     "execution_count": 1,
     "metadata": {},
     "output_type": "execute_result"
    }
   ],
   "source": [
    "a = [1, 2, 3, 4, 5, 5, 5]\n",
    "# 집합 자료형 - 특정 값의 유무를 확인할 때 유용\n",
    "remove_set = {3, 5} \n",
    "\n",
    "# remove_set에 포함되지 않은 값만을 저장\n",
    "result = [i for i in a if i not in remove_set]\n",
    "result"
   ]
  },
  {
   "cell_type": "markdown",
   "metadata": {},
   "source": [
    "#### 튜플을 사용하면 좋은 경우\n",
    "- 서로 다른 성질의 데이터를 묶어서 관리해야할 때<br>\n",
    "-> 최단 경로 알고리즘에서는 (비용, 노드번호)의 형태로 튜플 자료형을 자주 사용\n",
    "- 데이터의 나열을 해싱의 키 값으로 사용해야할 때<br>\n",
    "-> 튜플은 변경이 불가능하므로 리스트와 다르게 키 값으로 사용할 수 있음\n",
    "- 리스트보다 메모리를 효율적으로 사용해야할 때 "
   ]
  },
  {
   "cell_type": "markdown",
   "metadata": {},
   "source": [
    "#### 집합 자료형\n",
    "- 중복을 허용하지 않음\n",
    "- 순서가 없음\n",
    "- 리스트 or 문자열을 이용해서 초기화 가능(set()함수 사용)\n",
    "- or {}안에 각 원소를 콤마를 기준으로 삽입하여 초기화 가능\n",
    "- 데이터의 조회 및 수정에 있어서 O(1)의 시간에 처리가능"
   ]
  },
  {
   "cell_type": "code",
   "execution_count": 6,
   "metadata": {},
   "outputs": [
    {
     "name": "stdout",
     "output_type": "stream",
     "text": [
      "{1, 2, 3, 4, 5}\n",
      "{1, 2, 3, 4, 5}\n",
      "-----------------\n",
      "합집합 {1, 2, 3, 4, 5, 6, 7}\n",
      "교집합 {3, 4, 5}\n",
      "차집합 {1, 2}\n"
     ]
    }
   ],
   "source": [
    "# 집합 자료형 초기화 방법1\n",
    "data = set([1, 1, 2, 3, 4, 4, 5])\n",
    "print(data)\n",
    "\n",
    "data2 = {1, 1, 2, 3, 4, 4, 5}\n",
    "print(data2)\n",
    "\n",
    "print(\"-----------------\")\n",
    "\n",
    "# 집합 자료형 연산\n",
    "a = set([1, 2, 3, 4, 5])\n",
    "b = set([3, 4, 5, 6, 7])\n",
    "\n",
    "# 합집합\n",
    "print(\"합집합\", a | b)\n",
    "\n",
    "# 교집합\n",
    "print(\"교집합\", a & b)\n",
    "\n",
    "# 차집합\n",
    "print(\"차집합\", a - b)"
   ]
  },
  {
   "cell_type": "code",
   "execution_count": 7,
   "metadata": {},
   "outputs": [
    {
     "name": "stdout",
     "output_type": "stream",
     "text": [
      "{1, 2, 3}\n",
      "{1, 2, 3, 4}\n",
      "{1, 2, 3, 4, 5, 6}\n",
      "{1, 2, 4, 5, 6}\n"
     ]
    }
   ],
   "source": [
    "# 집합 자료형 관련 함수\n",
    "\n",
    "data = set([1, 2, 3])\n",
    "print(data)\n",
    "\n",
    "# 새로운 원소 추가\n",
    "data.add(4)\n",
    "print(data)\n",
    "\n",
    "# 새로운 원소 여러 개 추가\n",
    "data.update([5, 6])\n",
    "print(data)\n",
    "\n",
    "# 특정 값을 갖는 원소 삭제\n",
    "data.remove(3)\n",
    "print(data)"
   ]
  },
  {
   "cell_type": "markdown",
   "metadata": {},
   "source": [
    "#### 자주 사용되는 표준입력 방법\n",
    "- input(): 한줄의 문자열을 입력 받음\n",
    "- map(): 리스트의 모든 원소에 각각 특정한 함수 적용할 때 사용<br>\n",
    "\n",
    "ex 1) 공백을 기준으로 구분된 데이터 입력받음(list)<br>\n",
    "-> list(map(int, input().split()))\n",
    "\n",
    "ex 2) 데이터 개수가 많지 않다면 단순하게 사용 <br>\n",
    "-> a, b, c = map(int, input().split())"
   ]
  },
  {
   "cell_type": "markdown",
   "metadata": {},
   "source": [
    "#### 빠르게 입력받기\n",
    "- sys.stdin.readline() 메서드 이용\n",
    "- 입력 후 엔터가 줄바꿈 기호로 입력되므로 rstrip() 메서드 함께 이용"
   ]
  },
  {
   "cell_type": "code",
   "execution_count": null,
   "metadata": {},
   "outputs": [],
   "source": [
    "import sys\n",
    "\n",
    "data = sys.stdin.readline().rstrip()\n",
    "print(data)"
   ]
  },
  {
   "cell_type": "markdown",
   "metadata": {},
   "source": [
    "#### 표준 출력 방법\n",
    "- print(): 기본적으로 출력 이후에 줄바꿈 수행\n",
    "- 줄바꿈 원치 않는 경우 end속성 사용"
   ]
  },
  {
   "cell_type": "code",
   "execution_count": null,
   "metadata": {},
   "outputs": [],
   "source": [
    "a = 1\n",
    "b = 2\n",
    "print(a, b)\n",
    "print(7, end=\" \")\n",
    "print(8, end=\" \")\n",
    "\n",
    "answer = 7\n",
    "# 파이썬은 문자형 + 정수형이 안되기에 문자형으로 만들어줘야 함.\n",
    "print(\"정답은\" + str(answer) + \"입니다\")"
   ]
  },
  {
   "cell_type": "markdown",
   "metadata": {},
   "source": [
    "#### f-string 예제\n",
    "- 파이썬 3.6부터 사용 가능\n",
    "- 중괄호 안에 변수명 기입, 간단히 문자열, 정수 넣을 수 있음<br>\n",
    "https://blockdmask.tistory.com/429"
   ]
  },
  {
   "cell_type": "code",
   "execution_count": null,
   "metadata": {},
   "outputs": [],
   "source": [
    "answer = 9\n",
    "print(f\"정답은 {answer}입니다.\")"
   ]
  },
  {
   "cell_type": "markdown",
   "metadata": {},
   "source": [
    "#### 파이썬 조건문 내에서 부등식\n",
    "- 다른 언어와 다르게 파이썬은 수학의 부등식을 그대로 사용 가능\n",
    "- x > 0 and x < 20과 0 < x < 20은 같은 결과를 반환"
   ]
  },
  {
   "cell_type": "markdown",
   "metadata": {},
   "source": [
    "#### 파이썬 continue 키워드\n",
    "- 반복문에서 남은 코드의 실행을 건너뛰고 다음 반복을 진행하고자 할때 사용"
   ]
  },
  {
   "cell_type": "code",
   "execution_count": 9,
   "metadata": {},
   "outputs": [
    {
     "name": "stdout",
     "output_type": "stream",
     "text": [
      "25\n"
     ]
    }
   ],
   "source": [
    "# 1~9까지의 홀수의 합 구하기\n",
    "result = 0\n",
    "\n",
    "for i in range(1, 10):\n",
    "    if i%2 == 0:\n",
    "        continue\n",
    "    result += i\n",
    "    \n",
    "print(result)"
   ]
  },
  {
   "cell_type": "code",
   "execution_count": 10,
   "metadata": {},
   "outputs": [
    {
     "name": "stdout",
     "output_type": "stream",
     "text": [
      "1 번 학생은 합격입니다.\n",
      "5 번 학생은 합격입니다.\n"
     ]
    }
   ],
   "source": [
    "# 특정 번호 학생은 제외하기\n",
    "scores = [90, 86, 75, 65, 98]\n",
    "cheating_students = {2, 4}\n",
    "\n",
    "for i in range(5):\n",
    "    if i+1 in cheating_students:\n",
    "        continue\n",
    "    if scores[i] > 80:\n",
    "        print(i+1, \"번 학생은 합격입니다.\")"
   ]
  },
  {
   "cell_type": "markdown",
   "metadata": {},
   "source": [
    "#### global 키워드\n",
    "- global 키워드로 변수를 지정하면 해당 함수에서는 지역변수를 만들지 않음.\n",
    "- 함수 바깥에 선언된 변수를 바로 참조"
   ]
  },
  {
   "cell_type": "code",
   "execution_count": 11,
   "metadata": {},
   "outputs": [
    {
     "name": "stdout",
     "output_type": "stream",
     "text": [
      "10\n"
     ]
    }
   ],
   "source": [
    "a = 0\n",
    "def func():\n",
    "    global a\n",
    "    a += 1\n",
    "    \n",
    "[func() for i in range(10)]\n",
    "\n",
    "print(a)"
   ]
  },
  {
   "cell_type": "markdown",
   "metadata": {},
   "source": [
    "#### 파이썬 - 여러개의 반환값을 가질 수 있음."
   ]
  },
  {
   "cell_type": "code",
   "execution_count": 12,
   "metadata": {},
   "outputs": [
    {
     "name": "stdout",
     "output_type": "stream",
     "text": [
      "10 -4 21 0.42857142857142855\n"
     ]
    }
   ],
   "source": [
    "def operator(a, b):\n",
    "    add = a + b\n",
    "    subtract = a - b\n",
    "    multiply = a * b\n",
    "    divide = a / b\n",
    "    return add, subtract, multiply, divide # 패킹\n",
    "\n",
    "a, b, c, d = operator(3, 7) # 언패킹\n",
    "print(a, b, c, d)"
   ]
  },
  {
   "cell_type": "markdown",
   "metadata": {},
   "source": [
    "#### 람다 표현식\n",
    "- 함수를 간단하게 작성 가능\n",
    "- 이름 없는 함수라고도 부름<br>\n",
    "https://wikidocs.net/64"
   ]
  },
  {
   "cell_type": "code",
   "execution_count": 13,
   "metadata": {},
   "outputs": [
    {
     "name": "stdout",
     "output_type": "stream",
     "text": [
      "10\n",
      "10\n"
     ]
    }
   ],
   "source": [
    "def add(a, b):\n",
    "    return a + b\n",
    "\n",
    "print(add(3, 7))\n",
    "\n",
    "# 람다 표현식\n",
    "print((lambda a, b: a+b)(3, 7))"
   ]
  },
  {
   "cell_type": "code",
   "execution_count": 1,
   "metadata": {},
   "outputs": [
    {
     "name": "stdout",
     "output_type": "stream",
     "text": [
      "[('이순신', 32), ('홍길동', 50), ('아무개', 74)]\n",
      "[('이순신', 32), ('홍길동', 50), ('아무개', 74)]\n"
     ]
    }
   ],
   "source": [
    "# 람다표현식 예시: 자주 쓰이는 람다 함수\n",
    "array = [('홍길동', 50), ('이순신', 32), ('아무개', 74)]\n",
    "\n",
    "def my_key(x):\n",
    "    return x[1]\n",
    "\n",
    "print(sorted(array, key=my_key))\n",
    "\n",
    "print(sorted(array, key=lambda x:x[1]))"
   ]
  },
  {
   "cell_type": "code",
   "execution_count": 2,
   "metadata": {},
   "outputs": [
    {
     "name": "stdout",
     "output_type": "stream",
     "text": [
      "[7, 9, 11, 13, 15]\n"
     ]
    }
   ],
   "source": [
    "# 람다표현식 예시: 여러개의 리스트에 적용\n",
    "list1 = [1, 2, 3, 4, 5]\n",
    "list2 = [6, 7, 8, 9, 10]\n",
    "\n",
    "result = map(lambda a, b:a + b, list1, list2)\n",
    "print(list(result))"
   ]
  },
  {
   "cell_type": "markdown",
   "metadata": {},
   "source": [
    "#### 자주 사용되는 내장함수\n",
    "- sum(), min(), max(), eval()\n",
    "- eval(): https://blockdmask.tistory.com/437"
   ]
  },
  {
   "cell_type": "code",
   "execution_count": 3,
   "metadata": {},
   "outputs": [
    {
     "data": {
      "text/plain": [
       "56"
      ]
     },
     "execution_count": 3,
     "metadata": {},
     "output_type": "execute_result"
    }
   ],
   "source": [
    "# eval(): 매개변수로 받은 expression (=식)을 문자열로 받아서, 실행하는 함수\n",
    "result = eval(\"(3 + 5) * 7\")\n",
    "result"
   ]
  },
  {
   "cell_type": "code",
   "execution_count": 5,
   "metadata": {},
   "outputs": [
    {
     "name": "stdout",
     "output_type": "stream",
     "text": [
      "[1, 4, 5, 6, 9]\n",
      "[9, 6, 5, 4, 1]\n",
      "[('아무개', 74), ('홍길동', 50), ('이순신', 32)]\n"
     ]
    }
   ],
   "source": [
    "# sorted()\n",
    "result = sorted([9, 1, 4, 5, 6])\n",
    "reversed_result = sorted([9, 1, 4, 5, 6], reverse=True) # 내림차순\n",
    "print(result)\n",
    "print(reversed_result)\n",
    "\n",
    "# sorted with key\n",
    "array = [('홍길동', 50), ('이순신', 32), ('아무개', 74)]\n",
    "result = sorted(array, key=lambda x:x[1], reverse=True)\n",
    "print(result)"
   ]
  },
  {
   "cell_type": "markdown",
   "metadata": {},
   "source": [
    "#### 최대공약수와 최소공배수\n",
    "- 최대공약수: math라이브러리의 gcd() 사용"
   ]
  },
  {
   "cell_type": "code",
   "execution_count": 6,
   "metadata": {},
   "outputs": [
    {
     "name": "stdout",
     "output_type": "stream",
     "text": [
      "최대공약수: 7\n",
      "최소공배수: 42\n"
     ]
    }
   ],
   "source": [
    "import math\n",
    "\n",
    "# 최소공배수(lcm)를 구하는 함수\n",
    "def lcm(a, b):\n",
    "    return a * b // math.gcd(a, b)\n",
    "\n",
    "a = 21\n",
    "b = 14\n",
    "\n",
    "print(\"최대공약수:\", math.gcd(21, 14))\n",
    "print(\"최소공배수:\", lcm(21, 14))"
   ]
  },
  {
   "cell_type": "code",
   "execution_count": null,
   "metadata": {},
   "outputs": [],
   "source": []
  }
 ],
 "metadata": {
  "kernelspec": {
   "display_name": "Python 3",
   "language": "python",
   "name": "python3"
  },
  "language_info": {
   "codemirror_mode": {
    "name": "ipython",
    "version": 3
   },
   "file_extension": ".py",
   "mimetype": "text/x-python",
   "name": "python",
   "nbconvert_exporter": "python",
   "pygments_lexer": "ipython3",
   "version": "3.11.3"
  }
 },
 "nbformat": 4,
 "nbformat_minor": 2
}
