{
 "cells": [
  {
   "cell_type": "markdown",
   "metadata": {},
   "source": [
    "#### 07 UserDict, UserList, UserString\n",
    "- 문제 없이 메서드를 오버라이딩할 수 있기에 dict, list, str을 상속하는 것보다 UserDict, UserList, UserString을 상속하는 것이 좋음\n",
    "- but, 간단하게 사용할 때는 dict, list, str를 상속받아 사용하기"
   ]
  },
  {
   "cell_type": "code",
   "execution_count": 5,
   "metadata": {},
   "outputs": [
    {
     "data": {
      "text/plain": [
       "True"
      ]
     },
     "execution_count": 5,
     "metadata": {},
     "output_type": "execute_result"
    }
   ],
   "source": [
    "from collections import UserDict, UserList, UserString\n",
    "\n",
    "class CustomDict(UserDict):\n",
    "    def contain_value(self, values):\n",
    "        return values in self.data.values()\n",
    "    \n",
    "d = CustomDict()\n",
    "dir(d)\n",
    "d['one'] = 1\n",
    "d['two'] = 2\n",
    "'one' in d # True\n",
    "d # {'one': 1, 'two': 2}\n",
    "type(d.data) # dict\n",
    "d.data # {'one': 1, 'two': 2}\n",
    "d.contain_value(1) # True"
   ]
  },
  {
   "cell_type": "code",
   "execution_count": null,
   "metadata": {},
   "outputs": [],
   "source": []
  }
 ],
 "metadata": {
  "kernelspec": {
   "display_name": "Python 3",
   "language": "python",
   "name": "python3"
  },
  "language_info": {
   "codemirror_mode": {
    "name": "ipython",
    "version": 3
   },
   "file_extension": ".py",
   "mimetype": "text/x-python",
   "name": "python",
   "nbconvert_exporter": "python",
   "pygments_lexer": "ipython3",
   "version": "3.11.3"
  }
 },
 "nbformat": 4,
 "nbformat_minor": 2
}
