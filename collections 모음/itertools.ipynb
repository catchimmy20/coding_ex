{
 "cells": [
  {
   "cell_type": "markdown",
   "metadata": {},
   "source": [
    "#### 코테, 알고리즘에서 많이 사용되는 모듈\n",
    "- re\n",
    "- math\n",
    "- numpy\n",
    "- pandas\n",
    "- collections\n",
    "- functools\n",
    "- itertools"
   ]
  },
  {
   "cell_type": "markdown",
   "metadata": {},
   "source": [
    "izip, imap, islice, ifilter -> 성능향상"
   ]
  },
  {
   "cell_type": "markdown",
   "metadata": {},
   "source": [
    "### itertools 모듈\n",
    "https://velog.io/@aonee/Python-itertools-%EB%AA%A8%EB%93%88%EC%9D%84-%EC%9D%B4%EC%9A%A9%ED%95%B4-%ED%8E%B8%EB%A6%AC%ED%95%98%EA%B2%8C-%EB%B0%98%EB%B3%B5%EC%9E%90%EB%A5%BC-%EB%A7%8C%EB%93%A4%EC%9E%90"
   ]
  },
  {
   "cell_type": "markdown",
   "metadata": {},
   "source": [
    "#### 1. Count"
   ]
  },
  {
   "cell_type": "code",
   "execution_count": null,
   "metadata": {},
   "outputs": [],
   "source": [
    "def count(start=0, step=1):\n",
    "    # count(10) --> 10 11 12 13 14 ...\n",
    "    # 소수점으로도 가능\n",
    "    # count(2.5, 0.5) --> 2.5 3.0 3.5 ...\n",
    "    n = start\n",
    "    while True:\n",
    "        yield n\n",
    "        n += step"
   ]
  },
  {
   "cell_type": "markdown",
   "metadata": {},
   "source": [
    "파이썬의 yield 키워드와 제너레이터(generator)\n",
    "https://www.daleseo.com/python-yield/"
   ]
  },
  {
   "cell_type": "code",
   "execution_count": 1,
   "metadata": {},
   "outputs": [
    {
     "name": "stdout",
     "output_type": "stream",
     "text": [
      "0, a\n",
      "0.5, b\n",
      "1.0, c\n"
     ]
    }
   ],
   "source": [
    "import itertools\n",
    "\n",
    "for c, s in zip(itertools.count(0, 0.5), 'abc'):\n",
    "    print(f'{c}, {s}')"
   ]
  },
  {
   "cell_type": "markdown",
   "metadata": {},
   "source": [
    "#### 2. cycle"
   ]
  },
  {
   "cell_type": "code",
   "execution_count": 3,
   "metadata": {},
   "outputs": [
    {
     "name": "stdout",
     "output_type": "stream",
     "text": [
      "0, a\n",
      "1, b\n",
      "2, c\n",
      "0, d\n",
      "1, e\n",
      "2, f\n",
      "0, g\n",
      "1, h\n"
     ]
    }
   ],
   "source": [
    "for c, s in zip(itertools.cycle(range(3)), 'abcdefgh'):\n",
    "    print(f'{c}, {s}')"
   ]
  },
  {
   "cell_type": "markdown",
   "metadata": {},
   "source": [
    "#### 3. repeat"
   ]
  },
  {
   "cell_type": "code",
   "execution_count": 7,
   "metadata": {},
   "outputs": [
    {
     "data": {
      "text/plain": [
       "[0, 1, 4, 9, 64]"
      ]
     },
     "execution_count": 7,
     "metadata": {},
     "output_type": "execute_result"
    }
   ],
   "source": [
    "# 제곱수를 구함\n",
    "# 0^2, 1^2, 2^2, 3^2, 4^3...\n",
    "# 일일이 넣기가 힘듦\n",
    "list(map(pow, range(10), [2, 2, 2, 2, 3]))"
   ]
  },
  {
   "cell_type": "code",
   "execution_count": 8,
   "metadata": {},
   "outputs": [
    {
     "data": {
      "text/plain": [
       "[0, 1, 4, 9, 16, 25, 36, 49, 64, 81]"
      ]
     },
     "execution_count": 8,
     "metadata": {},
     "output_type": "execute_result"
    }
   ],
   "source": [
    "# 0~9까지 전부 제곱한 값 출력\n",
    "list(map(pow, range(10), itertools.repeat(2)))"
   ]
  },
  {
   "cell_type": "code",
   "execution_count": 9,
   "metadata": {},
   "outputs": [
    {
     "data": {
      "text/plain": [
       "8"
      ]
     },
     "execution_count": 9,
     "metadata": {},
     "output_type": "execute_result"
    }
   ],
   "source": [
    "pow(2, 3) # 8"
   ]
  },
  {
   "cell_type": "code",
   "execution_count": 10,
   "metadata": {},
   "outputs": [
    {
     "data": {
      "text/plain": [
       "['abc', 'abc', 'abc']"
      ]
     },
     "execution_count": 10,
     "metadata": {},
     "output_type": "execute_result"
    }
   ],
   "source": [
    "# list안에 요소가 반복적으로 들어감\n",
    "list(itertools.repeat('abc', 3))"
   ]
  },
  {
   "cell_type": "markdown",
   "metadata": {},
   "source": [
    "#### 4. groupby\n",
    "itertools.groupby(iterable, key=None)"
   ]
  },
  {
   "cell_type": "code",
   "execution_count": 11,
   "metadata": {},
   "outputs": [
    {
     "data": {
      "text/plain": [
       "['A', 'B', 'C', 'D', 'A', 'B']"
      ]
     },
     "execution_count": 11,
     "metadata": {},
     "output_type": "execute_result"
    }
   ],
   "source": [
    "from itertools import groupby\n",
    "\n",
    "# 그룹으로 묶인 알파벳의 개수는 알 수 없음\n",
    "[k for k, g in groupby('AAAABBBCCDAABBB')] \n"
   ]
  },
  {
   "cell_type": "code",
   "execution_count": 12,
   "metadata": {},
   "outputs": [
    {
     "data": {
      "text/plain": [
       "[['A', 'A', 'A', 'A'], ['B', 'B', 'B'], ['C', 'C'], ['D']]"
      ]
     },
     "execution_count": 12,
     "metadata": {},
     "output_type": "execute_result"
    }
   ],
   "source": [
    "# 그룹으로 묶인 리스트를 출력\n",
    "[list(g) for k, g in groupby('AAAABBBCCD')] "
   ]
  },
  {
   "cell_type": "code",
   "execution_count": 13,
   "metadata": {},
   "outputs": [
    {
     "data": {
      "text/plain": [
       "[<itertools._grouper at 0x218b631f520>,\n",
       " <itertools._grouper at 0x218b631f820>,\n",
       " <itertools._grouper at 0x218b631d3f0>,\n",
       " <itertools._grouper at 0x218b631e980>]"
      ]
     },
     "execution_count": 13,
     "metadata": {},
     "output_type": "execute_result"
    }
   ],
   "source": [
    "[g for k, g in groupby('AAAABBBCCD')] "
   ]
  },
  {
   "cell_type": "code",
   "execution_count": 14,
   "metadata": {},
   "outputs": [
    {
     "data": {
      "text/plain": [
       "[(('미미', 100000), <itertools._grouper at 0x218b631f250>),\n",
       " (('곰이', 3000), <itertools._grouper at 0x218b631e6b0>),\n",
       " (('탐이', 5000), <itertools._grouper at 0x218b631f310>),\n",
       " (('미미', 2000), <itertools._grouper at 0x218b631d210>),\n",
       " (('곰이', 50000), <itertools._grouper at 0x218b631ea70>),\n",
       " (('미미', 6000), <itertools._grouper at 0x218b631fcd0>)]"
      ]
     },
     "execution_count": 14,
     "metadata": {},
     "output_type": "execute_result"
    }
   ],
   "source": [
    "지출액 = [\n",
    "    ('미미', 100000),\n",
    "    ('곰이', 3000),\n",
    "    ('탐이', 5000),\n",
    "    ('미미', 2000),\n",
    "    ('곰이', 50000),\n",
    "    ('미미', 6000)\n",
    "]\n",
    "\n",
    "# 정렬하기 전에는 제대로 묶이지 않음\n",
    "list(itertools.groupby(지출액))"
   ]
  },
  {
   "cell_type": "code",
   "execution_count": 15,
   "metadata": {},
   "outputs": [
    {
     "data": {
      "text/plain": [
       "[('곰이', 3000),\n",
       " ('곰이', 50000),\n",
       " ('미미', 100000),\n",
       " ('미미', 2000),\n",
       " ('미미', 6000),\n",
       " ('탐이', 5000)]"
      ]
     },
     "execution_count": 15,
     "metadata": {},
     "output_type": "execute_result"
    }
   ],
   "source": [
    "지출액 = sorted(지출액, key=lambda x:x[0])\n",
    "지출액"
   ]
  },
  {
   "cell_type": "code",
   "execution_count": 16,
   "metadata": {},
   "outputs": [
    {
     "data": {
      "text/plain": [
       "[('곰이', <itertools._grouper at 0x218b631fc40>),\n",
       " ('미미', <itertools._grouper at 0x218b631f970>),\n",
       " ('탐이', <itertools._grouper at 0x218b631f2e0>)]"
      ]
     },
     "execution_count": 16,
     "metadata": {},
     "output_type": "execute_result"
    }
   ],
   "source": [
    "list(itertools.groupby(지출액, lambda x:x[0]))"
   ]
  },
  {
   "cell_type": "code",
   "execution_count": 17,
   "metadata": {},
   "outputs": [
    {
     "name": "stdout",
     "output_type": "stream",
     "text": [
      "곰이 : [('곰이', 3000), ('곰이', 50000)]\n",
      "미미 : [('미미', 100000), ('미미', 2000), ('미미', 6000)]\n",
      "탐이 : [('탐이', 5000)]\n"
     ]
    }
   ],
   "source": [
    "# 묶인 이름의 총 지출액 구하기 - 이름별로 지출 묶기\n",
    "for 이름, 총지출 in itertools.groupby(지출액, lambda x:x[0]):\n",
    "    print(f'{이름} : {[i for i in 총지출]}')"
   ]
  },
  {
   "cell_type": "code",
   "execution_count": 18,
   "metadata": {},
   "outputs": [
    {
     "name": "stdout",
     "output_type": "stream",
     "text": [
      "곰이 : 53000\n",
      "미미 : 108000\n",
      "탐이 : 5000\n"
     ]
    }
   ],
   "source": [
    "# 묶인 이름의 총 지출액 구하기 \n",
    "for 이름, 총지출 in itertools.groupby(지출액, lambda x:x[0]):\n",
    "    print(f'{이름} : {sum([i[1] for i in 총지출])}')"
   ]
  },
  {
   "cell_type": "markdown",
   "metadata": {},
   "source": [
    "#### 5. dropwhile\n",
    "- 조건과 반복자를 입력받아 조건이 최초로 False를 반환하는 시점에 해당하는 요소들을 반환\n",
    "- takewhile과 반대\n",
    "- takewhile, dropwhile 둘다 순회를 하면서 멈춤 <br>\n",
    "https://sticky-ai.github.io/python/2020/03/14/python_itertools_dropwhile/"
   ]
  },
  {
   "cell_type": "code",
   "execution_count": 19,
   "metadata": {},
   "outputs": [
    {
     "data": {
      "text/plain": [
       "[6, 7, 8, 9]"
      ]
     },
     "execution_count": 19,
     "metadata": {},
     "output_type": "execute_result"
    }
   ],
   "source": [
    "list(itertools.dropwhile(lambda x: x <= 5, range(10)))"
   ]
  },
  {
   "cell_type": "code",
   "execution_count": null,
   "metadata": {},
   "outputs": [],
   "source": [
    "# filter: 조건에 맞는 것을 출력\n",
    "list(itertools.filter(lambda x: x <= 5, range(10)))"
   ]
  },
  {
   "cell_type": "markdown",
   "metadata": {},
   "source": [
    "#### 6. tee\n",
    "\n",
    "- tee () 함수는 두 개의 매개 변수를 사용한다\n",
    "- 첫 번째는 반복 가능\n",
    "- 두 번째는 만들고자하는 복사본 개수\n",
    "\n",
    "한번 사용된 레퍼런스는 더 이상 값을 참조 하지 않는다."
   ]
  },
  {
   "cell_type": "code",
   "execution_count": 2,
   "metadata": {},
   "outputs": [],
   "source": [
    "import itertools\n",
    "a, b = itertools.tee(range(10), 2)"
   ]
  },
  {
   "cell_type": "code",
   "execution_count": 3,
   "metadata": {},
   "outputs": [
    {
     "data": {
      "text/plain": [
       "[0, 1, 2, 3, 4, 5, 6, 7, 8, 9]"
      ]
     },
     "execution_count": 3,
     "metadata": {},
     "output_type": "execute_result"
    }
   ],
   "source": [
    "list(a)\n",
    "# [0, 1, 2, 3, 4, 5, 6, 7, 8, 9]"
   ]
  },
  {
   "cell_type": "code",
   "execution_count": 4,
   "metadata": {},
   "outputs": [
    {
     "data": {
      "text/plain": [
       "[0, 1, 2, 3, 4, 5, 6, 7, 8, 9]"
      ]
     },
     "execution_count": 4,
     "metadata": {},
     "output_type": "execute_result"
    }
   ],
   "source": [
    "list(b)\n",
    "# [0, 1, 2, 3, 4, 5, 6, 7, 8, 9]"
   ]
  },
  {
   "cell_type": "code",
   "execution_count": 5,
   "metadata": {},
   "outputs": [
    {
     "data": {
      "text/plain": [
       "[]"
      ]
     },
     "execution_count": 5,
     "metadata": {},
     "output_type": "execute_result"
    }
   ],
   "source": [
    "list(a)\n",
    "# []"
   ]
  },
  {
   "cell_type": "markdown",
   "metadata": {},
   "source": [
    "#### 7. zip_longest"
   ]
  },
  {
   "cell_type": "code",
   "execution_count": 6,
   "metadata": {},
   "outputs": [
    {
     "data": {
      "text/plain": [
       "[('A', 'x'), ('B', 'y'), ('C', '-'), ('D', '-')]"
      ]
     },
     "execution_count": 6,
     "metadata": {},
     "output_type": "execute_result"
    }
   ],
   "source": [
    "list(itertools.zip_longest('ABCD', 'xy', fillvalue='-'))\n",
    "# CD를 -로 매핑\n",
    "# [('A', 'x'), ('B', 'y'), ('C', '-'), ('D', '-')]"
   ]
  },
  {
   "cell_type": "code",
   "execution_count": 8,
   "metadata": {},
   "outputs": [
    {
     "data": {
      "text/plain": [
       "[('A', 'x'), ('B', 'y')]"
      ]
     },
     "execution_count": 8,
     "metadata": {},
     "output_type": "execute_result"
    }
   ],
   "source": [
    "list(zip('ABCD', 'xy'))\n",
    "# CD는 매핑이 되지 않음.\n",
    "# [('A', 'x'), ('B', 'y')]"
   ]
  },
  {
   "cell_type": "markdown",
   "metadata": {},
   "source": [
    "#### 8. 순열과 조합\n",
    "- collections의 Counter와 많이 조합\n",
    "- 특정한 요소의 개수를 세는 형태로 많이 출제"
   ]
  },
  {
   "cell_type": "code",
   "execution_count": 2,
   "metadata": {},
   "outputs": [
    {
     "data": {
      "text/plain": [
       "[('A', 'A'),\n",
       " ('A', 'B'),\n",
       " ('A', 'C'),\n",
       " ('A', 'D'),\n",
       " ('B', 'A'),\n",
       " ('B', 'B'),\n",
       " ('B', 'C'),\n",
       " ('B', 'D'),\n",
       " ('C', 'A'),\n",
       " ('C', 'B'),\n",
       " ('C', 'C'),\n",
       " ('C', 'D'),\n",
       " ('D', 'A'),\n",
       " ('D', 'B'),\n",
       " ('D', 'C'),\n",
       " ('D', 'D')]"
      ]
     },
     "execution_count": 2,
     "metadata": {},
     "output_type": "execute_result"
    }
   ],
   "source": [
    "import itertools\n",
    "\"\"\"\n",
    "product(): 데카르트 곱. 중첩된 for 루프와와 동일\n",
    "\"\"\"\n",
    "list(itertools.product('ABCD', repeat=2))"
   ]
  },
  {
   "cell_type": "code",
   "execution_count": 5,
   "metadata": {},
   "outputs": [
    {
     "data": {
      "text/plain": [
       "[('A', 'B'),\n",
       " ('A', 'C'),\n",
       " ('A', 'D'),\n",
       " ('B', 'A'),\n",
       " ('B', 'C'),\n",
       " ('B', 'D'),\n",
       " ('C', 'A'),\n",
       " ('C', 'B'),\n",
       " ('C', 'D'),\n",
       " ('D', 'A'),\n",
       " ('D', 'B'),\n",
       " ('D', 'C')]"
      ]
     },
     "execution_count": 5,
     "metadata": {},
     "output_type": "execute_result"
    }
   ],
   "source": [
    "# 순열\n",
    "\n",
    "list(itertools.permutations('ABCD', 2))"
   ]
  },
  {
   "cell_type": "code",
   "execution_count": 6,
   "metadata": {},
   "outputs": [
    {
     "data": {
      "text/plain": [
       "[('A', 'B'), ('A', 'C'), ('A', 'D'), ('B', 'C'), ('B', 'D'), ('C', 'D')]"
      ]
     },
     "execution_count": 6,
     "metadata": {},
     "output_type": "execute_result"
    }
   ],
   "source": [
    "# 조합\n",
    "\n",
    "list(itertools.combinations('ABCD', 2))"
   ]
  },
  {
   "cell_type": "code",
   "execution_count": 7,
   "metadata": {},
   "outputs": [
    {
     "data": {
      "text/plain": [
       "[('A', 'A'),\n",
       " ('A', 'B'),\n",
       " ('A', 'C'),\n",
       " ('A', 'D'),\n",
       " ('B', 'B'),\n",
       " ('B', 'C'),\n",
       " ('B', 'D'),\n",
       " ('C', 'C'),\n",
       " ('C', 'D'),\n",
       " ('D', 'D')]"
      ]
     },
     "execution_count": 7,
     "metadata": {},
     "output_type": "execute_result"
    }
   ],
   "source": [
    "# 개별요소 반복 허용\n",
    "\n",
    "list(itertools.combinations_with_replacement('ABCD', 2))"
   ]
  },
  {
   "cell_type": "code",
   "execution_count": null,
   "metadata": {},
   "outputs": [],
   "source": []
  }
 ],
 "metadata": {
  "kernelspec": {
   "display_name": "Python 3",
   "language": "python",
   "name": "python3"
  },
  "language_info": {
   "codemirror_mode": {
    "name": "ipython",
    "version": 3
   },
   "file_extension": ".py",
   "mimetype": "text/x-python",
   "name": "python",
   "nbconvert_exporter": "python",
   "pygments_lexer": "ipython3",
   "version": "3.11.3"
  }
 },
 "nbformat": 4,
 "nbformat_minor": 2
}
