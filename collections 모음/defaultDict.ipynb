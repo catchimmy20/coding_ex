{
 "cells": [
  {
   "cell_type": "markdown",
   "metadata": {},
   "source": [
    "#### 06 defaultdict\n",
    "- 키로 어떤 값이 들어올 지 모를 경우 사용"
   ]
  },
  {
   "cell_type": "code",
   "execution_count": null,
   "metadata": {},
   "outputs": [],
   "source": [
    "from collections import defaultdict\n",
    "\n",
    "oneDict = {'one':1, 'two':2, 'three':3}\n",
    "d = defaultdict(oneDict) # 에러, 초기값을 지정해줘야됨\n",
    "d"
   ]
  },
  {
   "cell_type": "code",
   "execution_count": 2,
   "metadata": {},
   "outputs": [
    {
     "data": {
      "text/plain": [
       "defaultdict(str, {'one': '1', 'two': '2', 'three': ''})"
      ]
     },
     "execution_count": 2,
     "metadata": {},
     "output_type": "execute_result"
    }
   ],
   "source": [
    "# 빈 값이 들어왔을 때 지정해준 디폴트 값이 들어감\n",
    "d = defaultdict(str)\n",
    "d['one'] = '1'\n",
    "d['two'] = '2'\n",
    "d['three']\n",
    "d # defaultdict(str, {'one': '1', 'two': '2', 'three': ''})"
   ]
  },
  {
   "cell_type": "code",
   "execution_count": 3,
   "metadata": {},
   "outputs": [
    {
     "data": {
      "text/plain": [
       "defaultdict(list, {'one': '1', 'two': '2', 'three': []})"
      ]
     },
     "execution_count": 3,
     "metadata": {},
     "output_type": "execute_result"
    }
   ],
   "source": [
    "# 빈 값이 들어왔을 때 지정해준 디폴트 값이 들어감\n",
    "d = defaultdict(list)\n",
    "d['one'] = '1'\n",
    "d['two'] = '2'\n",
    "d['three']\n",
    "d # defaultdict(list, {'one': '1', 'two': '2', 'three': []})"
   ]
  },
  {
   "cell_type": "code",
   "execution_count": 4,
   "metadata": {},
   "outputs": [
    {
     "data": {
      "text/plain": [
       "defaultdict(int, {'one': 1, 'two': 2, 'three': 0})"
      ]
     },
     "execution_count": 4,
     "metadata": {},
     "output_type": "execute_result"
    }
   ],
   "source": [
    "# 빈 값이 들어왔을 때 지정해준 디폴트 값이 들어감\n",
    "d = defaultdict(int)\n",
    "d['one'] = 1\n",
    "d['two'] = 2\n",
    "d['three']\n",
    "d # defaultdict(int, {'one': 1, 'two': 2, 'three': 0})"
   ]
  },
  {
   "cell_type": "code",
   "execution_count": null,
   "metadata": {},
   "outputs": [],
   "source": [
    "dir(d)\n",
    "# 딕셔너리와 동일한 메소드"
   ]
  },
  {
   "cell_type": "code",
   "execution_count": 6,
   "metadata": {},
   "outputs": [
    {
     "data": {
      "text/plain": [
       "defaultdict(int, {0: 1, 1: 1, 2: 1, 3: 1, 4: 1, 5: 1, 6: 1, 7: 1, 8: 1, 9: 1})"
      ]
     },
     "execution_count": 6,
     "metadata": {},
     "output_type": "execute_result"
    }
   ],
   "source": [
    "# 일반 딕셔너리는 에러가 남\n",
    "d = defaultdict(int)\n",
    "for i in range(10):\n",
    "    d[i] += 1\n",
    "    \n",
    "d # defaultdict(int, {0: 1, 1: 1, 2: 1, 3: 1, 4: 1, 5: 1, 6: 1, 7: 1, 8: 1, 9: 1})"
   ]
  },
  {
   "cell_type": "code",
   "execution_count": 9,
   "metadata": {},
   "outputs": [
    {
     "data": {
      "text/plain": [
       "defaultdict(list,\n",
       "            {'천': ['인스타그램클론', 'MBTI페이지 만들기', '눈떠보니코테전날'],\n",
       "             '십': ['정규표현식'],\n",
       "             '백': ['PYTHON부트캠프']})"
      ]
     },
     "execution_count": 9,
     "metadata": {},
     "output_type": "execute_result"
    }
   ],
   "source": [
    "# 특히 리스트의 경우 여러개의 중복값을 저장하기 위한 용도로 많이 사용\n",
    "\n",
    "# (강좌명, 수강생 수)\n",
    "강좌 = [\n",
    "    ('인스타그램클론', 1123),\n",
    "    ('정규표현식', 23),\n",
    "    ('MBTI페이지 만들기', 1313),\n",
    "    ('PYTHON부트캠프', 312),\n",
    "    ('눈떠보니코테전날', 1623),\n",
    "]\n",
    "\n",
    "d = defaultdict(list)\n",
    "for 강의, 수강생 in 강좌: \n",
    "    if 수강생 < 100 : d['십'].append(강의)\n",
    "    elif 수강생 < 1000 : d['백'].append(강의)\n",
    "    elif 수강생 < 10000 : d['천'].append(강의)\n",
    "d"
   ]
  }
 ],
 "metadata": {
  "kernelspec": {
   "display_name": "Python 3",
   "language": "python",
   "name": "python3"
  },
  "language_info": {
   "codemirror_mode": {
    "name": "ipython",
    "version": 3
   },
   "file_extension": ".py",
   "mimetype": "text/x-python",
   "name": "python",
   "nbconvert_exporter": "python",
   "pygments_lexer": "ipython3",
   "version": "3.11.3"
  }
 },
 "nbformat": 4,
 "nbformat_minor": 2
}
