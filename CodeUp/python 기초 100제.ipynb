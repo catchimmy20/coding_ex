{
 "cells": [
  {
   "cell_type": "code",
   "execution_count": null,
   "metadata": {},
   "outputs": [],
   "source": [
    "# 6006 /   \n",
    "\n",
    "print(\"\\\"!@#$%^&*()\\'\")\n",
    "print(\"\\\"C:\\\\Download\\\\\\'hello\\'.py\\\"\")\n",
    "print(\"print(\\\"Hello\\\\nWorld\\\")\")"
   ]
  },
  {
   "cell_type": "code",
   "execution_count": null,
   "metadata": {},
   "outputs": [],
   "source": [
    "# 6019\n",
    "y, m, d = input().split('.')\n",
    "print(f\"{d}-{m}-{y}\")"
   ]
  },
  {
   "cell_type": "code",
   "execution_count": null,
   "metadata": {},
   "outputs": [],
   "source": [
    "# 6045\n",
    "# num = list(map(int, input().split()))\n",
    "# print(sum(num), sum(num)/len(num))\n",
    "\n",
    "a, b, c = map(int, input().split())\n",
    "sum = a+b+c\n",
    "avg = sum/3\n",
    "print(\"%d %.2f\" % (sum, avg))"
   ]
  },
  {
   "cell_type": "code",
   "execution_count": 4,
   "metadata": {},
   "outputs": [
    {
     "name": "stdout",
     "output_type": "stream",
     "text": [
      "10\n"
     ]
    }
   ],
   "source": [
    "# 6079\n",
    "n = int(input())\n",
    "result = 0\n",
    "for i in range(1, n+1):\n",
    "    result += i\n",
    "    if result >= n: \n",
    "        print(i)\n",
    "        break;"
   ]
  },
  {
   "cell_type": "code",
   "execution_count": 3,
   "metadata": {},
   "outputs": [
    {
     "name": "stdout",
     "output_type": "stream",
     "text": [
      "55\n"
     ]
    }
   ],
   "source": [
    "result = sum(i for i in range(1, 11))\n",
    "print(result)"
   ]
  },
  {
   "cell_type": "code",
   "execution_count": 10,
   "metadata": {},
   "outputs": [
    {
     "name": "stdout",
     "output_type": "stream",
     "text": [
      "1 2 X 4 5 X 7 8 X 10 11 12 X 14 15 X 17 18 X 20 21 22 X 24 25 X 27 28 "
     ]
    }
   ],
   "source": [
    "# 6082 \n",
    "n = int(input())\n",
    "\n",
    "for i in range(1, n+1):\n",
    "    if \"3\" in str(i):\n",
    "        print(\"X\", end=\" \")\n",
    "    elif \"6\" in str(i):\n",
    "        print(\"X\", end=\" \")\n",
    "    elif \"9\" in str(i):\n",
    "        print(\"X\", end=\" \")\n",
    "    else:\n",
    "        print(i, end=\" \")"
   ]
  },
  {
   "cell_type": "code",
   "execution_count": 11,
   "metadata": {},
   "outputs": [
    {
     "name": "stdout",
     "output_type": "stream",
     "text": [
      "1 2 X 4 5 X 7 8 X 10 11 12 X 14 15 X 17 18 X 20 21 22 X 24 25 X 27 28 "
     ]
    }
   ],
   "source": [
    "# 6082 \n",
    "n = int(input())\n",
    "# set활용\n",
    "clap_numbers = {'3', '6', '9'}\n",
    "\n",
    "for i in range(1, n + 1):\n",
    "    if any(digit in clap_numbers for digit in str(i)):\n",
    "        print(\"X\", end=\" \")\n",
    "    else:\n",
    "        print(i, end=\" \")\n"
   ]
  },
  {
   "cell_type": "code",
   "execution_count": 5,
   "metadata": {},
   "outputs": [
    {
     "name": "stdout",
     "output_type": "stream",
     "text": [
      "3\n",
      "6\n"
     ]
    }
   ],
   "source": [
    "# 10/23\n",
    "# 1165 : 축구의 신 1\n",
    "time, score = map(int, input().split())\n",
    "remaining_t = 90 - time\n",
    "if remaining_t % 5 == 0:\n",
    "    # 마지막 90분 득점 x\n",
    "    score += remaining_t//5\n",
    "else:\n",
    "    score += remaining_t // 5 + 1\n",
    "print(score)"
   ]
  },
  {
   "cell_type": "code",
   "execution_count": 3,
   "metadata": {},
   "outputs": [
    {
     "name": "stdout",
     "output_type": "stream",
     "text": [
      "2\n"
     ]
    }
   ],
   "source": [
    "# 1167 : 두 번째 수\n",
    "\n",
    "a, b, c = map(int, input().split())\n",
    "mid = 0\n",
    "if a < b:\n",
    "    if b < c:\n",
    "        mid = b\n",
    "    elif c < a:\n",
    "        mid = a\n",
    "    else:\n",
    "        mid = c\n",
    "else:\n",
    "    if a < c:\n",
    "        mid = a\n",
    "    elif c < b:\n",
    "        mid = b\n",
    "    else:\n",
    "        mid = c\n",
    "print(mid)    "
   ]
  },
  {
   "cell_type": "code",
   "execution_count": 9,
   "metadata": {},
   "outputs": [
    {
     "name": "stdout",
     "output_type": "stream",
     "text": [
      "23 40\n"
     ]
    }
   ],
   "source": [
    "# 1173 : 30분전\n",
    "\n",
    "h, m = map(int, input().split())\n",
    "if m >= 30:\n",
    "    m -= 30\n",
    "else:\n",
    "    if h == 0:\n",
    "        h = 23\n",
    "        m += 30\n",
    "    else:\n",
    "        h -= 1\n",
    "        m += 30\n",
    "print(h, m)"
   ]
  },
  {
   "cell_type": "markdown",
   "metadata": {},
   "source": [
    "https://codeup.kr/problem.php?id=1205"
   ]
  },
  {
   "cell_type": "code",
   "execution_count": 2,
   "metadata": {},
   "outputs": [
    {
     "name": "stdout",
     "output_type": "stream",
     "text": [
      "16.000000\n"
     ]
    }
   ],
   "source": [
    "# 10/24\n",
    "# 1205 : 최댓값\n",
    "a, b = map(float, input().split())\n",
    "\n",
    "plus = a + b\n",
    "minus = abs(a - b) \n",
    "multiple = a * b\n",
    "divide_1 = a / b\n",
    "divide_2 = b / a\n",
    "pow_1 = a**b\n",
    "pow_2 = b**a\n",
    "max = 0\n",
    "values = [plus, minus, multiple, divide_1, divide_2, pow_1, pow_2]\n",
    "for i in values:\n",
    "    if max < i:\n",
    "        max = i\n",
    "print(\"%.6f\"%max)"
   ]
  },
  {
   "cell_type": "markdown",
   "metadata": {},
   "source": [
    "#### 파이썬 문자열 뒤집기\n",
    "https://blockdmask.tistory.com/581\n"
   ]
  },
  {
   "cell_type": "code",
   "execution_count": 14,
   "metadata": {},
   "outputs": [
    {
     "name": "stdout",
     "output_type": "stream",
     "text": [
      "42\n",
      "GOOD\n"
     ]
    }
   ],
   "source": [
    "# 1180 : 만능 휴지통\n",
    "n = input()\n",
    "new_n = ''\n",
    "for i in n:\n",
    "    new_n = i + new_n\n",
    "num = int(new_n) * 2\n",
    "\n",
    "if num > 100:\n",
    "    num %= 100\n",
    "print(num)\n",
    "if num <= 50:\n",
    "    print(\"GOOD\")\n",
    "else:\n",
    "    print(\"OH MY GOD\")"
   ]
  },
  {
   "cell_type": "markdown",
   "metadata": {},
   "source": [
    "pop(x)는 리스트의 x번째 요소를 리턴하고 그 요소는 삭제<br>\n",
    "-> pop은 값이 아니라 인덱스를 넣어야 함.\n",
    "\n",
    "https://wikidocs.net/14#-pop"
   ]
  },
  {
   "cell_type": "code",
   "execution_count": null,
   "metadata": {},
   "outputs": [],
   "source": [
    "# 1212 : 삼각형의 성립 조건\n",
    "\n",
    "sides = list(map(int, input().split()))\n",
    "max_side = max(sides)\n",
    "# sides.pop(max_side)\n",
    "sides.remove(max_side)\n",
    "if max_side < sum(sides):\n",
    "    print(\"yes\")\n",
    "else:\n",
    "    print(\"no\")"
   ]
  },
  {
   "cell_type": "code",
   "execution_count": 8,
   "metadata": {},
   "outputs": [
    {
     "name": "stdout",
     "output_type": "stream",
     "text": [
      "31\n"
     ]
    }
   ],
   "source": [
    "# 1214 : 이 달은 며칠까지 있을까? - 딕셔너리로도 가능할듯?\n",
    "y, m = map(int, input().split())\n",
    "day_31 = [1, 3, 5, 7, 8, 10, 12]\n",
    "\n",
    "if m in day_31:\n",
    "    print(31)\n",
    "elif m == 2:\n",
    "    # 윤년일 경우\n",
    "    if (y%400 == 0) or (y%4 == 0 and y%100 != 0):\n",
    "        print(29)\n",
    "    else: print(28)\n",
    "else:\n",
    "    print(30)"
   ]
  },
  {
   "cell_type": "code",
   "execution_count": 9,
   "metadata": {},
   "outputs": [
    {
     "name": "stdout",
     "output_type": "stream",
     "text": [
      "정삼각형\n"
     ]
    }
   ],
   "source": [
    "# 1218 : 삼각형 판단하기\n",
    "a, b, c = map(int, input().split())\n",
    "\n",
    "if c < a + b:\n",
    "    if a == b == c:\n",
    "        print(\"정삼각형\")\n",
    "    elif a == b or b == c:\n",
    "        print(\"이등변삼각형\")\n",
    "    elif a**2 + b**2 == c**2:\n",
    "        print(\"직각삼각형\")\n",
    "    else:\n",
    "        print(\"삼각형\")\n",
    "else:\n",
    "    print(\"삼각형아님\")"
   ]
  },
  {
   "cell_type": "code",
   "execution_count": 10,
   "metadata": {},
   "outputs": [
    {
     "name": "stdout",
     "output_type": "stream",
     "text": [
      "0\n"
     ]
    }
   ],
   "source": [
    "# 1226 : 이번 주 로또\n",
    "lottery = list(map(int, input().split()))\n",
    "my_num = list(map(int, input().split()))\n",
    "count = 0\n",
    "bonus = 0\n",
    "for i in my_num:\n",
    "    if i in lottery:\n",
    "        count += 1\n",
    "    if i == lottery[-1]:\n",
    "        bonus = 1\n",
    "        count -= 1\n",
    "if count == 6:\n",
    "    print(1)\n",
    "elif count == 5 and bonus == 1:\n",
    "    print(2)\n",
    "elif count == 5:\n",
    "    print(3)\n",
    "elif count == 4:\n",
    "    print(4)\n",
    "elif count == 3:\n",
    "    print(5)\n",
    "else:\n",
    "    print(0)"
   ]
  },
  {
   "cell_type": "code",
   "execution_count": 11,
   "metadata": {},
   "outputs": [
    {
     "name": "stdout",
     "output_type": "stream",
     "text": [
      "비만\n"
     ]
    }
   ],
   "source": [
    "# 1228 : 비만도 측정 1\n",
    "height, weight = map(float, input().split())\n",
    "standard = (height - 100)*0.9\n",
    "obesity = (weight-standard)*100/standard\n",
    "if obesity <= 10:\n",
    "    print(\"정상\")\n",
    "elif 10 < obesity <= 20:\n",
    "    print(\"과체중\")\n",
    "else:\n",
    "    print(\"비만\")"
   ]
  },
  {
   "cell_type": "code",
   "execution_count": 15,
   "metadata": {},
   "outputs": [
    {
     "name": "stdout",
     "output_type": "stream",
     "text": [
      "3.33\n"
     ]
    }
   ],
   "source": [
    "# 1231 : 계산기 1\n",
    "exp = input()\n",
    "\n",
    "if \"+\" in exp:\n",
    "    a, b = map(int, exp.split(\"+\"))\n",
    "    print(a+b)\n",
    "elif \"-\" in exp:\n",
    "    a, b = map(int, exp.split(\"-\"))\n",
    "    print(a - b)\n",
    "elif \"*\" in exp:\n",
    "    a, b = map(int, exp.split(\"*\"))\n",
    "    print(a * b)\n",
    "elif \"/\" in exp:\n",
    "    a, b = map(int, exp.split(\"/\"))\n",
    "    print(\"%.2f\"%(a / b))"
   ]
  },
  {
   "cell_type": "code",
   "execution_count": 2,
   "metadata": {},
   "outputs": [
    {
     "name": "stdout",
     "output_type": "stream",
     "text": [
      "7\n",
      "4\n",
      "2\n",
      "3\n"
     ]
    }
   ],
   "source": [
    "# 1071 : [기초-반복실행구조] 0 입력될 때까지 무한 출력하기1\n",
    "# 파이썬은 goto문이 없음\n",
    "\n",
    "n_list = list(map(int, input().split()))\n",
    "for i in n_list:\n",
    "    if i == 0:\n",
    "        break\n",
    "    print(i)"
   ]
  },
  {
   "cell_type": "markdown",
   "metadata": {},
   "source": [
    "https://school.programmers.co.kr/learn/courses/30/lessons/181943"
   ]
  },
  {
   "cell_type": "code",
   "execution_count": 6,
   "metadata": {},
   "outputs": [
    {
     "data": {
      "text/plain": [
       "'HelloWorld'"
      ]
     },
     "execution_count": 6,
     "metadata": {},
     "output_type": "execute_result"
    }
   ],
   "source": [
    "# 프로그래머스/코딩기초트레이닝 - 문자열 겹쳐쓰기 \n",
    "\n",
    "def solution(my_string, overwrite_string, s):\n",
    "    answer = \"\"\n",
    "    answer = my_string[0:s] + overwrite_string + my_string[s + len(overwrite_string):]\n",
    "    return answer\n",
    "\n",
    "solution(\"Program29b8UYP\", \"merS123\", 7)\n",
    "solution(\"He11oWor1d\", \"lloWorl\", 2)"
   ]
  },
  {
   "cell_type": "code",
   "execution_count": 2,
   "metadata": {},
   "outputs": [
    {
     "name": "stdout",
     "output_type": "stream",
     "text": [
      "[[0, 0, 0, 0], [0, 0, 0, 0], [0, 0, 0, 0], [0, 0, 0, 0]]\n",
      "[[0, 0, 0, 0], [0, 0, 0, 0], [0, 0, 0, 0], [0, 0, 0, 0]]\n"
     ]
    }
   ],
   "source": [
    "n = 4\n",
    "answer = [[0 for _ in range(n)] for _ in range(n)]\n",
    "d = [[0]*n for _ in range(n)]\n",
    "print(answer)\n",
    "print(d)"
   ]
  },
  {
   "cell_type": "code",
   "execution_count": null,
   "metadata": {},
   "outputs": [],
   "source": []
  }
 ],
 "metadata": {
  "kernelspec": {
   "display_name": "Python 3",
   "language": "python",
   "name": "python3"
  },
  "language_info": {
   "codemirror_mode": {
    "name": "ipython",
    "version": 3
   },
   "file_extension": ".py",
   "mimetype": "text/x-python",
   "name": "python",
   "nbconvert_exporter": "python",
   "pygments_lexer": "ipython3",
   "version": "3.11.3"
  }
 },
 "nbformat": 4,
 "nbformat_minor": 2
}
